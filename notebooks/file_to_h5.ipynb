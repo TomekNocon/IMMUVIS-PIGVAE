{
 "cells": [
  {
   "cell_type": "code",
   "execution_count": 2,
   "id": "90b4ec0f",
   "metadata": {},
   "outputs": [],
   "source": [
    "import h5py\n",
    "import numpy as np\n",
    "import pickle\n",
    "from pathlib import Path\n",
    "# One-time conversion from your pickle to HDF5\n",
    "def convert_pickle_to_hdf5(pickle_path, hdf5_path):\n",
    "    with open(pickle_path, 'rb') as f:\n",
    "        data_list = pickle.load(f)\n",
    "    \n",
    "    with h5py.File(hdf5_path, 'w') as f:\n",
    "        # Store each dictionary field as separate datasets\n",
    "        for key in data_list[0].keys():\n",
    "            if key == 'img_path':\n",
    "                continue\n",
    "            # Convert to numpy, keep float32, stack along first axis\n",
    "            values = [item[key] for item in data_list]  # already float32\n",
    "            f.create_dataset(key, data=np.stack(values, axis=0), dtype='float32')"
   ]
  },
  {
   "cell_type": "code",
   "execution_count": 6,
   "id": "ac3986d3",
   "metadata": {},
   "outputs": [],
   "source": [
    "train_path = Path(\"../data\") / 'IMC-sample' / 'train.pkl'\n",
    "train_hdf5_path = Path(\"../data\") / 'IMC-sample' / 'train.h5'\n",
    "\n",
    "test_path = Path(\"../data\") / 'IMC-sample' / 'test.pkl'\n",
    "test_hdf5_path = Path(\"../data\") / 'IMC-sample' / 'test.h5'"
   ]
  },
  {
   "cell_type": "code",
   "execution_count": 7,
   "id": "e62d8237",
   "metadata": {},
   "outputs": [],
   "source": [
    "convert_pickle_to_hdf5(train_path, train_hdf5_path)"
   ]
  },
  {
   "cell_type": "code",
   "execution_count": 8,
   "id": "4543ca62",
   "metadata": {},
   "outputs": [],
   "source": [
    "convert_pickle_to_hdf5(test_path, test_hdf5_path)"
   ]
  },
  {
   "cell_type": "code",
   "execution_count": null,
   "id": "180e012f",
   "metadata": {},
   "outputs": [],
   "source": []
  }
 ],
 "metadata": {
  "kernelspec": {
   "display_name": ".venv",
   "language": "python",
   "name": "python3"
  },
  "language_info": {
   "codemirror_mode": {
    "name": "ipython",
    "version": 3
   },
   "file_extension": ".py",
   "mimetype": "text/x-python",
   "name": "python",
   "nbconvert_exporter": "python",
   "pygments_lexer": "ipython3",
   "version": "3.12.11"
  }
 },
 "nbformat": 4,
 "nbformat_minor": 5
}
