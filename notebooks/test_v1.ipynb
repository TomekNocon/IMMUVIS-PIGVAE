{
 "cells": [
  {
   "cell_type": "code",
   "execution_count": 1,
   "id": "a59b757a",
   "metadata": {},
   "outputs": [],
   "source": [
    "%load_ext autoreload\n",
    "%autoreload 2"
   ]
  },
  {
   "cell_type": "code",
   "execution_count": 92,
   "id": "52d9f0c0",
   "metadata": {},
   "outputs": [],
   "source": [
    "import os\n",
    "import rootutils\n",
    "\n",
    "rootutils.setup_root(os.getcwd(), indicator=\".project-root\", pythonpath=True)\n",
    "\n",
    "from torchvision import transforms\n",
    "import torch\n",
    "from src.data.components.graphs_datamodules import (\n",
    "    IMCBaseDictTransform,\n",
    "    PickleDataset,\n",
    "    PatchAugmentations,\n",
    ")\n",
    "from src.data.imc_datamodule import add_channel\n",
    "import src.data.components.graphs_datamodules as gd\n",
    "from torchvision.datasets import MNIST\n",
    "from torch.utils.data import ConcatDataset, Dataset, random_split"
   ]
  },
  {
   "cell_type": "code",
   "execution_count": 93,
   "id": "4286e3f1",
   "metadata": {},
   "outputs": [],
   "source": [
    "from pathlib import Path"
   ]
  },
  {
   "cell_type": "code",
   "execution_count": 94,
   "id": "25558e2b",
   "metadata": {},
   "outputs": [],
   "source": [
    "from src.models.components.plot import restore_tensor\n",
    "import matplotlib.pyplot as plt\n",
    "\n",
    "base_transforms = IMCBaseDictTransform()\n",
    "\n",
    "aug_transforms_train = gd.PatchAugmentations(\n",
    "    prob=1.0,\n",
    "    size=13,\n",
    "    patch_size=1,\n",
    ")\n",
    "\n",
    "aug_transforms_val = gd.PatchAugmentations(\n",
    "    prob=1.0,\n",
    "    size=13,\n",
    "    patch_size=1,\n",
    "    is_validation=True,\n",
    ")\n",
    "\n",
    "dual_transforms_train = gd.DualOutputTransform(base_transforms, aug_transforms_train)\n",
    "\n",
    "dual_transforms_val = gd.DualOutputTransform(base_transforms, aug_transforms_val)\n",
    "\n",
    "train_path = Path(\"../data\") / 'IMC-sample' / 'train.h5'\n",
    "test_path = Path(\"../data\") / 'IMC-sample' / 'test.h5'\n",
    "trainset = PickleDataset(train_path, transform=dual_transforms_train)\n",
    "testset = PickleDataset(train_path, transform=dual_transforms_val)\n",
    "train_ratio, val_ratio, test_ratio, leftover_ratio = [3600, 1044, 0, 0]\n",
    "size_testset = len(testset)\n",
    "size_trainset = len(trainset)\n",
    "data_train, _ = random_split(\n",
    "    dataset=trainset,\n",
    "    lengths=[train_ratio, size_trainset - train_ratio],\n",
    "    generator=torch.Generator().manual_seed(42),\n",
    ")\n",
    "# dataset = ConcatDataset(datasets=[trainset, testset])\n",
    "data_val, data_test, _ = random_split(\n",
    "    dataset=testset,\n",
    "    lengths=[val_ratio, test_ratio, size_testset - val_ratio - test_ratio],\n",
    "    generator=torch.Generator().manual_seed(42),\n",
    ")\n",
    "\n",
    "train_dataset = gd.GridGraphDataset(grid_size=13, dataset=data_train, channels=list(range(10)))\n",
    "\n",
    "train_loader = gd.DenseGraphDataLoader(\n",
    "    dataset=train_dataset,\n",
    "    batch_size=8,\n",
    "    num_workers=7,\n",
    "    pin_memory=False,\n",
    "    persistent_workers=7 > 0,\n",
    ")"
   ]
  },
  {
   "cell_type": "code",
   "execution_count": 95,
   "id": "099e6d8d",
   "metadata": {},
   "outputs": [
    {
     "name": "stdout",
     "output_type": "stream",
     "text": [
      "<src.data.components.graphs_datamodules.DenseGraphBatch object at 0x3775a8650>\n"
     ]
    }
   ],
   "source": [
    "for el in train_loader:\n",
    "    print(el)\n",
    "    break"
   ]
  },
  {
   "cell_type": "code",
   "execution_count": 96,
   "id": "311d6885",
   "metadata": {},
   "outputs": [
    {
     "data": {
      "text/plain": [
       "torch.Size([64, 169, 10])"
      ]
     },
     "execution_count": 96,
     "metadata": {},
     "output_type": "execute_result"
    }
   ],
   "source": [
    "el.node_features.shape"
   ]
  },
  {
   "cell_type": "code",
   "execution_count": 97,
   "id": "ce4717a1",
   "metadata": {},
   "outputs": [],
   "source": [
    "# Import necessary modules for PLGraphAE\n",
    "import os\n",
    "import rootutils\n",
    "\n",
    "rootutils.setup_root(os.getcwd(), indicator=\".project-root\", pythonpath=True)\n",
    "\n",
    "import torch\n",
    "import lightning as L\n",
    "from omegaconf import DictConfig, OmegaConf\n",
    "from src.models.pigvae_auto_module import PLGraphAE\n",
    "from src.models.components.modules import GraphAE\n",
    "from src.models.components.schedulers import TemperatureScheduler, EntropyWeightScheduler\n",
    "from src.models.components.model import Critic\n",
    "from src.data.components.graphs_datamodules import DenseGraphBatch\n"
   ]
  },
  {
   "cell_type": "code",
   "execution_count": 98,
   "id": "2685f657",
   "metadata": {},
   "outputs": [
    {
     "name": "stdout",
     "output_type": "stream",
     "text": [
      "Converting configurations to DictConfig...\n",
      "Creating GraphAE from resolved config...\n",
      "GraphAE created successfully!\n",
      "Creating schedulers...\n",
      "Creating critic...\n",
      "Creating optimizer (dummy for loading)...\n",
      "Creating scheduler (dummy for loading)...\n",
      "All components created successfully!\n"
     ]
    }
   ],
   "source": [
    "import yaml\n",
    "\n",
    "# Path to your YAML config file\n",
    "config_path = \"../configs/model/model.yaml\"\n",
    "\n",
    "# Load the YAML file\n",
    "with open(config_path, \"r\") as f:\n",
    "    model_config_raw = yaml.safe_load(f)\n",
    "\n",
    "print(\"Converting configurations to DictConfig...\")\n",
    "\n",
    "# Register custom OmegaConf resolvers for multiply and divide\n",
    "from omegaconf import OmegaConf\n",
    "\n",
    "# Register multiply resolver if not already registered\n",
    "if not OmegaConf.has_resolver(\"multiply\"):\n",
    "    OmegaConf.register_new_resolver(\"multiply\", lambda x, y: x * y)\n",
    "\n",
    "# Register divide resolver if not already registered\n",
    "if not OmegaConf.has_resolver(\"divide\"):\n",
    "    OmegaConf.register_new_resolver(\"divide\", lambda x, y: x // y)\n",
    "\n",
    "# Wrap the config under 'model' and 'data' keys so interpolations work\n",
    "# Also provide the missing data.hparams.num_aug_per_sample value\n",
    "full_config = OmegaConf.create({\n",
    "    \"model\": model_config_raw,\n",
    "    \"data\": {\n",
    "        \"hparams\": {\n",
    "            \"num_aug_per_sample\": 8,\n",
    "            \"batch_size\": 8\n",
    "        }\n",
    "    },\n",
    "    \"trainer\": {\n",
    "        \"max_epochs\": 500,  # Set these to match your training config\n",
    "        \"min_epochs\": 1\n",
    "    }\n",
    "})\n",
    "\n",
    "# Now resolve all interpolations\n",
    "OmegaConf.resolve(full_config)\n",
    "\n",
    "print(\"Creating GraphAE from resolved config...\")\n",
    "graph_ae = GraphAE(hparams=full_config.model.graph_ae.hparams)\n",
    "print(\"GraphAE created successfully!\")\n",
    "\n",
    "print(\"Creating schedulers...\")\n",
    "temperature_scheduler = TemperatureScheduler(hparams=full_config.model.temperature_scheduler.hparams)\n",
    "entropy_weight_scheduler = EntropyWeightScheduler(hparams=full_config.model.entropy_weight_scheduler.hparams)\n",
    "\n",
    "print(\"Creating critic...\")\n",
    "critic = Critic(hparams=full_config.model.critic.hparams)\n",
    "\n",
    "print(\"Creating optimizer (dummy for loading)...\")\n",
    "# Create a dummy optimizer for loading (it will be overridden by the checkpoint)\n",
    "optimizer = torch.optim.Adam(graph_ae.parameters(), lr=0.0001)\n",
    "\n",
    "print(\"Creating scheduler (dummy for loading)...\")\n",
    "# Create a dummy scheduler for loading\n",
    "scheduler = torch.optim.lr_scheduler.StepLR(optimizer, step_size=1)\n",
    "\n",
    "print(\"All components created successfully!\")\n"
   ]
  },
  {
   "cell_type": "code",
   "execution_count": 99,
   "id": "67aecfdd",
   "metadata": {},
   "outputs": [
    {
     "name": "stdout",
     "output_type": "stream",
     "text": [
      "Creating PLGraphAE model...\n",
      "PLGraphAE model created successfully!\n"
     ]
    },
    {
     "name": "stderr",
     "output_type": "stream",
     "text": [
      "/Users/tomasznocon/Documents/MIM/Repositories/Master thesis/immuvis/.venv/lib/python3.12/site-packages/lightning/pytorch/utilities/parsing.py:209: Attribute 'critic' is an instance of `nn.Module` and is already saved during checkpointing. It is recommended to ignore them using `self.save_hyperparameters(ignore=['critic'])`.\n",
      "/Users/tomasznocon/Documents/MIM/Repositories/Master thesis/immuvis/.venv/lib/python3.12/site-packages/lightning/pytorch/utilities/parsing.py:209: Attribute 'temperature_scheduler' is an instance of `nn.Module` and is already saved during checkpointing. It is recommended to ignore them using `self.save_hyperparameters(ignore=['temperature_scheduler'])`.\n",
      "/Users/tomasznocon/Documents/MIM/Repositories/Master thesis/immuvis/.venv/lib/python3.12/site-packages/lightning/pytorch/utilities/parsing.py:209: Attribute 'entropy_weight_scheduler' is an instance of `nn.Module` and is already saved during checkpointing. It is recommended to ignore them using `self.save_hyperparameters(ignore=['entropy_weight_scheduler'])`.\n",
      "/Users/tomasznocon/Documents/MIM/Repositories/Master thesis/immuvis/.venv/lib/python3.12/site-packages/lightning/pytorch/utilities/parsing.py:209: Attribute 'graph_ae' is an instance of `nn.Module` and is already saved during checkpointing. It is recommended to ignore them using `self.save_hyperparameters(ignore=['graph_ae'])`.\n"
     ]
    }
   ],
   "source": [
    "# Create the PLGraphAE model\n",
    "print(\"Creating PLGraphAE model...\")\n",
    "model = PLGraphAE(\n",
    "    graph_ae=graph_ae,\n",
    "    critic=critic,\n",
    "    temperature_scheduler=temperature_scheduler,\n",
    "    entropy_weight_scheduler=entropy_weight_scheduler,\n",
    "    optimizer=optimizer,\n",
    "    scheduler=scheduler,\n",
    "    compile=False\n",
    ")\n",
    "\n",
    "print(\"PLGraphAE model created successfully!\")\n"
   ]
  },
  {
   "cell_type": "code",
   "execution_count": 100,
   "id": "acd71067",
   "metadata": {},
   "outputs": [
    {
     "name": "stdout",
     "output_type": "stream",
     "text": [
      "Loading checkpoint from: ../logs/train/runs/2025-10-14_23-57-01/checkpoints/last.ckpt\n",
      "This may take a moment...\n",
      "Checkpoint loaded successfully!\n",
      "Model weights loaded successfully!\n",
      "Model is ready for inference!\n"
     ]
    }
   ],
   "source": [
    "# Load the checkpoint\n",
    "checkpoint_path = \"../logs/train/runs/2025-10-14_23-57-01/checkpoints/last.ckpt\"\n",
    "\n",
    "\n",
    "\n",
    "print(f\"Loading checkpoint from: {checkpoint_path}\")\n",
    "print(\"This may take a moment...\")\n",
    "\n",
    "# Load the checkpoint with weights_only=False since this is a Lightning checkpoint\n",
    "# that contains more than just weights (it's safe since this is our own trained model)\n",
    "checkpoint = torch.load(checkpoint_path, map_location='mps', weights_only=False)\n",
    "print(\"Checkpoint loaded successfully!\")\n",
    "\n",
    "# Load the state dict into the model\n",
    "model.load_state_dict(checkpoint['state_dict'])\n",
    "print(\"Model weights loaded successfully!\")\n",
    "\n",
    "# Set model to evaluation mode\n",
    "model.eval()\n",
    "print(\"Model is ready for inference!\")\n"
   ]
  },
  {
   "cell_type": "code",
   "execution_count": 101,
   "id": "ddf4c20b",
   "metadata": {},
   "outputs": [
    {
     "name": "stdout",
     "output_type": "stream",
     "text": [
      "Model moved to device: mps\n",
      "\n",
      "Model loaded successfully!\n",
      "- Checkpoint epoch: 499\n",
      "- Global step: 510\n",
      "- Model device: mps:0\n",
      "- Model parameters: 18,023,049\n",
      "- Trainable parameters: 18,022,921\n"
     ]
    }
   ],
   "source": [
    "# Optional: Move model to GPU if available\n",
    "device = 'mps'\n",
    "model = model.to(device)\n",
    "print(f\"Model moved to device: {device}\")\n",
    "\n",
    "# Display model summary\n",
    "print(\"\\nModel loaded successfully!\")\n",
    "print(f\"- Checkpoint epoch: {checkpoint.get('epoch', 'Unknown')}\")\n",
    "print(f\"- Global step: {checkpoint.get('global_step', 'Unknown')}\")\n",
    "print(f\"- Model device: {next(model.parameters()).device}\")\n",
    "print(f\"- Model parameters: {sum(p.numel() for p in model.parameters()):,}\")\n",
    "print(f\"- Trainable parameters: {sum(p.numel() for p in model.parameters() if p.requires_grad):,}\")\n"
   ]
  },
  {
   "cell_type": "code",
   "execution_count": 102,
   "id": "2fc27527",
   "metadata": {},
   "outputs": [],
   "source": [
    "from src.models.components.plot import restore_tensor\n",
    "import matplotlib.pyplot as plt\n",
    "\n",
    "base_transforms = IMCBaseDictTransform()\n",
    "\n",
    "aug_transforms_train = gd.PatchAugmentations(\n",
    "    prob=1.0,\n",
    "    size=13,\n",
    "    patch_size=1,\n",
    ")\n",
    "\n",
    "aug_transforms_val = gd.PatchAugmentations(\n",
    "    prob=1.0,\n",
    "    size=13,\n",
    "    patch_size=1,\n",
    "    is_validation=True,\n",
    ")\n",
    "\n",
    "dual_transforms_train = gd.DualOutputTransform(base_transforms, aug_transforms_train)\n",
    "\n",
    "dual_transforms_val = gd.DualOutputTransform(base_transforms, aug_transforms_val)\n",
    "\n",
    "train_path = Path(\"../data\") / 'IMC-sample' / 'train.h5'\n",
    "test_path = Path(\"../data\") / 'IMC-sample' / 'test.h5'\n",
    "trainset = PickleDataset(train_path, transform=dual_transforms_train)\n",
    "testset = PickleDataset(train_path, transform=dual_transforms_val)\n",
    "train_ratio, val_ratio, test_ratio, leftover_ratio = [3600, 1044, 0, 0]\n",
    "size_testset = len(testset)\n",
    "size_trainset = len(trainset)\n",
    "data_train, _ = random_split(\n",
    "    dataset=trainset,\n",
    "    lengths=[train_ratio, size_trainset - train_ratio],\n",
    "    generator=torch.Generator().manual_seed(42),\n",
    ")\n",
    "# dataset = ConcatDataset(datasets=[trainset, testset])\n",
    "data_val, data_test, _ = random_split(\n",
    "    dataset=testset,\n",
    "    lengths=[val_ratio, test_ratio, size_testset - val_ratio - test_ratio],\n",
    "    generator=torch.Generator().manual_seed(42),\n",
    ")\n",
    "\n",
    "train_dataset = gd.GridGraphDataset(grid_size=13, dataset=data_train, channels=list(range(1)))\n",
    "\n",
    "val_dataset = gd.GridGraphDataset(grid_size=13, dataset=data_val, channels=list(range(1)))\n",
    "\n",
    "train_loader = gd.DenseGraphDataLoader(\n",
    "    dataset=train_dataset,\n",
    "    batch_size=8,\n",
    "    num_workers=7,\n",
    "    pin_memory=False,\n",
    "    persistent_workers=7 > 0,\n",
    ")\n",
    "\n",
    "val_loader = gd.DenseGraphDataLoader(\n",
    "    dataset=val_dataset,\n",
    "    batch_size=8,\n",
    "    num_workers=7,\n",
    "    pin_memory=False,\n",
    "    persistent_workers=7 > 0,\n",
    ")"
   ]
  },
  {
   "cell_type": "code",
   "execution_count": 104,
   "id": "a62d1fd5",
   "metadata": {},
   "outputs": [],
   "source": [
    "for el in val_loader:\n",
    "    break"
   ]
  },
  {
   "cell_type": "code",
   "execution_count": 105,
   "id": "f8695df4",
   "metadata": {},
   "outputs": [],
   "source": [
    "el = el.to('mps')"
   ]
  },
  {
   "cell_type": "code",
   "execution_count": 106,
   "id": "aa1bdf8a",
   "metadata": {},
   "outputs": [],
   "source": [
    "model.eval()\n",
    "with torch.no_grad():\n",
    "    graph_emb, graph_pred, soft_probs, perm, mu, logvar = model(el, training=False, tau=1.0)"
   ]
  },
  {
   "cell_type": "code",
   "execution_count": 21,
   "id": "d35f4cfc",
   "metadata": {},
   "outputs": [
    {
     "data": {
      "text/plain": [
       "False"
      ]
     },
     "execution_count": 21,
     "metadata": {},
     "output_type": "execute_result"
    }
   ],
   "source": [
    "torch.allclose(graph_emb[0], graph_emb[16], atol=1e-4)"
   ]
  },
  {
   "cell_type": "code",
   "execution_count": 25,
   "id": "73740152",
   "metadata": {},
   "outputs": [
    {
     "data": {
      "text/plain": [
       "tensor([[-0.0884,  6.8511,  2.4379,  ..., -1.2252, -0.4291,  2.6785],\n",
       "        [-0.0929,  6.8626,  2.4679,  ..., -1.2240, -0.4290,  2.6507],\n",
       "        [-0.0929,  6.8626,  2.4679,  ..., -1.2240, -0.4290,  2.6507],\n",
       "        ...,\n",
       "        [-0.0929,  6.8626,  2.4679,  ..., -1.2240, -0.4290,  2.6507],\n",
       "        [-0.0884,  6.8511,  2.4379,  ..., -1.2252, -0.4291,  2.6785],\n",
       "        [-0.0929,  6.8626,  2.4679,  ..., -1.2240, -0.4290,  2.6507]],\n",
       "       device='mps:0')"
      ]
     },
     "execution_count": 25,
     "metadata": {},
     "output_type": "execute_result"
    }
   ],
   "source": [
    "graph_emb[[0, 8, 16, 24, 32, 40, 48, 56]]"
   ]
  },
  {
   "cell_type": "code",
   "execution_count": 26,
   "id": "d6774537",
   "metadata": {},
   "outputs": [
    {
     "data": {
      "text/plain": [
       "torch.Size([64, 169, 1])"
      ]
     },
     "execution_count": 26,
     "metadata": {},
     "output_type": "execute_result"
    }
   ],
   "source": [
    "el.node_features.shape"
   ]
  },
  {
   "cell_type": "code",
   "execution_count": 107,
   "id": "337ade93",
   "metadata": {},
   "outputs": [],
   "source": [
    "import src.models.components.metrics.recontructions as R\n",
    "import src.models.components.plot as pL\n",
    "\n",
    "idx_to_show = R.batch_augmented_indices(\n",
    "            8, num_permutations=8, n_examples=4\n",
    "        )\n",
    "subset_predictions = graph_pred.node_features[idx_to_show, :, :]\n",
    "subset_ground_truths = el.node_features[idx_to_show, :, :]\n",
    "\n",
    "restore_subset_predictions = torch.stack(\n",
    "            [img for img in subset_predictions], dim=0\n",
    "        )\n",
    "restore_subset_ground_truths = torch.stack(\n",
    "            [img for img in subset_ground_truths],\n",
    "            dim=0,\n",
    "        )\n",
    "\n",
    "ground_truth_imgs = restore_subset_ground_truths.detach().cpu()\n",
    "pred_imgs = restore_subset_predictions.detach().cpu()\n",
    "pred_min, pred_max = pred_imgs.min().item(), pred_imgs.max().item()\n",
    "gt_min, gt_max = ground_truth_imgs.min().item(), ground_truth_imgs.max().item()\n",
    "\n",
    "vmin = min(pred_min, gt_min)\n",
    "vmax = max(pred_max, gt_max)\n",
    "\n",
    "\n",
    "mse = R.mse_per_transform(ground_truth_imgs, pred_imgs, 4, 8)"
   ]
  },
  {
   "cell_type": "code",
   "execution_count": 108,
   "id": "f9d8f0a7",
   "metadata": {},
   "outputs": [
    {
     "data": {
      "image/png": "[encoded data removed]",
      "text/plain": [
       "<Figure size 2000x1000 with 33 Axes>"
      ]
     },
     "metadata": {},
     "output_type": "display_data"
    }
   ],
   "source": [
    "fig_prediction = pL.plot_feature_map(pred_imgs, 4, vmin=pred_min, vmax=pred_max)"
   ]
  },
  {
   "cell_type": "code",
   "execution_count": 109,
   "id": "c068f2eb",
   "metadata": {},
   "outputs": [
    {
     "data": {
      "image/png": "[encoded data removed]",
      "text/plain": [
       "<Figure size 2000x1000 with 33 Axes>"
      ]
     },
     "metadata": {},
     "output_type": "display_data"
    }
   ],
   "source": [
    "fig_ground_truth = pL.plot_feature_map(ground_truth_imgs, 4, vmin=vmin, vmax=vmax)"
   ]
  },
  {
   "cell_type": "code",
   "execution_count": 32,
   "id": "a9416917",
   "metadata": {},
   "outputs": [],
   "source": [
    "import math\n",
    "\n",
    "def reshape_feature_map(features: torch.Tensor, num_example: int) -> torch.Tensor:\n",
    "    batch_size, num_nodes, _ = features.shape\n",
    "    grid_size = int(math.sqrt(num_nodes))\n",
    "    group = int(batch_size // num_example)\n",
    "    features = features.transpose(2, 1).view(batch_size, -1, grid_size, grid_size)\n",
    "    return features.view(num_example, group, -1, grid_size, grid_size)"
   ]
  },
  {
   "cell_type": "code",
   "execution_count": 39,
   "id": "53604106",
   "metadata": {},
   "outputs": [],
   "source": [
    "tensor_data_pred = reshape_feature_map(pred_imgs, 1)\n",
    "tensor_data_truth = reshape_feature_map(ground_truth_imgs, 1)"
   ]
  },
  {
   "cell_type": "code",
   "execution_count": 43,
   "id": "9e7f2d61",
   "metadata": {},
   "outputs": [
    {
     "data": {
      "text/plain": [
       "tensor([[[-0.4447, -0.3361, -0.3188, -0.3145, -0.3081, -0.2991, -0.2853,\n",
       "          -0.2831, -0.2910, -0.2979, -0.2996, -0.3871, -0.4890],\n",
       "         [-0.4361, -0.2977, -0.2715, -0.2634, -0.2541, -0.2365, -0.2275,\n",
       "          -0.2247, -0.2261, -0.2482, -0.2519, -0.3262, -0.4534],\n",
       "         [-0.4021, -0.2495, -0.2148, -0.2061, -0.1883, -0.1690, -0.1580,\n",
       "          -0.1568, -0.1606, -0.1926, -0.1994, -0.2624, -0.4136],\n",
       "         [-0.3700, -0.2173, -0.1769, -0.1677, -0.1415, -0.1286, -0.1100,\n",
       "          -0.1132, -0.1233, -0.1563, -0.1688, -0.2292, -0.3872],\n",
       "         [-0.3582, -0.2072, -0.1650, -0.1506, -0.1235, -0.1149, -0.0917,\n",
       "          -0.0994, -0.1121, -0.1407, -0.1645, -0.2223, -0.3793],\n",
       "         [-0.3641, -0.2099, -0.1708, -0.1464, -0.1235, -0.1123, -0.0917,\n",
       "          -0.0989, -0.1126, -0.1367, -0.1717, -0.2247, -0.3806],\n",
       "         [-0.3748, -0.2149, -0.1801, -0.1476, -0.1269, -0.1115, -0.0944,\n",
       "          -0.0997, -0.1139, -0.1357, -0.1745, -0.2246, -0.3801],\n",
       "         [-0.3794, -0.2154, -0.1820, -0.1497, -0.1283, -0.1108, -0.0914,\n",
       "          -0.0998, -0.1117, -0.1343, -0.1682, -0.2190, -0.3741],\n",
       "         [-0.3779, -0.2114, -0.1781, -0.1550, -0.1323, -0.1116, -0.0891,\n",
       "          -0.1027, -0.1100, -0.1367, -0.1596, -0.2134, -0.3690],\n",
       "         [-0.3813, -0.2142, -0.1815, -0.1722, -0.1497, -0.1229, -0.1056,\n",
       "          -0.1181, -0.1229, -0.1522, -0.1622, -0.2194, -0.3767],\n",
       "         [-0.4026, -0.2429, -0.2081, -0.2106, -0.1926, -0.1617, -0.1552,\n",
       "          -0.1604, -0.1651, -0.1890, -0.1909, -0.2474, -0.4030],\n",
       "         [-0.4430, -0.3050, -0.2598, -0.2669, -0.2569, -0.2297, -0.2302,\n",
       "          -0.2276, -0.2290, -0.2460, -0.2457, -0.2893, -0.4348],\n",
       "         [-0.4844, -0.3705, -0.3099, -0.3127, -0.3111, -0.2952, -0.2946,\n",
       "          -0.2836, -0.2836, -0.2978, -0.3001, -0.3243, -0.4429]]])"
      ]
     },
     "execution_count": 43,
     "metadata": {},
     "output_type": "execute_result"
    }
   ],
   "source": [
    "tensor_data_pred[0][0]"
   ]
  },
  {
   "cell_type": "code",
   "execution_count": 42,
   "id": "7aea193d",
   "metadata": {},
   "outputs": [
    {
     "data": {
      "text/plain": [
       "tensor([[[-0.4663,  0.1451,  0.3097,  0.0859, -0.0940, -0.1115,  0.0159,\n",
       "          -0.1722, -0.1068, -0.1562, -0.0426, -0.2638, -0.6784],\n",
       "         [-0.4746, -0.1620, -0.3109, -0.0937, -0.0832,  0.0593,  0.3007,\n",
       "           0.0748,  0.2300,  0.1717,  0.1742, -0.3024, -0.5765],\n",
       "         [-0.1759,  0.1317, -0.3405, -0.6152, -0.4999,  0.1999,  0.0446,\n",
       "          -0.1487,  0.1332, -0.2436, -0.4471, -0.0368, -0.7183],\n",
       "         [-0.4731,  0.0723,  0.1599, -0.1963, -0.2828,  0.1357, -0.5012,\n",
       "          -0.5866, -0.1234, -0.1779, -0.3876, -0.2026,  0.0603],\n",
       "         [-0.5006, -0.5145, -0.0990, -0.3061, -0.7427,  0.2465, -0.0609,\n",
       "          -0.1294,  0.1594,  0.1071, -0.0320, -0.1724, -0.0045],\n",
       "         [-0.1034, -0.5898, -0.3121, -0.1163,  0.2146,  0.3225,  0.1715,\n",
       "          -0.3196,  0.2398,  0.2269,  0.0282, -0.2198, -0.1213],\n",
       "         [-0.4073,  0.1864,  0.1140, -0.0266, -0.1876,  0.0691, -0.3464,\n",
       "          -0.1300,  0.0454, -0.4224, -0.3668, -0.4772, -0.3563],\n",
       "         [-0.4959,  0.0776, -0.2312,  0.1073, -0.1734, -0.0026, -0.5853,\n",
       "          -0.0593, -0.2559, -0.1322, -0.6604, -0.8868, -0.3066],\n",
       "         [-0.7698, -0.0957, -0.2157,  0.2390, -0.3320,  0.1830, -0.7651,\n",
       "          -0.7705, -0.7720, -0.6805, -0.6647, -0.8111, -0.4944],\n",
       "         [-0.9703,  0.2356,  0.3096,  0.1717,  0.0576,  0.7728, -0.1409,\n",
       "          -0.2966, -0.1095, -0.6181, -0.0377, -0.6183, -0.4965],\n",
       "         [-0.5468, -0.0393,  0.1764, -0.3346,  0.1405,  0.6052,  0.1593,\n",
       "          -0.0818, -0.3627, -0.3331,  0.3310, -0.1119, -0.6235],\n",
       "         [-0.2277, -0.2490, -0.0872, -1.0460, -0.2323, -0.0970, -0.4361,\n",
       "          -0.4357, -0.1540, -0.0056, -0.1527, -0.5815, -0.6588],\n",
       "         [-0.6721, -0.7731, -0.4249, -0.9470, -0.3683, -0.5840, -1.0119,\n",
       "          -0.5747, -0.3290, -0.7946, -0.9715, -1.0399, -0.6820]]])"
      ]
     },
     "execution_count": 42,
     "metadata": {},
     "output_type": "execute_result"
    }
   ],
   "source": [
    "tensor_data_truth[0][0]"
   ]
  },
  {
   "cell_type": "code",
   "execution_count": 44,
   "id": "01aa66cd",
   "metadata": {},
   "outputs": [],
   "source": [
    "from torch.nn import MSELoss, L1Loss, CosineSimilarity"
   ]
  },
  {
   "cell_type": "code",
   "execution_count": 61,
   "id": "e67f5b93",
   "metadata": {},
   "outputs": [
    {
     "data": {
      "text/plain": [
       "tensor(0.0988)"
      ]
     },
     "execution_count": 61,
     "metadata": {},
     "output_type": "execute_result"
    }
   ],
   "source": [
    "n = 1\n",
    "MSELoss()(tensor_data_pred[0][n], tensor_data_truth[0][n])"
   ]
  },
  {
   "cell_type": "code",
   "execution_count": 62,
   "id": "6b98a285",
   "metadata": {},
   "outputs": [
    {
     "data": {
      "text/plain": [
       "tensor(0.2510)"
      ]
     },
     "execution_count": 62,
     "metadata": {},
     "output_type": "execute_result"
    }
   ],
   "source": [
    "L1Loss()(tensor_data_pred[0][n], tensor_data_truth[0][n])"
   ]
  },
  {
   "cell_type": "code",
   "execution_count": 65,
   "id": "45f8dae8",
   "metadata": {},
   "outputs": [
    {
     "data": {
      "text/plain": [
       "tensor([[0.9301, 0.6609, 0.5342, 0.4326, 0.7783, 0.7856, 0.7082, 0.6609, 0.4985,\n",
       "         0.6053, 0.5931, 0.0374, 0.4325]])"
      ]
     },
     "execution_count": 65,
     "metadata": {},
     "output_type": "execute_result"
    }
   ],
   "source": [
    "CosineSimilarity()(tensor_data_pred[0][n], tensor_data_truth[0][n])"
   ]
  },
  {
   "cell_type": "code",
   "execution_count": 67,
   "id": "04b521af",
   "metadata": {},
   "outputs": [
    {
     "data": {
      "text/plain": [
       "(tensor(-1.0460), tensor(0.7728))"
      ]
     },
     "execution_count": 67,
     "metadata": {},
     "output_type": "execute_result"
    }
   ],
   "source": [
    "tensor_data_truth[0][0].min(), tensor_data_truth[0][0].max()"
   ]
  },
  {
   "cell_type": "code",
   "execution_count": 71,
   "id": "1480a132",
   "metadata": {},
   "outputs": [
    {
     "data": {
      "image/png": "[encoded data removed]",
      "text/plain": [
       "<Figure size 640x480 with 1 Axes>"
      ]
     },
     "metadata": {},
     "output_type": "display_data"
    }
   ],
   "source": [
    "import torch\n",
    "import matplotlib.pyplot as plt\n",
    "\n",
    "x = tensor_data_truth[0][0][0].flatten()\n",
    "\n",
    "plt.hist(x.numpy(), bins=30)\n",
    "plt.title(\"Value distribution\")\n",
    "plt.xlabel(\"Value\")\n",
    "plt.ylabel(\"Frequency\")\n",
    "plt.show()\n"
   ]
  },
  {
   "cell_type": "code",
   "execution_count": 72,
   "id": "17c460c7",
   "metadata": {},
   "outputs": [
    {
     "data": {
      "image/png": "[encoded data removed]",
      "text/plain": [
       "<Figure size 640x480 with 1 Axes>"
      ]
     },
     "metadata": {},
     "output_type": "display_data"
    }
   ],
   "source": [
    "import torch\n",
    "import matplotlib.pyplot as plt\n",
    "\n",
    "x = tensor_data_pred[0][0][0].flatten()\n",
    "\n",
    "plt.hist(x.numpy(), bins=30)\n",
    "plt.title(\"Value distribution\")\n",
    "plt.xlabel(\"Value\")\n",
    "plt.ylabel(\"Frequency\")\n",
    "plt.show()\n"
   ]
  },
  {
   "cell_type": "code",
   "execution_count": 74,
   "id": "50c9b00e",
   "metadata": {},
   "outputs": [
    {
     "data": {
      "text/plain": [
       "tensor(0.9259)"
      ]
     },
     "execution_count": 74,
     "metadata": {},
     "output_type": "execute_result"
    }
   ],
   "source": [
    "n = 1\n",
    "mse = MSELoss()(tensor_data_pred[0][n], tensor_data_truth[0][n])\n",
    "\n",
    "mse / tensor_data_truth[0][n].var()\n"
   ]
  },
  {
   "cell_type": "code",
   "execution_count": 77,
   "id": "7fe5e4b0",
   "metadata": {},
   "outputs": [
    {
     "data": {
      "text/plain": [
       "torch.Size([8, 169, 1])"
      ]
     },
     "execution_count": 77,
     "metadata": {},
     "output_type": "execute_result"
    }
   ],
   "source": [
    "ground_truth_imgs.shape"
   ]
  },
  {
   "cell_type": "code",
   "execution_count": 78,
   "id": "5466fe12",
   "metadata": {},
   "outputs": [
    {
     "data": {
      "text/plain": [
       "torch.Size([64, 1024])"
      ]
     },
     "execution_count": 78,
     "metadata": {},
     "output_type": "execute_result"
    }
   ],
   "source": [
    "graph_emb.shape"
   ]
  },
  {
   "cell_type": "code",
   "execution_count": 137,
   "id": "f030d7a4",
   "metadata": {},
   "outputs": [],
   "source": [
    "import torch.nn as nn\n",
    "from typing import Optional, Callable, Union, Tuple, List\n",
    "from __future__ import annotations\n",
    "\n",
    "class PatchAugmentations(nn.Module):\n",
    "    NUM_PERM = 8  # 4 rotations × {no flip, flip}\n",
    "\n",
    "    def __init__(\n",
    "        self, prob: float, size: int, patch_size: int, is_validation: bool = False\n",
    "    ):\n",
    "        super().__init__()\n",
    "        self.prob = prob\n",
    "        self.is_validation = is_validation\n",
    "        num_nodes_per_dim = size // patch_size\n",
    "        self.register_buffer(\n",
    "            \"grid\", self.make_grid(num_nodes_per_dim), persistent=False\n",
    "        )\n",
    "\n",
    "    def forward(\n",
    "        self, patches: Dict[str, torch.Tensor]\n",
    "    ) -> tuple[torch.Tensor, torch.Tensor, torch.Tensor]:\n",
    "        \"\"\"\n",
    "        Args:\n",
    "            patches: Dict[str, Tensor], each [C, N, D]\n",
    "        Returns:\n",
    "            aug_tensor: [8, C, N, D]\n",
    "            argsort_tensor: [8, N]\n",
    "            perm: [8] permutation used\n",
    "        \"\"\"\n",
    "        device = self.grid.device\n",
    "        grid = self.grid\n",
    "\n",
    "        aug_list, argsort_list = [], []\n",
    "\n",
    "        for transform_key, patch_embedding in patches.items():\n",
    "            if transform_key == \"img_path\":\n",
    "                continue\n",
    "\n",
    "            # transformed_grid = self.apply_transform(grid, transform_key)\n",
    "            transformed_grid = grid\n",
    "            flat_idx = transformed_grid.flatten()\n",
    "\n",
    "            aug_list.append(patch_embedding)  # or patch_embedding if already Tensor\n",
    "            argsort_list.append(torch.argsort(flat_idx))\n",
    "\n",
    "        aug_tensor = torch.stack(aug_list, dim=0).contiguous()\n",
    "        argsort_tensor = torch.stack(argsort_list, dim=0).contiguous()\n",
    "\n",
    "        if self.is_validation:\n",
    "            perm = torch.arange(self.NUM_PERM, device=device)\n",
    "            return aug_tensor, argsort_tensor, perm\n",
    "\n",
    "        perm = torch.randperm(self.NUM_PERM, device=device)\n",
    "        return aug_tensor, argsort_tensor, perm\n",
    "\n",
    "    @staticmethod\n",
    "    def make_grid(num_nodes_per_dim: int) -> torch.Tensor:\n",
    "        \"\"\"Create a 2D grid mapping flattened indices to 2D for rotation/flip operations.\"\"\"\n",
    "        return torch.arange(num_nodes_per_dim**2).reshape(\n",
    "            num_nodes_per_dim, num_nodes_per_dim\n",
    "        )\n",
    "\n",
    "    @staticmethod\n",
    "    def apply_transform(grid: torch.Tensor, key: str) -> torch.Tensor:\n",
    "        \"\"\"\n",
    "        Apply rotation/flip based on key string (e.g. 'r90_f').\n",
    "        \"\"\"\n",
    "        # Parse\n",
    "        rot_part, flip_part = key.split(\"_\")\n",
    "        angle = int(rot_part[1:])  # 'r90' -> 90\n",
    "        flip = flip_part == \"f\"\n",
    "\n",
    "        # Apply rotation\n",
    "        k = angle // 90\n",
    "        out = torch.rot90(grid, k=k, dims=[0, 1]) if k > 0 else grid\n",
    "\n",
    "        # Apply flip\n",
    "        if flip:\n",
    "            out = torch.flip(out, dims=[-1])\n",
    "\n",
    "        return out"
   ]
  },
  {
   "cell_type": "code",
   "execution_count": 111,
   "id": "eaa8d7c1",
   "metadata": {},
   "outputs": [],
   "source": [
    "import pickle\n",
    "\n",
    "class PickleDataset1(Dataset):\n",
    "    def __init__(self, pickle_path, transform=None):\n",
    "        self.transform = transform\n",
    "        with open(pickle_path, \"rb\") as f:\n",
    "            self.data = pickle.load(f)\n",
    "\n",
    "    def __len__(self):\n",
    "        return len(self.data)\n",
    "\n",
    "    def __getitem__(self, idx):\n",
    "        x = self.data[idx]\n",
    "        if self.transform:\n",
    "            x = self.transform(x)\n",
    "        return x"
   ]
  },
  {
   "cell_type": "code",
   "execution_count": 140,
   "id": "55ed2017",
   "metadata": {},
   "outputs": [],
   "source": [
    "pickle_path = \"../data/IMC-sample/train.pkl\"\n",
    "pickle_path = \"../data/IMC-sample/train.h5\"\n",
    "\n",
    "# pickle_dataset = PickleDataset1(pickle_path)\n",
    "pickle_dataset = PickleDataset(pickle_path)"
   ]
  },
  {
   "cell_type": "code",
   "execution_count": 142,
   "id": "f21eac72",
   "metadata": {},
   "outputs": [
    {
     "data": {
      "text/plain": [
       "dict_keys(['r0_f', 'r0_nf', 'r180_f', 'r180_nf', 'r270_f', 'r270_nf', 'r90_f', 'r90_nf'])"
      ]
     },
     "execution_count": 142,
     "metadata": {},
     "output_type": "execute_result"
    }
   ],
   "source": [
    "pickle_dataset.__getitem__(3).keys()"
   ]
  },
  {
   "cell_type": "code",
   "execution_count": 143,
   "id": "0890c003",
   "metadata": {},
   "outputs": [
    {
     "data": {
      "text/plain": [
       "<matplotlib.image.AxesImage at 0x37f14a7b0>"
      ]
     },
     "execution_count": 143,
     "metadata": {},
     "output_type": "execute_result"
    },
    {
     "data": {
      "image/png": "[encoded data removed]",
      "text/plain": [
       "<Figure size 640x480 with 1 Axes>"
      ]
     },
     "metadata": {},
     "output_type": "display_data"
    }
   ],
   "source": [
    "x = pickle_dataset.__getitem__(3)\n",
    "plt.imshow(x['r0_f'][0], cmap=\"seismic\", aspect=\"equal\")"
   ]
  },
  {
   "cell_type": "code",
   "execution_count": 134,
   "id": "1ef56c76",
   "metadata": {},
   "outputs": [],
   "source": [
    "patch = PatchAugmentations(prob=1.0, size=13, patch_size=1)\n",
    "\n",
    "grid =PatchAugmentations.make_grid(2)"
   ]
  },
  {
   "cell_type": "code",
   "execution_count": 139,
   "id": "639afff2",
   "metadata": {},
   "outputs": [
    {
     "data": {
      "text/plain": [
       "tensor([[3, 2],\n",
       "        [1, 0]])"
      ]
     },
     "execution_count": 139,
     "metadata": {},
     "output_type": "execute_result"
    }
   ],
   "source": [
    "PatchAugmentations.apply_transform(grid, 'r180_nf')"
   ]
  },
  {
   "cell_type": "code",
   "execution_count": 144,
   "id": "7ad827ce",
   "metadata": {},
   "outputs": [],
   "source": [
    "import torch\n",
    "from typing import Tuple, Optional, Any\n",
    "import torch.nn as nn\n",
    "import torch.nn.functional as F\n",
    "\n",
    "# from src.models.components.custom_graph_transformer import Transformer\n",
    "from src.models.components.llama_graph_transformer import Transformer\n",
    "from src.models.components.embeddings import PositionalEncoding\n",
    "from src.data.components.graphs_datamodules import DenseGraphBatch\n",
    "from src.models.components.spectral_embeddings import SklearnSpectralEmbedding\n",
    "from src.models.components.rotary_embedding import LLamaRotaryEmbedding\n",
    "\n",
    "from omegaconf import DictConfig\n",
    "\n",
    "\n",
    "class SimplePermuter(torch.nn.Module):\n",
    "    def __init__(self, hparams: DictConfig):\n",
    "        super().__init__()\n",
    "        self.turn_off = hparams.turn_off\n",
    "        self.use_ce = hparams.use_ce\n",
    "        self.scoring_fc = torch.nn.Linear(\n",
    "            hparams.graph_decoder_hidden_dim, hparams.num_permutations\n",
    "        )\n",
    "        self.graph_transformer = Transformer(\n",
    "            hidden_dim=hparams.graph_decoder_hidden_dim,\n",
    "            num_heads=hparams.graph_decoder_num_heads,\n",
    "            ppf_hidden_dim=hparams.graph_decoder_ppf_hidden_dim,\n",
    "            num_layers=2,\n",
    "            dropout=hparams.dropout,\n",
    "            rope=LLamaRotaryEmbedding(hparams.head_dim)\n",
    "        )\n",
    "        self.perm_node = nn.Parameter(\n",
    "            torch.randn(1, 1, hparams.graph_decoder_hidden_dim)\n",
    "        )\n",
    "        self.spectral_embeddings = SklearnSpectralEmbedding(\n",
    "            hparams.n_components,\n",
    "            hparams.graph_decoder_hidden_dim,\n",
    "            hparams.grid_size,\n",
    "        )\n",
    "        self.perm_context = torch.nn.Linear(hparams.num_permutations, hparams.emb_dim)\n",
    "        \n",
    "        # Store grid_size for efficient permutation computation\n",
    "        self.grid_size = hparams.grid_size\n",
    "        self.num_permutations = hparams.num_permutations\n",
    "        \n",
    "        # Don't precompute large matrices - compute on demand\n",
    "        # predefined_permutations = self.create_predefine_permutations(hparams.grid_size)\n",
    "        # self.register_buffer(\"predefined_permutations\", predefined_permutations)\n",
    "        self.break_symmetry_scale = hparams.break_symmetry_scale\n",
    "\n",
    "    def forward(\n",
    "        self,\n",
    "        node_features: torch.Tensor,\n",
    "        tau: float,\n",
    "        mask: torch.Tensor,\n",
    "        hard: bool = False,\n",
    "        labels: Optional[torch.Tensor] = None,\n",
    "    ) -> Tuple[Optional[torch.Tensor], Any, Optional[torch.Tensor]]:\n",
    "        device = node_features.device\n",
    "        batch_size = node_features.shape[0] // 8\n",
    "\n",
    "        if self.turn_off:\n",
    "            # Use memory-efficient identity permutation\n",
    "            n_nodes = self.grid_size * self.grid_size\n",
    "            identity_perm = torch.eye(n_nodes, device=device, dtype=node_features.dtype)\n",
    "            perm = identity_perm.unsqueeze(0).repeat(batch_size * 8, 1, 1)\n",
    "            return perm, None, None, None\n",
    "\n",
    "        # Add noise to break symmetry (reduce scale to save memory)\n",
    "        noise_scale = min(self.break_symmetry_scale, 0.01)  # Cap noise to save memory\n",
    "        node_features = (\n",
    "            node_features + torch.randn_like(node_features) * noise_scale\n",
    "        )\n",
    "        \n",
    "        # Clear intermediate tensors explicitly\n",
    "        node_features = self.spectral_embeddings(node_features)\n",
    "        cls_tokens = self.perm_node.expand(batch_size * 8, -1, -1)\n",
    "        node_features = torch.cat([cls_tokens, node_features], dim=1)\n",
    "        \n",
    "        # Use gradient checkpointing for transformer\n",
    "        node_features = self.graph_transformer(\n",
    "            node_features, mask=None, is_encoder=True\n",
    "        )\n",
    "        \n",
    "        # Score each permutation option\n",
    "        cls_out = node_features[:, 0, :]\n",
    "        scores = self.scoring_fc(cls_out)\n",
    "        context = None\n",
    "\n",
    "        # Cross-entropy loss\n",
    "        ce_loss = None\n",
    "        if self.use_ce and labels:\n",
    "            labels = labels.to(device)\n",
    "            ce_loss = F.cross_entropy(scores, labels)\n",
    "\n",
    "        probs, soft_probs = softmax_head(scores, tau)\n",
    "\n",
    "        # MEMORY-EFFICIENT PERMUTATION COMPUTATION\n",
    "        # Instead of storing large matrices, compute permutations on-the-fly\n",
    "        perm = self._compute_weighted_permutation_efficient(probs, device)\n",
    "        \n",
    "        return perm, context, soft_probs, ce_loss\n",
    "\n",
    "    def _compute_weighted_permutation_efficient(self, probs, device):\n",
    "        \"\"\"\n",
    "        Memory-efficient computation of weighted permutation matrices.\n",
    "        Instead of storing all 8 large matrices, compute the result directly.\n",
    "        \"\"\"\n",
    "        batch_size = probs.shape[0]\n",
    "        n = self.grid_size\n",
    "        n_nodes = n * n\n",
    "        \n",
    "        # Initialize result\n",
    "        perm = torch.zeros(batch_size, n_nodes, n_nodes, device=device, dtype=probs.dtype)\n",
    "        \n",
    "        # Compute each permutation type contribution efficiently\n",
    "        for perm_idx in range(8):  # 8 predefined permutations\n",
    "            weight = probs[:, perm_idx].unsqueeze(-1).unsqueeze(-1)  # (B, 1, 1)\n",
    "            \n",
    "            if perm_idx == 0:  # Identity\n",
    "                perm += weight * torch.eye(n_nodes, device=device, dtype=probs.dtype)\n",
    "            elif perm_idx == 1:  # 90-degree rotation\n",
    "                perm += weight * self._get_rotation_matrix_efficient(n, 1, device, probs.dtype)\n",
    "            elif perm_idx == 2:  # 180-degree rotation\n",
    "                perm += weight * self._get_rotation_matrix_efficient(n, 2, device, probs.dtype)\n",
    "            elif perm_idx == 3:  # 270-degree rotation\n",
    "                perm += weight * self._get_rotation_matrix_efficient(n, 3, device, probs.dtype)\n",
    "            elif perm_idx == 4:  # Y-axis reflection\n",
    "                perm += weight * self._get_reflection_matrix_efficient(n, device, probs.dtype)\n",
    "            elif perm_idx == 5:  # Y-reflection + 90\n",
    "                reflection = self._get_reflection_matrix_efficient(n, device, probs.dtype)\n",
    "                rotation = self._get_rotation_matrix_efficient(n, 1, device, probs.dtype)\n",
    "                perm += weight * torch.matmul(reflection, rotation)\n",
    "            elif perm_idx == 6:  # Y-reflection + 180\n",
    "                reflection = self._get_reflection_matrix_efficient(n, device, probs.dtype)\n",
    "                rotation = self._get_rotation_matrix_efficient(n, 2, device, probs.dtype)\n",
    "                perm += weight * torch.matmul(reflection, rotation)\n",
    "            elif perm_idx == 7:  # Y-reflection + 270\n",
    "                reflection = self._get_reflection_matrix_efficient(n, device, probs.dtype)\n",
    "                rotation = self._get_rotation_matrix_efficient(n, 3, device, probs.dtype)\n",
    "                perm += weight * torch.matmul(reflection, rotation)\n",
    "        \n",
    "        return perm\n",
    "\n",
    "    def _get_rotation_matrix_efficient(self, n, num_rotations, device, dtype):\n",
    "        \"\"\"Generate rotation matrix efficiently without storing large intermediate tensors.\"\"\"\n",
    "        indices = torch.arange(n * n, device=device).reshape(n, n)\n",
    "        for _ in range(num_rotations):\n",
    "            indices = indices.rot90(-1)\n",
    "        rotated_indices = indices.reshape(-1)\n",
    "        return torch.eye(n * n, device=device, dtype=dtype)[rotated_indices]\n",
    "\n",
    "    def _get_reflection_matrix_efficient(self, n, device, dtype):\n",
    "        \"\"\"Generate reflection matrix efficiently.\"\"\"\n",
    "        indices = torch.arange(n * n, device=device).reshape(n, n)\n",
    "        reflected_indices = indices.flip(1).reshape(-1)\n",
    "        return torch.eye(n * n, device=device, dtype=dtype)[reflected_indices]\n",
    "\n",
    "    # Keep original methods for compatibility but don't use them\n",
    "    def _permutation_matrix_90(self, n: int) -> torch.Tensor:\n",
    "        indices = torch.arange(n * n).reshape(n, n)\n",
    "        rotated_indices = indices.rot90(-1).reshape(-1)\n",
    "        perm = torch.eye(n * n, dtype=torch.float32)[rotated_indices]\n",
    "        return perm\n",
    "\n",
    "    def _y_axis_reflection_matrix(self, n: int) -> torch.Tensor:\n",
    "        indices = torch.arange(n * n).reshape(n, n)\n",
    "        reflected_indices = indices.flip(1).reshape(-1)\n",
    "        perm = torch.eye(n * n, dtype=torch.float32)[reflected_indices]\n",
    "        return perm\n",
    "\n",
    "    def create_predefine_permutations(self, n: int) -> torch.Tensor:\n",
    "        \"\"\"Keep for compatibility but don't use - too memory intensive.\"\"\"\n",
    "        perm = torch.eye(n * n, dtype=torch.float32)\n",
    "        perm_90 = self._permutation_matrix_90(n)\n",
    "        perm_180 = torch.matmul(perm_90, perm_90)\n",
    "        perm_270 = torch.matmul(perm_180, perm_90)\n",
    "\n",
    "        perm_y_reflection = self._y_axis_reflection_matrix(n)\n",
    "        perm_y_reflection_90 = torch.matmul(perm_y_reflection, perm_90)\n",
    "        perm_y_reflection_180 = torch.matmul(perm_y_reflection, perm_180)\n",
    "        perm_y_reflection_270 = torch.matmul(perm_y_reflection, perm_270)\n",
    "\n",
    "        permutations = torch.stack([\n",
    "            perm, perm_90, perm_180, perm_270,\n",
    "            perm_y_reflection, perm_y_reflection_90,\n",
    "            perm_y_reflection_180, perm_y_reflection_270,\n",
    "        ])\n",
    "        return permutations\n",
    "\n",
    "    @staticmethod\n",
    "    def permute_node_features(\n",
    "        node_features: torch.Tensor, perm: torch.Tensor\n",
    "    ) -> torch.Tensor:\n",
    "        \"\"\"Apply the permutation to node features.\"\"\"\n",
    "        return torch.matmul(perm, node_features)"
   ]
  },
  {
   "cell_type": "code",
   "execution_count": 154,
   "id": "b72c470a",
   "metadata": {},
   "outputs": [],
   "source": [
    "import networkx as nx\n",
    "\n",
    "n = 4\n",
    "\n",
    "n = int(math.sqrt(n))\n",
    "G = nx.grid_2d_graph(n, n)\n",
    "A = torch.tensor(nx.to_numpy_array(G), dtype=torch.bool)\n",
    "# mask = A | torch.eye(A.shape[0], dtype=torch.bool)"
   ]
  },
  {
   "cell_type": "code",
   "execution_count": 155,
   "id": "ec910299",
   "metadata": {},
   "outputs": [
    {
     "data": {
      "text/plain": [
       "tensor([[False,  True,  True, False],\n",
       "        [ True, False, False,  True],\n",
       "        [ True, False, False,  True],\n",
       "        [False,  True,  True, False]])"
      ]
     },
     "execution_count": 155,
     "metadata": {},
     "output_type": "execute_result"
    }
   ],
   "source": [
    "A"
   ]
  },
  {
   "cell_type": "code",
   "execution_count": 164,
   "id": "81dceb4a",
   "metadata": {},
   "outputs": [],
   "source": [
    "mask = torch.tensor([[1, 1, 1, 1], [1, 1, 1, 1], [1, 1, 1, 1], [1, 1, 1, 1], [1, 1, 1, 1], [1, 1, 1, 1], [1, 1, 1, 1], [1, 1, 1, 1]])"
   ]
  },
  {
   "cell_type": "code",
   "execution_count": 165,
   "id": "6f39389c",
   "metadata": {},
   "outputs": [],
   "source": [
    "attn_mask = mask.unsqueeze(2) & mask.unsqueeze(1)  # Logical AND for validity\n",
    "attn_mask = attn_mask.to(device) if attn_mask.device != device else attn_mask"
   ]
  },
  {
   "cell_type": "code",
   "execution_count": null,
   "id": "7f90156f",
   "metadata": {},
   "outputs": [],
   "source": []
  }
 ],
 "metadata": {
  "kernelspec": {
   "display_name": ".venv",
   "language": "python",
   "name": "python3"
  },
  "language_info": {
   "codemirror_mode": {
    "name": "ipython",
    "version": 3
   },
   "file_extension": ".py",
   "mimetype": "text/x-python",
   "name": "python",
   "nbconvert_exporter": "python",
   "pygments_lexer": "ipython3",
   "version": "3.12.11"
  }
 },
 "nbformat": 4,
 "nbformat_minor": 5
}
