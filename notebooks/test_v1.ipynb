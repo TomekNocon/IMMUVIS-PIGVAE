{
 "cells": [
  {
   "cell_type": "code",
   "execution_count": 1,
   "id": "52d9f0c0",
   "metadata": {},
   "outputs": [],
   "source": [
    "import os\n",
    "import rootutils\n",
    "\n",
    "rootutils.setup_root(os.getcwd(), indicator=\".project-root\", pythonpath=True)\n",
    "\n",
    "from torchvision import transforms\n",
    "import torch\n",
    "from src.data.components.graphs_datamodules import (\n",
    "    IMCBaseDictTransform,\n",
    "    PickleDataset,\n",
    "    PatchAugmentations,\n",
    ")\n",
    "from src.data.imc_datamodule import add_channel\n",
    "import src.data.components.graphs_datamodules as gd\n",
    "from torchvision.datasets import MNIST\n",
    "from torch.utils.data import ConcatDataset, Dataset, random_split"
   ]
  },
  {
   "cell_type": "code",
   "execution_count": 2,
   "id": "4286e3f1",
   "metadata": {},
   "outputs": [],
   "source": [
    "from pathlib import Path"
   ]
  },
  {
   "cell_type": "code",
   "execution_count": 7,
   "id": "25558e2b",
   "metadata": {},
   "outputs": [],
   "source": [
    "from src.models.components.plot import restore_tensor\n",
    "import matplotlib.pyplot as plt\n",
    "\n",
    "base_transforms = IMCBaseDictTransform()\n",
    "\n",
    "aug_transforms_train = gd.PatchAugmentations(\n",
    "    prob=1.0,\n",
    "    size=13,\n",
    "    patch_size=1,\n",
    ")\n",
    "\n",
    "aug_transforms_val = gd.PatchAugmentations(\n",
    "    prob=1.0,\n",
    "    size=13,\n",
    "    patch_size=1,\n",
    "    is_validation=True,\n",
    ")\n",
    "\n",
    "dual_transforms_train = gd.DualOutputTransform(base_transforms, aug_transforms_train)\n",
    "\n",
    "dual_transforms_val = gd.DualOutputTransform(base_transforms, aug_transforms_val)\n",
    "\n",
    "train_path = Path(\"../data\") / 'IMC-sample' / 'train.h5'\n",
    "test_path = Path(\"../data\") / 'IMC-sample' / 'test.h5'\n",
    "trainset = PickleDataset(train_path, transform=dual_transforms_train)\n",
    "testset = PickleDataset(train_path, transform=dual_transforms_val)\n",
    "train_ratio, val_ratio, test_ratio, leftover_ratio = [3600, 1044, 0, 0]\n",
    "size_testset = len(testset)\n",
    "size_trainset = len(trainset)\n",
    "data_train, _ = random_split(\n",
    "    dataset=trainset,\n",
    "    lengths=[train_ratio, size_trainset - train_ratio],\n",
    "    generator=torch.Generator().manual_seed(42),\n",
    ")\n",
    "# dataset = ConcatDataset(datasets=[trainset, testset])\n",
    "data_val, data_test, _ = random_split(\n",
    "    dataset=testset,\n",
    "    lengths=[val_ratio, test_ratio, size_testset - val_ratio - test_ratio],\n",
    "    generator=torch.Generator().manual_seed(42),\n",
    ")\n",
    "\n",
    "train_dataset = gd.GridGraphDataset(grid_size=13, dataset=data_train, channels=list(range(10)))\n",
    "\n",
    "train_loader = gd.DenseGraphDataLoader(\n",
    "    dataset=train_dataset,\n",
    "    batch_size=8,\n",
    "    num_workers=7,\n",
    "    pin_memory=False,\n",
    "    persistent_workers=7 > 0,\n",
    ")"
   ]
  },
  {
   "cell_type": "code",
   "execution_count": 8,
   "id": "099e6d8d",
   "metadata": {},
   "outputs": [
    {
     "name": "stdout",
     "output_type": "stream",
     "text": [
      "<src.data.components.graphs_datamodules.DenseGraphBatch object at 0x1108be120>\n"
     ]
    }
   ],
   "source": [
    "for el in train_loader:\n",
    "    print(el)\n",
    "    break"
   ]
  },
  {
   "cell_type": "code",
   "execution_count": 9,
   "id": "311d6885",
   "metadata": {},
   "outputs": [
    {
     "data": {
      "text/plain": [
       "torch.Size([64, 169, 10])"
      ]
     },
     "execution_count": 9,
     "metadata": {},
     "output_type": "execute_result"
    }
   ],
   "source": [
    "el.node_features.shape"
   ]
  },
  {
   "cell_type": "code",
   "execution_count": null,
   "id": "057ca439",
   "metadata": {},
   "outputs": [
    {
     "data": {
      "text/plain": [
       "tensor([[  0,   1,   2,  ..., 166, 167, 168],\n",
       "        [  0,   1,   2,  ..., 166, 167, 168],\n",
       "        [  0,   1,   2,  ..., 166, 167, 168],\n",
       "        ...,\n",
       "        [  0,   1,   2,  ..., 166, 167, 168],\n",
       "        [  0,   1,   2,  ..., 166, 167, 168],\n",
       "        [  0,   1,   2,  ..., 166, 167, 168]])"
      ]
     },
     "execution_count": 10,
     "metadata": {},
     "output_type": "execute_result"
    }
   ],
   "source": [
    "el."
   ]
  },
  {
   "cell_type": "code",
   "execution_count": null,
   "id": "ce4717a1",
   "metadata": {},
   "outputs": [],
   "source": []
  }
 ],
 "metadata": {
  "kernelspec": {
   "display_name": ".venv",
   "language": "python",
   "name": "python3"
  },
  "language_info": {
   "codemirror_mode": {
    "name": "ipython",
    "version": 3
   },
   "file_extension": ".py",
   "mimetype": "text/x-python",
   "name": "python",
   "nbconvert_exporter": "python",
   "pygments_lexer": "ipython3",
   "version": "3.12.11"
  }
 },
 "nbformat": 4,
 "nbformat_minor": 5
}
