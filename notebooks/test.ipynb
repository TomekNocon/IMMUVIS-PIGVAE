{
 "cells": [
  {
   "cell_type": "code",
   "execution_count": 1,
   "metadata": {},
   "outputs": [
    {
     "data": {
      "text/plain": [
       "PosixPath('/Users/tomeknocon/MIM/Master_Thesis/IMMUVIS-PIGVAE')"
      ]
     },
     "execution_count": 1,
     "metadata": {},
     "output_type": "execute_result"
    }
   ],
   "source": [
    "import os\n",
    "import rootutils\n",
    "rootutils.setup_root(os.getcwd(), indicator=\".project-root\", pythonpath=True)"
   ]
  },
  {
   "cell_type": "code",
   "execution_count": 2,
   "metadata": {},
   "outputs": [],
   "source": [
    "from torchvision import transforms\n",
    "from torchvision import datasets\n",
    "import torch\n",
    "from src.data.components.graphs_datamodules import  SplitPatches, CellDataset, GraphDataModule\n",
    "from src.data.mnist_datamodule import MNISTDataModule"
   ]
  },
  {
   "cell_type": "code",
   "execution_count": 3,
   "metadata": {},
   "outputs": [],
   "source": [
    "from torchvision.datasets import MNIST\n",
    "from torch.utils.data import ConcatDataset, DataLoader, Dataset, random_split\n",
    "\n",
    "transform = transforms.Compose([\n",
    "            transforms.ToTensor(), \n",
    "            transforms.Normalize((0.1307,), (0.3081,)),\n",
    "            transforms.Resize((24, 24)),\n",
    "            transforms.Lambda(lambda x: x.unsqueeze(0)),\n",
    "            SplitPatches(4)\n",
    "        ])\n",
    "\n",
    "trainset = MNIST(\n",
    "               '../data', train=True, transform=transform\n",
    "            )\n",
    "testset = MNIST(\n",
    "               '../data', train=False, transform=transform\n",
    "            )\n",
    "dataset = ConcatDataset(datasets=[trainset, testset])"
   ]
  },
  {
   "cell_type": "code",
   "execution_count": 4,
   "metadata": {},
   "outputs": [],
   "source": [
    "data_train, data_val, data_test = random_split(\n",
    "                dataset=dataset,\n",
    "                lengths=[100, 10, 69890],\n",
    "                generator=torch.Generator().manual_seed(42),\n",
    "            )"
   ]
  },
  {
   "cell_type": "code",
   "execution_count": 5,
   "metadata": {},
   "outputs": [],
   "source": [
    "import networkx as nx\n",
    "\n",
    "class GridGraphDataset(Dataset):\n",
    "    def __init__(self,\n",
    "                 dataset,\n",
    "                 grid_size: int, \n",
    "                 channels, \n",
    "        ):\n",
    "        self.grid_size = grid_size\n",
    "        self.dataset = dataset\n",
    "        self.channels = channels\n",
    "        \n",
    "    def __len__(self):\n",
    "        return len(self.dataset)\n",
    "    \n",
    "    def __getitem__(self, idx):\n",
    "        g = nx.grid_graph((self.grid_size, self.grid_size))\n",
    "        img = self.dataset[idx][0].to(torch.float32)\n",
    "        target =self.dataset[idx][1]\n",
    "        return (g, img, target)"
   ]
  },
  {
   "cell_type": "code",
   "execution_count": 6,
   "metadata": {},
   "outputs": [],
   "source": [
    "d = GridGraphDataset(data_train, 6, [0])"
   ]
  },
  {
   "cell_type": "code",
   "execution_count": 7,
   "metadata": {},
   "outputs": [],
   "source": [
    "m = MNISTDataModule('../data', [100, 10, 69890], 32, 1)"
   ]
  },
  {
   "cell_type": "code",
   "execution_count": 8,
   "metadata": {},
   "outputs": [],
   "source": [
    "m.setup()\n",
    "t = m.train_dataloader()"
   ]
  },
  {
   "cell_type": "code",
   "execution_count": 9,
   "metadata": {},
   "outputs": [],
   "source": [
    "for el in t:\n",
    "    break"
   ]
  },
  {
   "cell_type": "code",
   "execution_count": 10,
   "metadata": {},
   "outputs": [
    {
     "data": {
      "text/plain": [
       "DenseGraphBatch(edge_features=[0], mask=[32, 36], node_features=[32, 36, 16], properties=[32], y=[32])"
      ]
     },
     "execution_count": 10,
     "metadata": {},
     "output_type": "execute_result"
    }
   ],
   "source": [
    "el"
   ]
  },
  {
   "cell_type": "code",
   "execution_count": null,
   "metadata": {},
   "outputs": [],
   "source": []
  }
 ],
 "metadata": {
  "kernelspec": {
   "display_name": "pigvae",
   "language": "python",
   "name": "python3"
  },
  "language_info": {
   "codemirror_mode": {
    "name": "ipython",
    "version": 3
   },
   "file_extension": ".py",
   "mimetype": "text/x-python",
   "name": "python",
   "nbconvert_exporter": "python",
   "pygments_lexer": "ipython3",
   "version": "3.8.20"
  }
 },
 "nbformat": 4,
 "nbformat_minor": 2
}
