{
 "cells": [
  {
   "cell_type": "code",
   "execution_count": 1,
   "metadata": {},
   "outputs": [],
   "source": [
    "import os\n",
    "import rootutils\n",
    "\n",
    "rootutils.setup_root(os.getcwd(), indicator=\".project-root\", pythonpath=True)\n",
    "\n",
    "from torchvision import transforms\n",
    "import torch\n",
    "from src.data.components.graphs_datamodules import (\n",
    "    SplitPatches,\n",
    ")\n",
    "from src.data.mnist_datamodule import MNISTDataModule\n",
    "from src.data.mnist_datamodule import add_channel\n",
    "import src.data.components.graphs_datamodules as gd\n",
    "from torchvision.datasets import MNIST\n",
    "from torch.utils.data import ConcatDataset, Dataset, random_split"
   ]
  },
  {
   "cell_type": "code",
   "execution_count": 24,
   "metadata": {},
   "outputs": [
    {
     "data": {
      "text/plain": [
       "tensor([[[ 0.,  1.,  4.,  5., 16., 17., 20., 21.],\n",
       "         [ 2.,  3.,  6.,  7., 18., 19., 22., 23.],\n",
       "         [ 8.,  9., 12., 13., 24., 25., 28., 29.],\n",
       "         [10., 11., 14., 15., 26., 27., 30., 31.]]])"
      ]
     },
     "execution_count": 24,
     "metadata": {},
     "output_type": "execute_result"
    }
   ],
   "source": [
    "example = torch.arange(32, dtype=torch.float32).view(1, 2, 4, 4)\n",
    "s = SplitPatches(2)\n",
    "\n",
    "s(example)"
   ]
  },
  {
   "cell_type": "code",
   "execution_count": 23,
   "metadata": {},
   "outputs": [
    {
     "data": {
      "text/plain": [
       "tensor([0, 1, 2, 3])"
      ]
     },
     "execution_count": 23,
     "metadata": {},
     "output_type": "execute_result"
    }
   ],
   "source": [
    "example = torch.arange(4).view(2, 2)\n",
    "example.flatten()"
   ]
  },
  {
   "cell_type": "code",
   "execution_count": 13,
   "metadata": {},
   "outputs": [],
   "source": [
    "from src.models.components.plot import restore_tensor\n",
    "import matplotlib.pyplot as plt\n",
    "\n",
    "base_transforms = transforms.Compose(\n",
    "    [\n",
    "        transforms.ToTensor(),\n",
    "        transforms.Normalize((0.1307,), (0.3081,)),\n",
    "        transforms.Resize((26, 26)),\n",
    "        add_channel,\n",
    "        SplitPatches(2),\n",
    "    ]\n",
    ")\n",
    "\n",
    "aug_transforms_train = gd.PatchAugmentations(\n",
    "    prob=1.0,\n",
    "    size=26,\n",
    "    patch_size=2,\n",
    ")\n",
    "\n",
    "aug_transforms_val = gd.PatchAugmentations(\n",
    "    prob=1.0,\n",
    "    size=26,\n",
    "    patch_size=2,\n",
    "    is_validation=True,\n",
    ")\n",
    "\n",
    "dual_transforms_train = gd.DualOutputTransform(base_transforms, aug_transforms_train)\n",
    "\n",
    "dual_transforms_val = gd.DualOutputTransform(base_transforms, aug_transforms_val)\n",
    "\n",
    "trainset = MNIST(\"../data/\", train=True, transform=dual_transforms_train)\n",
    "testset = MNIST(\"../data/\", train=False, transform=dual_transforms_val)\n",
    "train_ratio, val_ratio, test_ratio, leftover_ratio = [2_000, 2_00, 1_00, 67_700]\n",
    "size_testset = len(testset)\n",
    "size_trainset = len(trainset)\n",
    "data_train, _ = random_split(\n",
    "    dataset=trainset,\n",
    "    lengths=[train_ratio, size_trainset - train_ratio],\n",
    "    generator=torch.Generator().manual_seed(42),\n",
    ")\n",
    "# dataset = ConcatDataset(datasets=[trainset, testset])\n",
    "data_val, data_test, _ = random_split(\n",
    "    dataset=testset,\n",
    "    lengths=[val_ratio, test_ratio, size_testset - val_ratio - test_ratio],\n",
    "    generator=torch.Generator().manual_seed(42),\n",
    ")\n",
    "\n",
    "train_dataset = gd.GridGraphDataset(grid_size=13, dataset=data_train, channels=[0])\n",
    "\n",
    "train_loader = gd.DenseGraphDataLoader(\n",
    "    dataset=train_dataset,\n",
    "    batch_size=64,\n",
    "    num_workers=7,\n",
    "    pin_memory=False,\n",
    "    persistent_workers=7 > 0,\n",
    ")"
   ]
  },
  {
   "cell_type": "code",
   "execution_count": 14,
   "metadata": {},
   "outputs": [],
   "source": [
    "for el in train_dataset:\n",
    "    break"
   ]
  },
  {
   "cell_type": "code",
   "execution_count": 15,
   "metadata": {},
   "outputs": [
    {
     "data": {
      "text/plain": [
       "torch.Size([8, 1, 169, 4])"
      ]
     },
     "execution_count": 15,
     "metadata": {},
     "output_type": "execute_result"
    }
   ],
   "source": [
    "el[1].shape"
   ]
  },
  {
   "cell_type": "code",
   "execution_count": 12,
   "metadata": {},
   "outputs": [
    {
     "data": {
      "text/plain": [
       "torch.Size([512, 36, 16])"
      ]
     },
     "execution_count": 12,
     "metadata": {},
     "output_type": "execute_result"
    }
   ],
   "source": [
    "el.node_features.shape"
   ]
  },
  {
   "cell_type": "code",
   "execution_count": 10,
   "metadata": {},
   "outputs": [],
   "source": [
    "for el in train_loader:\n",
    "    break"
   ]
  },
  {
   "cell_type": "code",
   "execution_count": null,
   "metadata": {},
   "outputs": [],
   "source": [
    "imgs = el.node_features\n",
    "args = el.argsort_augmented_features\n",
    "p = el.perms"
   ]
  },
  {
   "cell_type": "code",
   "execution_count": null,
   "metadata": {},
   "outputs": [
    {
     "data": {
      "text/plain": [
       "tensor([3, 6, 1, 0, 5, 7, 4, 2])"
      ]
     },
     "execution_count": 60,
     "metadata": {},
     "output_type": "execute_result"
    }
   ],
   "source": [
    "p[[0, 64, 128, 192, 256, 320, 384, 448]]"
   ]
  },
  {
   "cell_type": "code",
   "execution_count": null,
   "metadata": {},
   "outputs": [
    {
     "data": {
      "text/plain": [
       "tensor(0.6819)"
      ]
     },
     "execution_count": 61,
     "metadata": {},
     "output_type": "execute_result"
    }
   ],
   "source": [
    "probs = torch.tensor(\n",
    "    [[0.0, 0.4, 0.6], [0.0, 0.6, 0.4], [0.0, 0.4, 0.6], [0.0, 0.9, 0.1]]\n",
    ")\n",
    "\n",
    "\n",
    "avg_probs = probs.mean(dim=0)\n",
    "log_avg_probs = torch.log(avg_probs + 1e-12)\n",
    "entropy = -torch.sum(avg_probs * log_avg_probs)  # scalar\n",
    "entropy"
   ]
  },
  {
   "cell_type": "code",
   "execution_count": null,
   "metadata": {},
   "outputs": [
    {
     "data": {
      "text/plain": [
       "tensor([-27.6310,  -0.5534,  -0.8557])"
      ]
     },
     "execution_count": 62,
     "metadata": {},
     "output_type": "execute_result"
    }
   ],
   "source": [
    "log_avg_probs"
   ]
  },
  {
   "cell_type": "code",
   "execution_count": null,
   "metadata": {},
   "outputs": [],
   "source": [
    "probs = torch.tensor(\n",
    "    [[0.1, 0.3, 0.6], [0.4, 0.2, 0.4], [0.5, 0.4, 0.1], [0.8, 0.1, 0.1]]\n",
    ")\n",
    "\n",
    "probs_expanded = probs.unsqueeze(-1).unsqueeze(-1)\n",
    "\n",
    "perms_buffer = torch.tensor([[[1, 0], [0, 1]], [[0, 1], [1, 0]], [[1, 0], [1, 0]]])"
   ]
  },
  {
   "cell_type": "code",
   "execution_count": null,
   "metadata": {},
   "outputs": [],
   "source": [
    "perm = torch.sum(probs_expanded * perms_buffer.unsqueeze(0), dim=1)\n",
    "perm = torch.sum(probs_expanded * perms_buffer, dim=1)"
   ]
  },
  {
   "cell_type": "code",
   "execution_count": null,
   "metadata": {},
   "outputs": [],
   "source": [
    "res = [img[arg, :] for img, arg in zip(imgs, args)]\n",
    "res = torch.stack(res, dim=0)"
   ]
  },
  {
   "cell_type": "code",
   "execution_count": null,
   "metadata": {},
   "outputs": [
    {
     "data": {
      "text/plain": [
       "tensor([ 0,  1,  2,  3,  4,  5,  6,  7,  8,  9, 10, 11, 12, 13, 14, 15, 16, 17,\n",
       "        18, 19, 20, 21, 22, 23, 24, 25, 26, 27, 28, 29, 30, 31, 32, 33, 34, 35])"
      ]
     },
     "execution_count": 66,
     "metadata": {},
     "output_type": "execute_result"
    }
   ],
   "source": [
    "args[192]"
   ]
  },
  {
   "cell_type": "code",
   "execution_count": null,
   "metadata": {},
   "outputs": [],
   "source": [
    "# import torch\n",
    "# import torch.nn as nn\n",
    "# import torch.nn.functional as F\n",
    "# import networkx as nx\n",
    "# import math\n",
    "\n",
    "# # from torch.nn.attention import SDPBackend\n",
    "# from typing import Optional\n",
    "# from src.models.components.custom_pytorch_functions import RMSNorm\n",
    "# from src.models.components.rotary_embedding import BaseRotaryEmbedding\n",
    "\n",
    "\n",
    "# \"\"\"\n",
    "# adapted from https://github.com/jadore801120/attention-is-all-you-need-pytorch\n",
    "# \"\"\"\n",
    "\n",
    "\n",
    "# class Transformer(nn.Module):\n",
    "#     def __init__(\n",
    "#         self,\n",
    "#         hidden_dim: int,\n",
    "#         num_heads: int,\n",
    "#         ppf_hidden_dim: int,\n",
    "#         num_layers: int,\n",
    "#         dropout: float = 0.1,\n",
    "#         rope: Optional[BaseRotaryEmbedding] = None,\n",
    "#     ):\n",
    "#         super().__init__()\n",
    "#         self.num_layers = num_layers\n",
    "#         self.ppf_hidden_dim = ppf_hidden_dim  # TBDeleted\n",
    "#         # self.embedding_layer = EmbeddingLayer(\n",
    "#         #     config.vocab_size, config.d_model, config.max_len\n",
    "#         # )\n",
    "#         self.blocks = nn.ModuleList(\n",
    "#             [\n",
    "#                 TransformerBlock(hidden_dim, num_heads, dropout, num_layers, rope)\n",
    "#                 for _ in range(num_layers)\n",
    "#             ]\n",
    "#         )\n",
    "\n",
    "#         self.rope = rope\n",
    "\n",
    "#         # self.head = nn.Linear(config.d_model, config.vocab_size, bias=False)\n",
    "\n",
    "#     def forward(\n",
    "#         self, x: torch.Tensor, is_encoder: bool, a, mask: Optional[torch.Tensor] = None\n",
    "#     ) -> torch.Tensor:\n",
    "#         # output = self.embedding_layer(input_ids)\n",
    "\n",
    "#         for block in self.blocks:\n",
    "#             x = block(x, is_encoder, a, mask)\n",
    "\n",
    "#         output = x\n",
    "#         print(f'Img 0 {output[0][1:][a[0], :][4][11]}')\n",
    "#         print(f'Img 64 {output[64][1:][a[64], :][4][11]}')\n",
    "#         print()\n",
    "#         # output = self.head(output)\n",
    "#         return output\n",
    "\n",
    "#     @property\n",
    "#     def is_rope(self) -> bool:\n",
    "#         return self.rope is not None\n",
    "\n",
    "\n",
    "# class TransformerBlock(nn.Module):\n",
    "#     \"\"\"TransformerBlock Module.\n",
    "\n",
    "#     Args:\n",
    "#         layer_id (int): Identifier for the layer.\n",
    "#         model_args (ModelArgs): Model configuration arguments.\n",
    "\n",
    "#     Attributes:\n",
    "#         n_heads (int): Number of attention heads.\n",
    "#         dim (int): Dimension size of the model.\n",
    "#         head_dim (int): Dimension size of each attention head.\n",
    "#         attention (Attention): Attention module.\n",
    "#         feed_forward (FeedForward): FeedForward module.\n",
    "#         layer_id (int): Identifier for the layer.\n",
    "#         attention_norm (RMSNorm): Layer normalization for attention output.\n",
    "#         ffn_norm (RMSNorm): Layer normalization for feedforward output.\n",
    "\n",
    "#     \"\"\"\n",
    "\n",
    "#     def __init__(\n",
    "#         self,\n",
    "#         hidden_dim: torch.Tensor,\n",
    "#         n_head: torch.Tensor,\n",
    "#         dropout: float,\n",
    "#         num_layers: Optional[int] = None,\n",
    "#         rope: Optional[BaseRotaryEmbedding] = None,\n",
    "#     ):\n",
    "#         super().__init__()\n",
    "#         self.attention_layer = SelfAttention(n_head, hidden_dim, dropout, rope)\n",
    "#         self.feed_forward_layer = FeedForward(\n",
    "#             hidden_dim=hidden_dim,\n",
    "#             ffn_hidden_dim=hidden_dim,  # I put the same since this is computed in feed forward layer\n",
    "#             multiple_of=32,  # fine tune that\n",
    "#             ffn_dim_multiplier=None,\n",
    "#         )\n",
    "\n",
    "#         self.attention_norm = RMSNorm(hidden_dim=hidden_dim, eps=1e-5)\n",
    "#         self.ffn_norm = RMSNorm(hidden_dim=hidden_dim, eps=1e-5)\n",
    "#         self.num_layers = num_layers\n",
    "\n",
    "#         # if model_args.depth_init:\n",
    "#         #     self.weight_init_std = 0.02 / (2 * (self.layer_id + 1)) ** 0.5\n",
    "#         # else:\n",
    "#         #     self.weight_init_std = 0.02 / (2 * self.num_layers) ** 0.5\n",
    "\n",
    "#         self.weight_init_std = 0.02 / (2 * self.num_layers) ** 0.5\n",
    "\n",
    "#     # def forward(\n",
    "#     #     self,\n",
    "#     #     x: torch.Tensor,\n",
    "#     #     freqs_cis: torch.Tensor,\n",
    "#     # ):\n",
    "#     #     \"\"\"Perform a forward pass through the TransformerBlock.\n",
    "\n",
    "#     #     Args:\n",
    "#     #         x (torch.Tensor): Input tensor.\n",
    "#     #         freqs_cis (torch.Tensor): Precomputed cosine and sine frequencies.\n",
    "\n",
    "#     #     Returns:\n",
    "#     #         torch.Tensor: Output tensor after applying attention and feedforward layers.\n",
    "\n",
    "#     #     \"\"\"\n",
    "#     #     h = x + self.attention(self.attention_norm(x), freqs_cis)\n",
    "#     #     return h + self.feed_forward(self.ffn_norm(h))\n",
    "\n",
    "#     def forward(\n",
    "#         self,\n",
    "#         x: torch.Tensor,\n",
    "#         is_encoder: bool,\n",
    "#         a,\n",
    "#         attention_mask: Optional[torch.Tensor] = None,\n",
    "#     ) -> torch.Tensor:\n",
    "\n",
    "#         out_attention = self.attention_layer(\n",
    "#             self.attention_norm(x), a, is_encoder, attention_mask\n",
    "#         )\n",
    "\n",
    "#         x = x + out_attention\n",
    "\n",
    "#         out_feed_forward = self.feed_forward_layer(self.ffn_norm(x), a)\n",
    "#         x = x + out_feed_forward\n",
    "#         return x\n",
    "\n",
    "#     def init_weights(self):\n",
    "#         for norm in (self.attention_norm, self.ffn_norm):\n",
    "#             norm.reset_parameters()\n",
    "#         self.attention.init_weights(self.weight_init_std)\n",
    "#         self.feed_forward.init_weights(self.weight_init_std)\n",
    "\n",
    "\n",
    "# class FeedForward(nn.Module):\n",
    "#     \"\"\"FeedForward module.\n",
    "\n",
    "#     Args:\n",
    "#         dim (int): Input dimension.\n",
    "#         hidden_dim (int): Hidden dimension of the feedforward layer.\n",
    "#         multiple_of (int): Value to ensure hidden dimension is a multiple of this value.\n",
    "#         ffn_dim_multiplier (Optional[float]): Custom multiplier for hidden dimension. Defaults to None.\n",
    "\n",
    "#     Attributes:\n",
    "#         w1 (Linear): Linear transformation for the first layer.\n",
    "#         w2 (Linear): Linear transformation for the second layer.\n",
    "#         w3 (Linear): Linear transformation for the third layer.\n",
    "\n",
    "#     \"\"\"\n",
    "\n",
    "#     def __init__(\n",
    "#         self,\n",
    "#         hidden_dim: int,\n",
    "#         ffn_hidden_dim: int,\n",
    "#         multiple_of: int,\n",
    "#         dropout: Optional[float] = 0.0,\n",
    "#         ffn_dim_multiplier: Optional[float] = None,\n",
    "#     ):\n",
    "#         super().__init__()\n",
    "#         ffn_hidden_dim = int(2 * ffn_hidden_dim / 3)\n",
    "#         # custom dim factor multiplier\n",
    "#         if ffn_dim_multiplier is not None:\n",
    "#             ffn_hidden_dim = int(ffn_dim_multiplier * ffn_hidden_dim)\n",
    "#         ffn_hidden_dim = multiple_of * (\n",
    "#             (ffn_hidden_dim + multiple_of - 1) // multiple_of\n",
    "#         )\n",
    "\n",
    "#         self.w1 = nn.Linear(hidden_dim, ffn_hidden_dim, bias=False)\n",
    "#         self.w2 = nn.Linear(ffn_hidden_dim, hidden_dim, bias=False)\n",
    "#         self.w3 = nn.Linear(hidden_dim, ffn_hidden_dim, bias=False)\n",
    "\n",
    "#         self.dropout = torch.nn.Dropout(dropout)\n",
    "\n",
    "#     def forward(self, x: torch.Tensor, a) -> torch.Tensor:\n",
    "#         x = self.w2(F.silu(self.w1(x)) * self.w3(x))\n",
    "#         x = self.dropout(x)\n",
    "#         return x\n",
    "\n",
    "#     def init_weights(self, init_std: float):\n",
    "#         nn.init.trunc_normal_(self.w1.weight, mean=0.0, std=0.02)\n",
    "#         for linear in (self.w2, self.w3):\n",
    "#             nn.init.trunc_normal_(linear.weight, mean=0.0, std=init_std)\n",
    "\n",
    "\n",
    "# class SelfAttention(torch.nn.Module):\n",
    "#     def __init__(\n",
    "#         self,\n",
    "#         n_head: int,\n",
    "#         hidden_dim: int,\n",
    "#         dropout: float,\n",
    "#         rope: Optional[BaseRotaryEmbedding] = None,\n",
    "#     ):\n",
    "#         super().__init__()\n",
    "\n",
    "#         self.n_head = n_head\n",
    "#         self.hidden_dim = hidden_dim\n",
    "\n",
    "#         self.input_projection = nn.Linear(hidden_dim, 3 * hidden_dim, bias=False)\n",
    "#         self.output_projection = nn.Linear(hidden_dim, hidden_dim, bias=False)\n",
    "#         self.dropout = nn.Dropout(dropout)\n",
    "#         self.rope = rope\n",
    "\n",
    "#     def forward(\n",
    "#         self,\n",
    "#         x: torch.Tensor,\n",
    "#         a,\n",
    "#         is_encoder: bool = True,\n",
    "#         mask: Optional[torch.Tensor] = None,\n",
    "#     ) -> torch.Tensor:\n",
    "#         # x: b x nn x nn x dv\n",
    "#         batch_size, num_nodes = x.size(0), x.size(1)\n",
    "#         projected = self.input_projection(x)\n",
    "\n",
    "#         device = x.device\n",
    "\n",
    "#         # print(f'Img 0 {x[0][1:][a[0], :][4][11]}')\n",
    "#         # print(f'Img 64 {x[64][1:][a[64], :][4][11]}')\n",
    "#         # print()\n",
    "\n",
    "#         q_chunk, k_chunk, v_chunk = torch.chunk(projected, chunks=3, dim=-1)\n",
    "#         query = q_chunk.view(batch_size, num_nodes, self.n_head, -1).transpose(1, 2)\n",
    "#         key = k_chunk.view(batch_size, num_nodes, self.n_head, -1).transpose(1, 2)\n",
    "#         value = v_chunk.view(batch_size, num_nodes, self.n_head, -1).transpose(1, 2)\n",
    "#         if self.rope:\n",
    "#             query = self.rope.rotate_queries_or_keys(query)\n",
    "#             key = self.rope.rotate_queries_or_keys(key)\n",
    "\n",
    "#         if mask is None:\n",
    "#             attn_mask = get_neighborhood_mask(num_nodes, is_encoder)\n",
    "#         else:\n",
    "#             attn_mask = mask\n",
    "#         attn_mask = attn_mask.to(device)\n",
    "#         # attn_mask = attn_mask.unsqueeze(1).unsqueeze(\n",
    "#         #     2\n",
    "#         # )  # Shape: (batch_size, 1, 1, num_nodes)\n",
    "#         # attn_mask = attn_mask.expand(-1, self.n_head, num_nodes, -1)\n",
    "\n",
    "#         # with torch.nn.attention.sdpa_kernel(\n",
    "#         #     [\n",
    "#         #         SDPBackend.FLASH_ATTENTION,\n",
    "#         #         SDPBackend.EFFICIENT_ATTENTION,\n",
    "#         #         SDPBackend.MATH,\n",
    "#         #     ]\n",
    "#         # ):\n",
    "#         attention_output = F.scaled_dot_product_attention(\n",
    "#             query=query,\n",
    "#             key=key,\n",
    "#             value=value,\n",
    "#             attn_mask=attn_mask,\n",
    "#             is_causal=False,\n",
    "#         )\n",
    "\n",
    "#         output = self.output_projection(attention_output.transpose(1, 2).flatten(-2))\n",
    "#         output = self.dropout(output)\n",
    "#         return output\n",
    "\n",
    "\n",
    "# def get_neighborhood_mask(num_nodes: int, is_encoder: bool):\n",
    "#     if is_encoder:\n",
    "#         n = num_nodes - 1\n",
    "#     else:\n",
    "#         n = num_nodes\n",
    "#     n = int(math.sqrt(n))\n",
    "#     G = nx.grid_2d_graph(n, n)\n",
    "#     A = torch.tensor(nx.to_numpy_array(G))\n",
    "#     mask = A + torch.eye(A.shape[0])\n",
    "#     if is_encoder:\n",
    "#         mask = F.pad(mask, (1, 0, 1, 0), value=1)\n",
    "#     mask = mask.bool()\n",
    "#     return mask\n"
   ]
  },
  {
   "cell_type": "code",
   "execution_count": null,
   "metadata": {},
   "outputs": [],
   "source": [
    "import torch\n",
    "from typing import Tuple, Optional, Any\n",
    "import torch.nn as nn\n",
    "import torch.nn.functional as F\n",
    "\n",
    "# from src.models.components.custom_graph_transformer import Transformer\n",
    "from src.models.components.llama_graph_transformer import Transformer\n",
    "\n",
    "\n",
    "class GraphEncoder(torch.nn.Module):\n",
    "    def __init__(self):\n",
    "        super().__init__()\n",
    "\n",
    "        self.summary_node = nn.Parameter(torch.randn(1, 1, 256))\n",
    "        # nn.init.trunc_normal_(self.summary_node, std=0.02)\n",
    "        self.projection_in = nn.Linear(16, 256)\n",
    "\n",
    "        self.graph_transformer = Transformer(\n",
    "            hidden_dim=256,\n",
    "            num_heads=4,\n",
    "            ppf_hidden_dim=-1,\n",
    "            num_layers=4,\n",
    "            dropout=0.1,\n",
    "        )\n",
    "        self.fc_in = nn.Linear(256, 256)\n",
    "        self.layer_norm = nn.LayerNorm(256)\n",
    "        self.dropout = nn.Dropout(0.1)\n",
    "\n",
    "    def add_emb_node_and_feature(\n",
    "        self,\n",
    "        node_features: torch.Tensor,\n",
    "        edge_features: torch.Tensor,\n",
    "        mask: torch.Tensor,\n",
    "    ) -> Tuple[torch.Tensor, torch.Tensor, torch.Tensor]:\n",
    "        batch_size = node_features.size(0)\n",
    "        cls_tokens = self.summary_node.expand(batch_size, -1, -1)\n",
    "        node_features = torch.cat([cls_tokens, node_features], dim=1)  # (B, N+1, D)\n",
    "        mask = F.pad(mask, (1, 0), value=1)\n",
    "        return node_features, edge_features, mask\n",
    "\n",
    "    def init_message_matrix(\n",
    "        self,\n",
    "        node_features: torch.Tensor,\n",
    "        edge_features: torch.Tensor,\n",
    "        mask: torch.Tensor,\n",
    "        arg,\n",
    "    ) -> Tuple[torch.Tensor, torch.Tensor]:\n",
    "        x1 = node_features[0][arg[0], :]\n",
    "        x2 = node_features[64][arg[64], :]\n",
    "        # print(x1[4][11])\n",
    "        # print(x2[4][11])\n",
    "        node_features, edge_features, mask = self.add_emb_node_and_feature(\n",
    "            node_features, edge_features, mask\n",
    "        )\n",
    "        y1 = node_features[0][1:][arg[0], :]\n",
    "        y2 = node_features[64][1:][arg[64], :]\n",
    "        # print(y1[4][11])\n",
    "        # print(y2[4][11])\n",
    "        # print(node_features[0][0][11])\n",
    "        # print(node_features[11][0][11])\n",
    "        x = self.layer_norm(self.dropout(self.fc_in(node_features)))\n",
    "        return x, mask\n",
    "\n",
    "    def read_out_message_matrix(\n",
    "        self, x: torch.Tensor\n",
    "    ) -> Tuple[torch.Tensor, torch.Tensor]:\n",
    "        node_features = x\n",
    "        graph_emb, node_features = node_features[:, 0], node_features[:, 1:]\n",
    "        return graph_emb, node_features\n",
    "\n",
    "    def forward(\n",
    "        self,\n",
    "        graph,\n",
    "        device: str = \"cpu\",\n",
    "    ) -> Tuple[torch.Tensor, torch.Tensor]:\n",
    "        node_features = graph.node_features\n",
    "        edge_features = graph.edge_features\n",
    "        mask = graph.mask\n",
    "        argsort = graph.argsort_augmented_features\n",
    "        node_features = node_features.to(device)\n",
    "        node_features = self.projection_in(node_features)\n",
    "        x, _ = self.init_message_matrix(node_features, edge_features, mask, argsort)\n",
    "        x = self.graph_transformer(x, mask=None, is_encoder=True)\n",
    "        print(x[0][1:][argsort[0], :][4][11])\n",
    "        print(x[64][1:][argsort[64], :][4][11])\n",
    "        graph_emb, node_features = self.read_out_message_matrix(x)\n",
    "        print(node_features[0][argsort[0], :][4][11])\n",
    "        print(node_features[64][argsort[64], :][4][11])\n",
    "        print(graph_emb[1][4:14])\n",
    "        print(graph_emb[65][4:14])\n",
    "        return graph_emb, node_features"
   ]
  },
  {
   "cell_type": "code",
   "execution_count": null,
   "metadata": {},
   "outputs": [],
   "source": [
    "encoder = GraphEncoder()"
   ]
  },
  {
   "cell_type": "code",
   "execution_count": null,
   "metadata": {},
   "outputs": [
    {
     "name": "stdout",
     "output_type": "stream",
     "text": [
      "tensor(-0.3452)\n",
      "tensor(-0.3452)\n",
      "tensor(-0.3452)\n",
      "tensor(-0.3452)\n",
      "tensor([ 0.1654,  0.1166,  0.5713,  0.6024,  1.5049, -0.4838,  1.3610,  0.0663,\n",
      "         0.4718,  0.5511])\n",
      "tensor([ 0.1654,  0.1166,  0.5713,  0.6024,  1.5049, -0.4838,  1.3610,  0.0663,\n",
      "         0.4718,  0.5511])\n"
     ]
    }
   ],
   "source": [
    "encoder.eval()\n",
    "with torch.no_grad():\n",
    "    out = encoder(el)"
   ]
  },
  {
   "cell_type": "markdown",
   "metadata": {},
   "source": [
    "dataloader is set up correctly \n",
    "- img[i][argsort[i], :] == img[i + batch_size][argsort[i + batch_size], : ]\n",
    "- after the linear projection we still have the same eqiality \n",
    "- addinf cls tokne up front works, meaning that:\n",
    "    img[i][1:][argsort[i], :] == img[i + batch_size][1:][argsort[i + batch_size], : ]\n",
    "the cls token is the same for everyone which should not be strange since we expand it along dims - q: should I have more cls tokens?\n",
    "- after this line self.layer_norm(self.dropout(self.fc_in(node_features))) it still holds, means that up to usage of the transformer model we have the same values just reorder - it is not true if encoder.train() because we have dropout\n",
    "- this is not true after transformer so I need to check why\n",
    "- after this out_attention = self.attention_layer(\n",
    "            self.attention_norm(x), a, is_encoder, attention_mask\n",
    "        )\n",
    "which is basiaclly the attrntion step the values remains the same \n",
    "- There is for sure the number stablity or precision\n",
    "- it good, it seems that the graph_emb is the same for the img[i] and img[j + batch_size] if i == j and is different if i != j\n"
   ]
  },
  {
   "cell_type": "markdown",
   "metadata": {},
   "source": []
  },
  {
   "cell_type": "code",
   "execution_count": null,
   "metadata": {},
   "outputs": [],
   "source": [
    "for i in range(64):\n",
    "    for j in range(8):\n",
    "        are_close = torch.allclose(out[0][i], out[0][i + j * 64], rtol=1e-4, atol=1e-5)\n",
    "        if not are_close:\n",
    "            print(are_close)"
   ]
  },
  {
   "cell_type": "code",
   "execution_count": null,
   "metadata": {},
   "outputs": [],
   "source": [
    "import src.models.components.metrics.recontructions as R\n",
    "import src.models.components.plot as pL\n",
    "\n",
    "idx_to_show = R.batch_augmented_indices(64, num_permutations=8, n_examples=10)"
   ]
  },
  {
   "cell_type": "code",
   "execution_count": null,
   "metadata": {},
   "outputs": [],
   "source": [
    "to_show = all_out[0][idx_to_show, :]\n",
    "subset_targets = el.y[:10]\n",
    "pca_predictions = to_show.detach().cpu().squeeze().numpy()"
   ]
  },
  {
   "cell_type": "code",
   "execution_count": null,
   "metadata": {},
   "outputs": [
    {
     "data": {
      "image/png": "[encoded data removed]",
      "text/plain": [
       "<Figure size 800x600 with 1 Axes>"
      ]
     },
     "metadata": {},
     "output_type": "display_data"
    }
   ],
   "source": [
    "fig_pca = pL.plot_pca(pca_predictions, subset_targets, n_rows=10, n_cols=8)"
   ]
  },
  {
   "cell_type": "code",
   "execution_count": 5,
   "metadata": {},
   "outputs": [],
   "source": [
    "import src.models.pigvae_auto_module as pam"
   ]
  },
  {
   "cell_type": "code",
   "execution_count": null,
   "metadata": {},
   "outputs": [],
   "source": [
    "import yaml\n",
    "\n",
    "with open(\n",
    "    \"/Users/tomasznocon/Documents/MIM/Repositories/Master thesis/immuvis/configs/model/model.yaml\",\n",
    "    \"r\",\n",
    ") as f:\n",
    "    cfg = yaml.safe_load(f)"
   ]
  },
  {
   "cell_type": "code",
   "execution_count": null,
   "metadata": {},
   "outputs": [],
   "source": [
    "from types import SimpleNamespace\n",
    "\n",
    "ga = SimpleNamespace(\n",
    "    input_size=256,\n",
    "    num_heads=4,\n",
    "    num_layers=4,\n",
    "    emb_dim=64,\n",
    "    vae=False,\n",
    "    dropout=0.1,\n",
    "    encoder=SimpleNamespace(\n",
    "        graph_encoder_hidden_dim=256,\n",
    "        num_node_features=16,\n",
    "        num_edge_features=0,\n",
    "        graph_encoder_num_heads=4,\n",
    "        graph_encoder_ppf_hidden_dim=1024,\n",
    "        graph_encoder_num_layers=4,\n",
    "        emb_dim=64,\n",
    "        dropout=0.0,\n",
    "        grid_size=6,\n",
    "    ),\n",
    "    decoder=SimpleNamespace(\n",
    "        graph_decoder_hidden_dim=256,\n",
    "        graph_decoder_pos_emb_dim=256,\n",
    "        graph_decoder_num_heads=4,\n",
    "        graph_decoder_ppf_hidden_dim=1024,\n",
    "        graph_decoder_num_layers=4,\n",
    "        dropout=0.1,\n",
    "        head_dim=64,\n",
    "        num_node_features=16,\n",
    "        num_edge_features=0,\n",
    "    ),\n",
    "    bottle_neck_encoder=SimpleNamespace(\n",
    "        graph_encoder_hidden_dim=256,\n",
    "        emb_dim=64,\n",
    "        vae=False,\n",
    "        activation=\"silu\",\n",
    "        num_permutations=8,\n",
    "    ),\n",
    "    bottle_neck_decoder=SimpleNamespace(emb_dim=64, graph_decoder_hidden_dim=256),\n",
    "    property_predictor=SimpleNamespace(\n",
    "        emb_dim=64, property_predictor_hidden_dim=256, num_properties=1\n",
    "    ),\n",
    "    permuter=SimpleNamespace(\n",
    "        graph_decoder_hidden_dim=256,\n",
    "        graph_decoder_num_heads=4,\n",
    "        graph_decoder_ppf_hidden_dim=1024,\n",
    "        dropout=0.1,\n",
    "        num_permutations=8,\n",
    "        grid_size=6,\n",
    "        break_symmetry_scale=0.05,\n",
    "        emb_dim=64,\n",
    "        turn_off=False,\n",
    "        use_ce=False,\n",
    "        head_dim=64,\n",
    "        num_node_features=16,\n",
    "    ),\n",
    ")\n",
    "\n",
    "ts = SimpleNamespace(initial_tau=1.0, final_tau=0.3, num_epochs=500, start_epoch=1)\n",
    "\n",
    "ews = SimpleNamespace(\n",
    "    initial_weight=0.2,\n",
    "    final_weight=0.05,\n",
    "    mode=\"exponential\",\n",
    "    num_epochs=500,\n",
    "    start_epoch=1,\n",
    ")\n",
    "\n",
    "c = SimpleNamespace(\n",
    "    kld_loss_scale=0.001,\n",
    "    perm_loss_scale=0.7,\n",
    "    contrastive_loss_scale=0.01,\n",
    "    temperature=0.07,\n",
    "    num_aug_per_sample=8,\n",
    "    vae=False,\n",
    ")\n",
    "\n",
    "o = SimpleNamespace(_partial_=True, lr=1e-4, weight_decay=0.0)\n",
    "\n",
    "s = SimpleNamespace(\n",
    "    batch_size=64,  # it might be acctully batch_size * 8\n",
    "    warmup=0.1,\n",
    ")\n",
    "\n",
    "com = SimpleNamespace(compile=False)"
   ]
  },
  {
   "cell_type": "code",
   "execution_count": null,
   "metadata": {},
   "outputs": [
    {
     "name": "stderr",
     "output_type": "stream",
     "text": [
      "/Users/tomasznocon/Documents/MIM/Repositories/Master thesis/immuvis/.venv/lib/python3.12/site-packages/lightning/pytorch/utilities/parsing.py:209: Attribute 'critic' is an instance of `nn.Module` and is already saved during checkpointing. It is recommended to ignore them using `self.save_hyperparameters(ignore=['critic'])`.\n",
      "/Users/tomasznocon/Documents/MIM/Repositories/Master thesis/immuvis/.venv/lib/python3.12/site-packages/lightning/pytorch/utilities/parsing.py:209: Attribute 'temperature_scheduler' is an instance of `nn.Module` and is already saved during checkpointing. It is recommended to ignore them using `self.save_hyperparameters(ignore=['temperature_scheduler'])`.\n",
      "/Users/tomasznocon/Documents/MIM/Repositories/Master thesis/immuvis/.venv/lib/python3.12/site-packages/lightning/pytorch/utilities/parsing.py:209: Attribute 'entropy_weight_scheduler' is an instance of `nn.Module` and is already saved during checkpointing. It is recommended to ignore them using `self.save_hyperparameters(ignore=['entropy_weight_scheduler'])`.\n",
      "/Users/tomasznocon/Documents/MIM/Repositories/Master thesis/immuvis/.venv/lib/python3.12/site-packages/lightning/pytorch/utilities/parsing.py:209: Attribute 'graph_ae' is an instance of `nn.Module` and is already saved during checkpointing. It is recommended to ignore them using `self.save_hyperparameters(ignore=['graph_ae'])`.\n"
     ]
    }
   ],
   "source": [
    "from src.models.components.modules import GraphAE\n",
    "from src.models.components.model import Critic\n",
    "from src.models.components.schedulers import (\n",
    "    TemperatureScheduler,\n",
    "    EntropyWeightScheduler,\n",
    ")\n",
    "from torch.optim import Adam\n",
    "from src.models.components.warmups import get_cosine_schedule_with_warmup\n",
    "\n",
    "\n",
    "graph_ae = GraphAE(ga)\n",
    "critic = Critic(c)\n",
    "temperature_scheduler = TemperatureScheduler(ts)\n",
    "entropy_weight_scheduler = EntropyWeightScheduler(ews)\n",
    "adam = lambda params: torch.optim.Adam(params, lr=1e-3)\n",
    "\n",
    "\n",
    "model = pam.PLGraphAE(\n",
    "    graph_ae, critic, temperature_scheduler, entropy_weight_scheduler, adam, s, False\n",
    ")"
   ]
  },
  {
   "cell_type": "code",
   "execution_count": 6,
   "metadata": {},
   "outputs": [
    {
     "name": "stderr",
     "output_type": "stream",
     "text": [
      "/Users/tomasznocon/Documents/MIM/Repositories/Master thesis/immuvis/.venv/lib/python3.12/site-packages/lightning/pytorch/utilities/parsing.py:209: Attribute 'critic' is an instance of `nn.Module` and is already saved during checkpointing. It is recommended to ignore them using `self.save_hyperparameters(ignore=['critic'])`.\n",
      "/Users/tomasznocon/Documents/MIM/Repositories/Master thesis/immuvis/.venv/lib/python3.12/site-packages/lightning/pytorch/utilities/parsing.py:209: Attribute 'temperature_scheduler' is an instance of `nn.Module` and is already saved during checkpointing. It is recommended to ignore them using `self.save_hyperparameters(ignore=['temperature_scheduler'])`.\n",
      "/Users/tomasznocon/Documents/MIM/Repositories/Master thesis/immuvis/.venv/lib/python3.12/site-packages/lightning/pytorch/utilities/parsing.py:209: Attribute 'entropy_weight_scheduler' is an instance of `nn.Module` and is already saved during checkpointing. It is recommended to ignore them using `self.save_hyperparameters(ignore=['entropy_weight_scheduler'])`.\n",
      "/Users/tomasznocon/Documents/MIM/Repositories/Master thesis/immuvis/.venv/lib/python3.12/site-packages/lightning/pytorch/utilities/parsing.py:209: Attribute 'graph_ae' is an instance of `nn.Module` and is already saved during checkpointing. It is recommended to ignore them using `self.save_hyperparameters(ignore=['graph_ae'])`.\n"
     ]
    }
   ],
   "source": [
    "model = pam.PLGraphAE.load_from_checkpoint('/Users/tomasznocon/Documents/MIM/Repositories/Master thesis/immuvis/logs/train/runs/2025-08-02_19-54-19/checkpoints/epoch_160.ckpt')"
   ]
  },
  {
   "cell_type": "code",
   "execution_count": 7,
   "metadata": {},
   "outputs": [],
   "source": [
    "model = model.to('cpu')"
   ]
  },
  {
   "cell_type": "code",
   "execution_count": null,
   "metadata": {},
   "outputs": [],
   "source": [
    "# el.node_features = el.node_features.to('mps')\n",
    "# el.edge_features = el.edge_features.to('mps')\n",
    "# el.properties = el.properties.to('mps')\n",
    "# el.mask = el.mask.to('mps')\n",
    "# el.argsort_augmented_features = el.argsort_augmented_features.to('mps')\n",
    "# el.perms = el.perms.to('mps')\n",
    "# el.y = el.y.to('mps')"
   ]
  },
  {
   "cell_type": "code",
   "execution_count": 10,
   "metadata": {},
   "outputs": [],
   "source": [
    "model.eval()\n",
    "with torch.no_grad():\n",
    "    out = model.graph_ae.encoder(el.node_features, el.edge_features, el.mask)\n",
    "\n",
    "    # out = model.graph_ae.encode(\n",
    "    #     el\n",
    "    # )\n",
    "\n",
    "    # out = model.graph_ae(\n",
    "    #     el,  True, 1.0\n",
    "    # )\n",
    "\n",
    "    # all_out = model(el, True, 1.0)\n",
    "\n",
    "    graph_emb, graph_pred, soft_probs, perm, mu, logvar = model(\n",
    "            graph=el, training=True, tau=1.0\n",
    "        )\n",
    "\n",
    "    # out = model.critic.evaluate(\n",
    "    #         graph_emb=graph_emb,\n",
    "    #         graph_true=el,\n",
    "    #         graph_pred=graph_pred,\n",
    "    #         soft_probs=soft_probs,\n",
    "    #         perm=perm,\n",
    "    #         beta=0.0,\n",
    "    #         mu=mu,\n",
    "    #         logvar=logvar,\n",
    "    #         prefix=\"val\",\n",
    "        \n",
    "    # )"
   ]
  },
  {
   "cell_type": "code",
   "execution_count": 22,
   "metadata": {},
   "outputs": [
    {
     "data": {
      "text/plain": [
       "(array([[ 0.,  0.,  0., ...,  8.,  1.,  1.],\n",
       "        [ 0.,  0.,  0., ..., 15.,  1.,  0.],\n",
       "        [ 0.,  0.,  0., ...,  6.,  5.,  2.],\n",
       "        ...,\n",
       "        [ 0.,  0.,  0., ...,  5.,  4.,  0.],\n",
       "        [ 0.,  0.,  0., ..., 10.,  5.,  4.],\n",
       "        [ 0.,  0.,  0., ...,  5.,  1.,  0.]], shape=(256, 10)),\n",
       " array([-11.95947456, -10.14221191,  -8.32495022,  -6.50768757,\n",
       "         -4.6904254 ,  -2.87316322,  -1.05590057,   0.76136112,\n",
       "          2.57862377,   4.39588547,   6.21314764]),\n",
       " <a list of 256 BarContainer objects>)"
      ]
     },
     "execution_count": 22,
     "metadata": {},
     "output_type": "execute_result"
    },
    {
     "data": {
      "image/png": "[encoded data removed]",
      "text/plain": [
       "<Figure size 640x480 with 1 Axes>"
      ]
     },
     "metadata": {},
     "output_type": "display_data"
    }
   ],
   "source": [
    "import matplotlib.pyplot as plt\n",
    "\n",
    "plt.hist(out[1][1])"
   ]
  },
  {
   "cell_type": "code",
   "execution_count": 30,
   "metadata": {},
   "outputs": [],
   "source": [
    "nums = [2, 7, 9, 3, 1]\n",
    "n = len(nums)\n",
    "\n",
    "dp = [0] * (n + 1)\n",
    "dp[1] = nums[0]\n",
    "\n",
    "for i in range(2, n + 1):\n",
    "    dp[i] = max(dp[i - 1], nums[i - 1] + dp[i - 2])"
   ]
  },
  {
   "cell_type": "code",
   "execution_count": null,
   "metadata": {},
   "outputs": [
    {
     "data": {
      "text/plain": [
       "[0, 2, 7, 11, 11, 12]"
      ]
     },
     "execution_count": 31,
     "metadata": {},
     "output_type": "execute_result"
    }
   ],
   "source": [
    "dp"
   ]
  },
  {
   "cell_type": "code",
   "execution_count": 38,
   "metadata": {},
   "outputs": [
    {
     "data": {
      "text/plain": [
       "3"
      ]
     },
     "execution_count": 38,
     "metadata": {},
     "output_type": "execute_result"
    }
   ],
   "source": [
    "max([1, 2], [3, 4]).pop(0)"
   ]
  },
  {
   "cell_type": "code",
   "execution_count": 36,
   "metadata": {},
   "outputs": [
    {
     "data": {
      "text/plain": [
       "[6, 2, 4, 1]"
      ]
     },
     "execution_count": 36,
     "metadata": {},
     "output_type": "execute_result"
    }
   ],
   "source": [
    "a = [2, 4] \n",
    "b = [6, 1]\n",
    "\n",
    "def merge(a, b):\n",
    "    return [max(a, b).pop(0) for _ in a+b]\n",
    "\n",
    "\n",
    "merge(a, b)\n",
    "\n"
   ]
  },
  {
   "cell_type": "code",
   "execution_count": 25,
   "metadata": {},
   "outputs": [
    {
     "data": {
      "text/plain": [
       "(tensor([[ 2.0006, -1.8422, -2.8000,  ...,  1.8808, -3.6406, -0.6818],\n",
       "         [ 0.2879, -1.8751, -3.5957,  ..., -0.2283, -2.5915, -0.7602],\n",
       "         [ 1.5987, -3.6110, -2.9288,  ...,  0.8165, -2.3419, -0.5349],\n",
       "         ...,\n",
       "         [ 0.8715, -2.2069, -2.6956,  ..., -0.7482, -1.9007, -1.4645],\n",
       "         [-0.2844, -2.1801, -4.6150,  ...,  0.1774, -2.2381,  1.0840],\n",
       "         [ 0.1145, -2.8701, -4.8028,  ..., -0.4902, -2.6353,  1.1045]]),\n",
       " tensor([[[-2.6775e+00,  3.1317e+00,  9.4427e-01,  ..., -3.2652e+00,\n",
       "            8.9517e-01, -1.3132e+00],\n",
       "          [-2.0780e+00,  5.9891e-02, -3.8581e+00,  ..., -3.3501e+00,\n",
       "            1.5069e-01, -6.8032e-01],\n",
       "          [ 1.8287e+00, -8.5579e-01, -3.1181e+00,  ...,  1.2706e+00,\n",
       "            1.4432e+00, -1.1375e+00],\n",
       "          ...,\n",
       "          [ 1.6583e+00,  3.0544e+00, -3.1023e-01,  ...,  3.1254e+00,\n",
       "            5.4449e+00,  8.5288e-01],\n",
       "          [-3.0594e-01,  2.0645e+00,  2.2810e+00,  ...,  9.8821e-02,\n",
       "            5.6577e+00, -1.5137e-01],\n",
       "          [-2.4213e+00,  1.3173e+00,  3.5901e+00,  ..., -2.6319e+00,\n",
       "            4.8400e+00, -8.0125e-02]],\n",
       " \n",
       "         [[-3.9284e+00,  2.8978e+00,  2.0839e+00,  ..., -3.1312e+00,\n",
       "            1.5069e+00, -1.5785e+00],\n",
       "          [-3.8378e+00,  2.2491e+00,  3.0951e+00,  ..., -2.8997e+00,\n",
       "            2.5788e+00, -1.4425e+00],\n",
       "          [-3.3116e+00,  9.7469e-01,  3.3747e+00,  ..., -2.2054e+00,\n",
       "            3.8040e+00, -8.1771e-01],\n",
       "          ...,\n",
       "          [-1.7898e+00,  2.7155e-01, -2.5136e+00,  ..., -1.9186e+00,\n",
       "            8.8264e-02,  1.7625e+00],\n",
       "          [-3.6754e-01,  3.0549e-02, -3.0574e+00,  ..., -3.1254e+00,\n",
       "           -9.5752e-01, -2.4888e+00],\n",
       "          [-3.7289e+00,  1.9231e+00, -1.3695e+00,  ..., -3.0525e+00,\n",
       "            9.4155e-02, -2.3396e-01]],\n",
       " \n",
       "         [[-3.3739e+00,  2.9382e+00,  1.3773e+00,  ..., -3.3270e+00,\n",
       "            1.0467e+00, -1.4082e+00],\n",
       "          [-3.0701e+00,  1.3036e+00, -6.4263e-01,  ..., -3.0806e+00,\n",
       "            1.5204e-01, -2.9254e-02],\n",
       "          [-1.4323e+00, -3.8746e-01, -2.6943e+00,  ..., -2.6845e+00,\n",
       "           -4.1395e-01,  2.3147e-01],\n",
       "          ...,\n",
       "          [-1.4259e+00, -3.6148e-01,  2.7206e+00,  ...,  1.3664e+00,\n",
       "            3.2689e+00,  1.1897e+00],\n",
       "          [-3.8116e+00,  1.5475e+00,  2.2374e+00,  ..., -1.9798e+00,\n",
       "            2.4000e+00, -7.1120e-01],\n",
       "          [-3.8406e+00,  2.1130e+00,  2.4569e+00,  ..., -2.2774e+00,\n",
       "            2.3785e+00, -8.3402e-01]],\n",
       " \n",
       "         ...,\n",
       " \n",
       "         [[-3.1109e+00,  2.4960e+00,  5.8591e-01,  ..., -2.7887e+00,\n",
       "            8.6229e-01, -6.7720e-01],\n",
       "          [-2.8112e+00,  4.1869e-01, -3.3427e+00,  ..., -2.9303e+00,\n",
       "            5.6313e-02,  2.4669e-01],\n",
       "          [ 1.1963e+00, -5.9652e-01, -2.2650e-01,  ...,  2.1229e+00,\n",
       "            2.0579e+00,  3.2681e-03],\n",
       "          ...,\n",
       "          [-9.9386e-01,  1.3169e+00,  9.8718e-02,  ..., -1.9191e+00,\n",
       "            2.0371e+00, -7.9113e-01],\n",
       "          [-1.0498e-01,  7.6895e-01,  3.1426e+00,  ..., -2.2076e+00,\n",
       "            4.5700e+00,  7.8616e-01],\n",
       "          [-3.1706e+00,  1.7536e+00,  2.4788e+00,  ..., -2.6586e+00,\n",
       "            2.2156e+00, -6.7093e-01]],\n",
       " \n",
       "         [[-4.0258e+00,  2.8705e+00,  1.2116e+00,  ..., -2.6513e+00,\n",
       "            1.0262e+00, -1.0370e+00],\n",
       "          [-3.2440e+00,  6.4411e-01,  2.0660e-01,  ..., -1.4770e-01,\n",
       "            2.7985e+00,  8.2791e-01],\n",
       "          [ 2.5543e-02, -1.3752e-01,  7.8016e-02,  ...,  3.1621e+00,\n",
       "            1.6955e+00,  1.5611e+00],\n",
       "          ...,\n",
       "          [ 1.2100e+00, -1.1848e+00, -1.0708e+00,  ...,  2.7742e-01,\n",
       "           -7.6805e-01, -8.5489e-01],\n",
       "          [-3.7494e-01,  4.2380e-01, -2.5498e+00,  ..., -1.6365e+00,\n",
       "           -5.5246e-01,  1.6727e-01],\n",
       "          [-3.5715e+00,  2.1764e+00, -8.1214e-01,  ..., -2.8844e+00,\n",
       "            9.5308e-02, -4.8734e-01]],\n",
       " \n",
       "         [[-3.5243e+00,  2.3901e+00,  1.2027e+00,  ..., -2.7244e+00,\n",
       "            9.4375e-01, -1.1765e+00],\n",
       "          [-3.6000e+00,  2.0540e+00,  2.0387e-01,  ..., -2.9030e+00,\n",
       "            2.8661e-01, -9.9933e-01],\n",
       "          [-3.6174e+00,  2.0904e+00,  2.1086e-01,  ..., -2.9026e+00,\n",
       "            3.0319e-01, -1.0231e+00],\n",
       "          ...,\n",
       "          [-3.1434e+00,  3.6484e-01,  2.5161e+00,  ..., -1.7231e+00,\n",
       "            3.2637e+00, -3.1301e-01],\n",
       "          [-3.1146e+00,  2.5698e-01,  2.1595e+00,  ..., -1.2362e+00,\n",
       "            3.3159e+00, -1.2547e-01],\n",
       "          [-3.6482e+00,  2.3990e+00,  1.6881e+00,  ..., -2.6083e+00,\n",
       "            9.7067e-01, -1.2653e+00]]]))"
      ]
     },
     "execution_count": 25,
     "metadata": {},
     "output_type": "execute_result"
    }
   ],
   "source": [
    "out"
   ]
  },
  {
   "cell_type": "code",
   "execution_count": null,
   "metadata": {},
   "outputs": [
    {
     "data": {
      "text/plain": [
       "tensor([ 1.7599, -3.0947, -0.3770,  0.2691,  0.6374, -1.5249,  1.6893, -2.8880,\n",
       "        -1.0497, -1.6275, -0.0665,  0.9897,  0.2851, -0.5804, -1.6186, -0.6232,\n",
       "         1.3066, -2.1492, -0.1993, -0.3291, -0.1669,  1.5432,  0.1194, -0.4588,\n",
       "         0.2895, -0.1807, -0.5389, -1.4263, -2.2342,  0.8441, -0.9645,  0.3349,\n",
       "        -0.7688,  1.2462,  0.2720,  1.9502, -1.0002, -0.1579, -0.2797,  0.5402,\n",
       "         1.6183,  2.3526,  1.1959,  0.8645,  0.9599, -1.4596,  0.9312,  0.5867,\n",
       "        -0.5978, -0.6680,  0.8029, -0.2563, -2.1233, -1.4537,  0.0920, -0.3283,\n",
       "        -1.0059, -0.1320,  0.7106,  1.2877,  0.2649, -1.9521, -0.2909, -0.0878])"
      ]
     },
     "execution_count": 16,
     "metadata": {},
     "output_type": "execute_result"
    }
   ],
   "source": [
    "all_out[0][0]"
   ]
  },
  {
   "cell_type": "code",
   "execution_count": null,
   "metadata": {},
   "outputs": [
    {
     "data": {
      "text/plain": [
       "tensor([ 1.7599, -3.0947, -0.3770,  0.2691,  0.6374, -1.5249,  1.6893, -2.8880,\n",
       "        -1.0497, -1.6275, -0.0665,  0.9897,  0.2851, -0.5804, -1.6186, -0.6232,\n",
       "         1.3066, -2.1492, -0.1993, -0.3291, -0.1669,  1.5432,  0.1194, -0.4588,\n",
       "         0.2895, -0.1807, -0.5389, -1.4263, -2.2342,  0.8441, -0.9645,  0.3349,\n",
       "        -0.7688,  1.2462,  0.2720,  1.9502, -1.0002, -0.1579, -0.2797,  0.5402,\n",
       "         1.6183,  2.3526,  1.1959,  0.8645,  0.9599, -1.4596,  0.9312,  0.5867,\n",
       "        -0.5978, -0.6680,  0.8029, -0.2563, -2.1233, -1.4537,  0.0920, -0.3283,\n",
       "        -1.0059, -0.1320,  0.7106,  1.2877,  0.2649, -1.9521, -0.2909, -0.0878])"
      ]
     },
     "execution_count": 17,
     "metadata": {},
     "output_type": "execute_result"
    }
   ],
   "source": [
    "all_out[0][64]"
   ]
  },
  {
   "cell_type": "code",
   "execution_count": null,
   "metadata": {},
   "outputs": [
    {
     "data": {
      "text/plain": [
       "torch.return_types.sort(\n",
       "values=tensor([[-2.6775, -3.8979, -5.2102,  ..., -3.7503, -2.5004, -3.9115],\n",
       "        [-2.4213, -2.1233, -4.4562,  ..., -3.5575, -2.1720, -3.7506],\n",
       "        [-2.0780, -2.1115, -3.8581,  ..., -3.3501, -2.1719, -3.6223],\n",
       "        ...,\n",
       "        [ 3.5096,  2.4926,  3.2583,  ...,  4.7868,  5.3568,  1.7953],\n",
       "        [ 3.6714,  3.0544,  3.5901,  ...,  5.0698,  5.4449,  1.8997],\n",
       "        [ 4.9664,  3.1317,  3.8607,  ...,  5.4392,  5.6577,  3.1900]]),\n",
       "indices=tensor([[ 0, 22, 15,  ..., 28, 19,  8],\n",
       "        [35, 27, 14,  ...,  1, 15,  7],\n",
       "        [ 6, 16,  6,  ...,  6, 14, 28],\n",
       "        ...,\n",
       "        [18, 17, 28,  ..., 17, 34, 30],\n",
       "        [ 3, 23, 35,  ..., 13, 23, 20],\n",
       "        [ 8,  0, 34,  ..., 18, 29, 17]]))"
      ]
     },
     "execution_count": 172,
     "metadata": {},
     "output_type": "execute_result"
    }
   ],
   "source": [
    "torch.sort(out[1][0], dim = 0)"
   ]
  },
  {
   "cell_type": "code",
   "execution_count": null,
   "metadata": {},
   "outputs": [
    {
     "data": {
      "text/plain": [
       "torch.return_types.sort(\n",
       "values=tensor([[-2.6775, -3.8979, -5.2102,  ..., -3.7503, -2.5004, -3.9115],\n",
       "        [-2.4213, -2.1233, -4.4562,  ..., -3.5575, -2.1720, -3.7506],\n",
       "        [-2.0780, -2.1115, -3.8581,  ..., -3.3501, -2.1719, -3.6223],\n",
       "        ...,\n",
       "        [ 3.5096,  2.4926,  3.2583,  ...,  4.7868,  5.3568,  1.7953],\n",
       "        [ 3.6714,  3.0544,  3.5901,  ...,  5.0698,  5.4449,  1.8997],\n",
       "        [ 4.9664,  3.1317,  3.8607,  ...,  5.4392,  5.6577,  3.1900]]),\n",
       "indices=tensor([[30, 16, 21,  ..., 10, 13, 26],\n",
       "        [ 5,  9, 20,  ..., 31, 21, 25],\n",
       "        [24, 22, 24,  ..., 24, 20, 10],\n",
       "        ...,\n",
       "        [12, 23, 10,  ..., 23,  4,  0],\n",
       "        [33, 17,  5,  ..., 19, 17, 14],\n",
       "        [26, 30,  4,  ..., 12, 11, 23]]))"
      ]
     },
     "execution_count": 173,
     "metadata": {},
     "output_type": "execute_result"
    }
   ],
   "source": [
    "torch.sort(out[1][64], dim = 0)"
   ]
  },
  {
   "cell_type": "code",
   "execution_count": null,
   "metadata": {},
   "outputs": [
    {
     "data": {
      "text/plain": [
       "torch.return_types.sort(\n",
       "values=tensor([-2.7763, -2.5027, -2.2761, -2.0085, -1.9637, -1.6213, -1.6149, -1.6140,\n",
       "        -1.5532, -1.5298, -1.4199, -1.3468, -1.2810, -1.1082, -0.9067, -0.7831,\n",
       "        -0.6718, -0.6591, -0.6389, -0.6280, -0.6164, -0.5662, -0.5410, -0.4950,\n",
       "        -0.4365, -0.3709, -0.3467, -0.3106, -0.2987, -0.2635, -0.2209, -0.2165,\n",
       "        -0.1929, -0.0645, -0.0255, -0.0073,  0.0771,  0.0894,  0.1066,  0.1525,\n",
       "         0.1871,  0.2199,  0.2207,  0.2558,  0.2580,  0.3285,  0.3883,  0.3954,\n",
       "         0.4397,  0.5460,  0.5758,  0.7062,  0.7679,  0.8217,  0.8541,  1.1856,\n",
       "         1.3409,  1.3985,  1.5737,  1.6215,  2.1301,  2.4543,  3.0574,  3.7902]),\n",
       "indices=tensor([63, 27,  7, 32, 28, 39, 48, 10, 52, 16, 17, 44, 25,  2, 55, 24,  4, 46,\n",
       "         1, 40, 54, 18,  9, 36,  5, 13, 12, 37, 31,  8, 20, 62, 26, 57, 19, 38,\n",
       "        47, 51, 23,  3, 61, 45, 50, 11, 22,  0, 15, 35, 53, 56, 42, 29, 21, 43,\n",
       "         6, 59, 58, 14, 33, 30, 49, 34, 60, 41]))"
      ]
     },
     "execution_count": 142,
     "metadata": {},
     "output_type": "execute_result"
    }
   ],
   "source": [
    "torch.sort(out[0][0])"
   ]
  },
  {
   "cell_type": "code",
   "execution_count": null,
   "metadata": {},
   "outputs": [],
   "source": [
    "torch.sort(out[0][0])"
   ]
  },
  {
   "cell_type": "code",
   "execution_count": null,
   "metadata": {},
   "outputs": [
    {
     "data": {
      "text/plain": [
       "torch.return_types.sort(\n",
       "values=tensor([-3.0470, -2.8004, -2.0287, -1.7696, -1.6568, -1.6434, -1.6081, -1.5075,\n",
       "        -1.5001, -1.4358, -1.4115, -1.3516, -0.9710, -0.9658, -0.8896, -0.7662,\n",
       "        -0.7493, -0.7028, -0.6910, -0.6608, -0.6027, -0.5839, -0.5513, -0.4419,\n",
       "        -0.3903, -0.3313, -0.2950, -0.2324, -0.1310, -0.0970, -0.0766, -0.0672,\n",
       "         0.0038,  0.0333,  0.0366,  0.0385,  0.0512,  0.0758,  0.2341,  0.2794,\n",
       "         0.2838,  0.3068,  0.3217,  0.3274,  0.3354,  0.3839,  0.4002,  0.4005,\n",
       "         0.4134,  0.4311,  0.4358,  0.4798,  0.5995,  0.7418,  1.2077,  1.3570,\n",
       "         1.3825,  1.6094,  1.6142,  2.1103,  2.2878,  2.3487,  3.0444,  3.1459]),\n",
       "indices=tensor([ 7, 63, 32, 28, 10, 39, 48, 16, 52, 25, 17, 44,  2, 27, 55,  1, 24,  9,\n",
       "        36, 46, 54, 13, 40, 12,  8,  5, 62, 18, 31, 19, 20, 38, 23, 37, 26, 47,\n",
       "        51, 57,  3, 11, 22, 50,  4, 45, 15, 61, 35, 43, 42, 53, 56,  0, 29, 21,\n",
       "        59, 14, 58, 30, 33, 49,  6, 34, 60, 41]))"
      ]
     },
     "execution_count": 143,
     "metadata": {},
     "output_type": "execute_result"
    }
   ],
   "source": [
    "torch.sort(out[0][64])"
   ]
  },
  {
   "cell_type": "code",
   "execution_count": null,
   "metadata": {},
   "outputs": [
    {
     "data": {
      "text/plain": [
       "tensor([ 0.8504, -0.8735,  0.2076,  0.0115,  0.4299,  1.0385,  1.9854, -3.1008,\n",
       "         0.1320,  0.0701,  1.1475,  2.3862,  0.4128,  0.0276, -0.5558,  0.8439,\n",
       "         0.3482, -1.7985,  0.0070,  0.4986, -0.0532, -0.1450,  0.2081,  2.9432,\n",
       "         0.0288, -0.8678, -0.2529, -1.0072, -0.4112, -1.3904, -1.1413, -0.3528,\n",
       "        -0.3361,  1.9691, -0.7228,  0.6032, -0.2882,  0.5107,  2.4000,  0.7606,\n",
       "        -0.5336,  3.2759,  1.1812,  0.4693, -0.2271,  0.7636, -0.6012, -1.2495,\n",
       "        -1.2416,  0.6515, -0.5477, -0.4067,  0.7912,  0.4474,  0.6477, -1.5612,\n",
       "        -1.0951, -0.6652,  1.2195, -0.0411, -1.1594, -0.3582, -0.4757, -0.3598])"
      ]
     },
     "execution_count": 113,
     "metadata": {},
     "output_type": "execute_result"
    }
   ],
   "source": [
    "all_out[0][0]"
   ]
  },
  {
   "cell_type": "code",
   "execution_count": null,
   "metadata": {},
   "outputs": [
    {
     "data": {
      "text/plain": [
       "tensor([ 0.8773, -0.9209,  0.2545,  0.0775,  0.4721,  1.0984,  2.1187, -3.0571,\n",
       "         0.1182, -0.0319,  1.1565,  2.3463,  0.4222, -0.0995, -0.6772,  0.7792,\n",
       "         0.4136, -1.7874, -0.1240,  0.3885,  0.0869, -0.1844,  0.2299,  2.9312,\n",
       "        -0.0162, -0.8999, -0.2547, -1.0434, -0.3357, -1.4698, -1.0975, -0.2586,\n",
       "        -0.3095,  1.9955, -0.7517,  0.5807, -0.3362,  0.3451,  2.3243,  0.7151,\n",
       "        -0.4286,  3.2218,  1.1534,  0.4261, -0.2215,  0.7312, -0.5729, -1.1823,\n",
       "        -1.2020,  0.6720, -0.4755, -0.3725,  0.7920,  0.4184,  0.6045, -1.5056,\n",
       "        -1.1600, -0.5894,  1.1928, -0.0464, -1.1798, -0.2925, -0.5601, -0.3591])"
      ]
     },
     "execution_count": 114,
     "metadata": {},
     "output_type": "execute_result"
    }
   ],
   "source": [
    "all_out[0][64]"
   ]
  },
  {
   "cell_type": "code",
   "execution_count": null,
   "metadata": {},
   "outputs": [],
   "source": [
    "for i in range(64):\n",
    "    for j in range(8):\n",
    "        are_close = torch.allclose(out[0][i], out[0][i + j*64], rtol=1e-4, atol=1e-5)\n",
    "        if not are_close:\n",
    "            print(are_close)"
   ]
  },
  {
   "cell_type": "code",
   "execution_count": null,
   "metadata": {},
   "outputs": [],
   "source": [
    "w = nn.Linear(256, 2 * 64)\n",
    "activation = torch.nn.SiLU()\n",
    "x = w(activation(out[0]))\n",
    "\n",
    "for i in range(64):\n",
    "    for j in range(8):\n",
    "        are_close = torch.allclose(x[i], x[i + j*64], rtol=1e-4, atol=1e-5)\n",
    "        if not are_close:\n",
    "            print(are_close)"
   ]
  },
  {
   "cell_type": "code",
   "execution_count": null,
   "metadata": {},
   "outputs": [],
   "source": [
    "batch_size = x.shape[0] // 8\n",
    "mu = x[:, : 64]\n",
    "logvar = x[:, 64 :]\n",
    "std = torch.exp(0.5 * logvar)\n",
    "batch_std = std[:batch_size, :]\n",
    "batch_eps = torch.randn_like(batch_std)\n",
    "eps = (\n",
    "    batch_eps.unsqueeze(0)\n",
    "    .repeat(8, 1, 1)\n",
    "    .view(-1, batch_eps.shape[1])\n",
    ")\n",
    "x = mu + eps * std"
   ]
  },
  {
   "cell_type": "code",
   "execution_count": null,
   "metadata": {},
   "outputs": [
    {
     "data": {
      "text/plain": [
       "tensor([-0.0048, -0.3540,  1.3578,  1.1565,  1.0556, -0.8566, -2.0298,  0.0099,\n",
       "         0.9634,  2.7854,  1.4013, -1.4376,  0.8235, -1.5745,  0.5088,  0.8406,\n",
       "        -1.0292,  1.2263,  2.3306, -0.7596, -0.7019,  2.0023, -2.4119,  0.0992,\n",
       "        -1.9694,  0.2704,  0.3635,  0.3781,  0.1245, -0.6079, -0.0794, -1.1020,\n",
       "        -0.8012, -1.1680, -0.1965, -0.4686,  0.3207,  0.0709,  2.1468,  0.8429,\n",
       "        -0.8940,  0.7338, -0.5496,  1.2106, -0.1407, -0.7945, -0.2326, -1.2931,\n",
       "         0.5669,  0.1810, -2.2444,  1.1015,  0.7312, -1.0493,  0.3569, -0.0736,\n",
       "        -0.1198, -1.4253,  0.0922, -0.1015, -0.1580,  0.4999,  2.0006, -0.4506],\n",
       "       grad_fn=<SelectBackward0>)"
      ]
     },
     "execution_count": 125,
     "metadata": {},
     "output_type": "execute_result"
    }
   ],
   "source": [
    "x[0]"
   ]
  },
  {
   "cell_type": "code",
   "execution_count": null,
   "metadata": {},
   "outputs": [
    {
     "data": {
      "text/plain": [
       "tensor([-0.0048, -0.3540,  1.3578,  1.1565,  1.0556, -0.8566, -2.0298,  0.0099,\n",
       "         0.9634,  2.7854,  1.4013, -1.4376,  0.8235, -1.5745,  0.5088,  0.8406,\n",
       "        -1.0292,  1.2263,  2.3306, -0.7596, -0.7019,  2.0023, -2.4119,  0.0992,\n",
       "        -1.9694,  0.2704,  0.3635,  0.3781,  0.1245, -0.6079, -0.0794, -1.1020,\n",
       "        -0.8012, -1.1680, -0.1965, -0.4686,  0.3207,  0.0709,  2.1469,  0.8429,\n",
       "        -0.8940,  0.7338, -0.5496,  1.2106, -0.1407, -0.7945, -0.2326, -1.2931,\n",
       "         0.5669,  0.1810, -2.2444,  1.1015,  0.7312, -1.0493,  0.3569, -0.0736,\n",
       "        -0.1198, -1.4253,  0.0922, -0.1015, -0.1580,  0.4999,  2.0006, -0.4506],\n",
       "       grad_fn=<SelectBackward0>)"
      ]
     },
     "execution_count": 126,
     "metadata": {},
     "output_type": "execute_result"
    }
   ],
   "source": [
    "x[64]"
   ]
  },
  {
   "cell_type": "code",
   "execution_count": null,
   "metadata": {},
   "outputs": [],
   "source": [
    "for i in range(64):\n",
    "    for j in range(8):\n",
    "        are_close = torch.allclose(x[i], x[i + j*64], rtol=1e-4, atol=1e-5)\n",
    "        if not are_close:\n",
    "            print(are_close)"
   ]
  },
  {
   "cell_type": "code",
   "execution_count": null,
   "metadata": {},
   "outputs": [],
   "source": [
    "mu = x[:, :64]\n",
    "logvar = x[:, 64:]\n",
    "std = torch.exp(0.5 * logvar)\n",
    "# x = mu + eps * std"
   ]
  },
  {
   "cell_type": "code",
   "execution_count": null,
   "metadata": {},
   "outputs": [],
   "source": [
    "batch_size = 64\n",
    "batch_std = std[:64, :]\n",
    "eps = torch.randn_like(batch_std)\n",
    "res = eps.unsqueeze(0).repeat(8, 1, 1).view(-1, eps.shape[1])\n",
    "x = mu + res * std"
   ]
  },
  {
   "cell_type": "code",
   "execution_count": null,
   "metadata": {},
   "outputs": [
    {
     "data": {
      "text/plain": [
       "tensor([ 0.6186, -0.8367, -1.2407,  1.1064, -0.7936, -0.5540, -0.1215,  0.4179,\n",
       "         0.1897, -0.0464, -0.0874, -1.4688,  0.7813, -0.2001, -0.7594, -0.3958,\n",
       "         0.6980, -1.9880,  0.6129,  1.1807, -1.9021,  1.2580, -0.9524,  0.0316,\n",
       "         0.9501,  1.6222, -1.1098,  0.2279, -1.4309, -0.3141, -0.3799, -0.4482,\n",
       "        -0.2760,  0.7454,  2.3805, -0.0184, -1.2057, -0.5501, -0.0857, -0.3420,\n",
       "        -0.5590,  0.0540,  0.2094, -1.3641,  0.9157,  0.3869, -0.7734, -0.3207,\n",
       "        -0.9633, -0.1428,  1.7206,  1.5265,  0.2084, -2.5524, -0.5990,  2.6706,\n",
       "         0.1410,  0.4475,  0.0768, -0.6425, -0.7391,  0.1094,  0.6124, -1.7267],\n",
       "       grad_fn=<SelectBackward0>)"
      ]
     },
     "execution_count": 120,
     "metadata": {},
     "output_type": "execute_result"
    }
   ],
   "source": [
    "x[0]"
   ]
  },
  {
   "cell_type": "code",
   "execution_count": null,
   "metadata": {},
   "outputs": [
    {
     "data": {
      "text/plain": [
       "tensor([ 0.6186, -0.8367, -1.2407,  1.1064, -0.7936, -0.5540, -0.1215,  0.4179,\n",
       "         0.1897, -0.0464, -0.0874, -1.4688,  0.7813, -0.2001, -0.7594, -0.3958,\n",
       "         0.6980, -1.9880,  0.6129,  1.1807, -1.9021,  1.2580, -0.9524,  0.0316,\n",
       "         0.9501,  1.6222, -1.1098,  0.2279, -1.4309, -0.3141, -0.3799, -0.4482,\n",
       "        -0.2760,  0.7454,  2.3805, -0.0184, -1.2057, -0.5501, -0.0857, -0.3420,\n",
       "        -0.5590,  0.0540,  0.2094, -1.3641,  0.9157,  0.3869, -0.7734, -0.3207,\n",
       "        -0.9633, -0.1428,  1.7206,  1.5265,  0.2084, -2.5524, -0.5990,  2.6706,\n",
       "         0.1410,  0.4475,  0.0768, -0.6425, -0.7391,  0.1094,  0.6124, -1.7267],\n",
       "       grad_fn=<SelectBackward0>)"
      ]
     },
     "execution_count": 121,
     "metadata": {},
     "output_type": "execute_result"
    }
   ],
   "source": [
    "x[64]"
   ]
  },
  {
   "cell_type": "code",
   "execution_count": null,
   "metadata": {},
   "outputs": [],
   "source": [
    "model.eval()\n",
    "with torch.no_grad():\n",
    "    out = model(el, True, 1.0)"
   ]
  },
  {
   "cell_type": "code",
   "execution_count": null,
   "metadata": {},
   "outputs": [],
   "source": [
    "for i in range(64):\n",
    "    for j in range(8):\n",
    "        are_close = torch.allclose(out[0][i], out[0][i + j * 64], rtol=1e-4, atol=1e-5)\n",
    "        if not are_close:\n",
    "            print(are_close)"
   ]
  },
  {
   "cell_type": "code",
   "execution_count": null,
   "metadata": {},
   "outputs": [
    {
     "data": {
      "image/png": "[encoded data removed]",
      "text/plain": [
       "<Figure size 640x480 with 1 Axes>"
      ]
     },
     "metadata": {},
     "output_type": "display_data"
    }
   ],
   "source": [
    "# The first augmentation (index 0) should be the original orientation\n",
    "r_orig = restore_tensor(res[129], 1, 1, 24, 24, 4)\n",
    "plt.figure()\n",
    "plt.imshow(r_orig.squeeze())\n",
    "plt.title(\"Original orientation (validation)\")\n",
    "plt.show()"
   ]
  },
  {
   "cell_type": "code",
   "execution_count": 112,
   "metadata": {},
   "outputs": [],
   "source": [
    "prefix = [0, 1, 1, 2, 2, 2, 2, 2, 3, 4, 4, 4, 4, 4, 4, 4, 4, 5, 5, 5, 6, 6, 6, 7, 7, 7, 8, 9, 9, 10, 10, 11, 11, 11, 12]\n",
    "\n",
    "\n",
    "def binary_search(arr, target):\n",
    "    i, j = 0, len(arr) - 1\n",
    "    while i <= j:\n",
    "        mid = (i + j) // 2\n",
    "        if arr[mid] == target:\n",
    "            return mid\n",
    "        elif arr[mid] < target:\n",
    "            i = mid + 1\n",
    "        else:\n",
    "            j = mid - 1\n",
    "    return -1\n",
    "\n",
    "def binary_search_variant(arr, target):\n",
    "    i, j = 0, len(arr)\n",
    "    while i < j:\n",
    "        mid = (i + j) // 2\n",
    "        if arr[mid] < target:\n",
    "            i = mid + 1\n",
    "        else:\n",
    "            j = mid\n",
    "    return i\n",
    "\n",
    "def find_last_leq(arr, target):\n",
    "    i, j = 0, len(arr)\n",
    "    while i < j:\n",
    "        mid = (i + j) // 2\n",
    "        if arr[mid] <= target:\n",
    "            i = mid + 1  # move right to look for bigger index\n",
    "        else:\n",
    "            j = mid       # move left\n",
    "    return i - 1\n",
    "\n",
    "\n",
    "def find_first_leq(arr, target):\n",
    "    i, j = 0, len(arr)\n",
    "    while i < j:\n",
    "        mid = (i + j) // 2\n",
    "        if arr[mid] < target:\n",
    "            i = mid + 1  # move right to look for bigger index\n",
    "        else:\n",
    "            j = mid       # move left\n",
    "    return i\n",
    "\n",
    "def find_last_leq_2(arr, target):\n",
    "    i, j = 0, len(arr)\n",
    "    while i < j:\n",
    "        mid = (i + j + 1) // 2\n",
    "        if arr[mid] <= target:\n",
    "            i = mid\n",
    "        else:\n",
    "            j = mid - 1\n",
    "    \n",
    "    return i"
   ]
  },
  {
   "cell_type": "code",
   "execution_count": 117,
   "metadata": {},
   "outputs": [
    {
     "data": {
      "text/plain": [
       "2"
      ]
     },
     "execution_count": 117,
     "metadata": {},
     "output_type": "execute_result"
    }
   ],
   "source": [
    "a = [10, 11, 19, 39, 40]\n",
    "\n",
    "find_first_leq(a, 18)"
   ]
  },
  {
   "cell_type": "code",
   "execution_count": 103,
   "metadata": {},
   "outputs": [
    {
     "data": {
      "text/plain": [
       "16"
      ]
     },
     "execution_count": 103,
     "metadata": {},
     "output_type": "execute_result"
    }
   ],
   "source": [
    "binary_search(prefix, 4)\n",
    "binary_search_variant(prefix, 4)\n",
    "find_last_leq(prefix, 4)"
   ]
  },
  {
   "cell_type": "code",
   "execution_count": 104,
   "metadata": {},
   "outputs": [
    {
     "data": {
      "text/plain": [
       "16"
      ]
     },
     "execution_count": 104,
     "metadata": {},
     "output_type": "execute_result"
    }
   ],
   "source": [
    "find_last_leq_2(prefix, 4)"
   ]
  },
  {
   "cell_type": "code",
   "execution_count": 37,
   "metadata": {},
   "outputs": [
    {
     "data": {
      "text/plain": [
       "32"
      ]
     },
     "execution_count": 37,
     "metadata": {},
     "output_type": "execute_result"
    }
   ],
   "source": [
    "i = 2\n",
    "j = 33\n",
    "e = -1\n",
    "while i <= j:\n",
    "    m = (i + j + 1) // 2\n",
    "    if prefix[m] == prefix[m + 1]:\n",
    "        e = m\n",
    "    i = m + 1\n",
    "\n",
    "e"
   ]
  },
  {
   "cell_type": "code",
   "execution_count": null,
   "metadata": {},
   "outputs": [],
   "source": [
    "class SimplePermuter(torch.nn.Module):\n",
    "    def __init__(self):\n",
    "        super().__init__()\n",
    "        self.turn_off = True\n",
    "        self.scoring_fc = torch.nn.Linear(256, 8)\n",
    "        # self.graph_transformer = Transformer(\n",
    "        #     hidden_dim=hparams.graph_decoder_hidden_dim,\n",
    "        #     num_heads=hparams.graph_decoder_num_heads,\n",
    "        #     ppf_hidden_dim=hparams.graph_decoder_ppf_hidden_dim,\n",
    "        #     num_layers=2,\n",
    "        #     dropout=hparams.dropout,\n",
    "        #     rope=LLamaRotaryEmbedding(hparams.head_dim),\n",
    "        # )\n",
    "        # self.spectral_embeddings = SklearnSpectralEmbedding(\n",
    "        #     hparams.num_node_features,\n",
    "        #     hparams.graph_decoder_hidden_dim,\n",
    "        #     hparams.grid_size,\n",
    "        # )\n",
    "        self.perm_context = torch.nn.Linear(8, 64)\n",
    "        predefined_permutations = self.create_predefine_permutations(6)\n",
    "        # Predefined permutation matrices (B, num_permutations, N, N)\n",
    "        self.register_buffer(\"predefined_permutations\", predefined_permutations)\n",
    "        self.break_symmetry_scale = 0.01\n",
    "\n",
    "    def forward(\n",
    "        self,\n",
    "        node_features: torch.Tensor,\n",
    "        tau: float,\n",
    "        mask: torch.Tensor,\n",
    "        hard: bool = False,\n",
    "    ):\n",
    "        # Add noise to break symmetry\n",
    "\n",
    "        if self.turn_off:\n",
    "            return None, None, None\n",
    "\n",
    "        node_features = (\n",
    "            node_features + torch.randn_like(node_features) * self.break_symmetry_scale\n",
    "        )\n",
    "        node_features = self.spectral_embeddings(node_features)\n",
    "        node_features = self.graph_transformer(\n",
    "            node_features, mask=None, is_encoder=False\n",
    "        )\n",
    "        # Score each permutation option\n",
    "        scores = self.scoring_fc(node_features).mean(dim=1)  # (B, num_permutations)\n",
    "        context = self.perm_context(scores)\n",
    "\n",
    "        # Softmax over scores to get probabilities for each permutation\n",
    "        soft_probs = torch.softmax(scores / tau, dim=-1)  # (B, num_permutations)\n",
    "        # Hard selection using Gumbel-Softmax (discrete but differentiable)\n",
    "        one_hot = torch.zeros_like(soft_probs)\n",
    "        one_hot.scatter_(1, soft_probs.argmax(dim=-1, keepdim=True), 1.0)\n",
    "        probs = (one_hot - soft_probs).detach() + soft_probs\n",
    "\n",
    "        # Combine predefined permutations with the probabilities\n",
    "        # Shape: (B, N, N) = (B, num_permutations, N, N) * (B, num_permutations, 1, 1)\n",
    "        # Expand probs to (B, num_permutations, 1, 1) to match (num_permutations, N, N)\n",
    "        probs = probs.unsqueeze(-1).unsqueeze(-1)  # (B, num_permutations, 1, 1)\n",
    "        # Combine predefined permutations with probabilities\n",
    "        # Shape: (B, N, N) = (B, num_permutations, 1, 1) * (num_permutations, N, N) -> sum over 8\n",
    "        perm = torch.sum(probs * self.predefined_permutations, dim=1)  # (B, N, N)\n",
    "        print(perm.shape)\n",
    "        return perm, context, soft_probs\n",
    "\n",
    "    def _permutation_matrix_90(self, n: int) -> torch.Tensor:\n",
    "        indices = torch.arange(n * n).reshape(n, n)\n",
    "        rotated_indices = indices.rot90(-1).reshape(-1)\n",
    "        perm = torch.eye(n * n, dtype=torch.float32)[rotated_indices]\n",
    "        return perm\n",
    "\n",
    "    def _y_axis_reflection_matrix(self, n: int) -> torch.Tensor:\n",
    "        indices = torch.arange(n * n).reshape(n, n)\n",
    "        reflected_indices = indices.flip(1).reshape(-1)\n",
    "        perm = torch.eye(n * n, dtype=torch.float32)[reflected_indices]\n",
    "        return perm\n",
    "\n",
    "    def create_predefine_permutations(self, n: int) -> torch.Tensor:\n",
    "        perm = torch.eye(n * n, dtype=torch.float32)\n",
    "        perm_90 = self._permutation_matrix_90(n)\n",
    "        perm_180 = torch.matmul(perm_90, perm_90)\n",
    "        perm_270 = torch.matmul(perm_180, perm_90)\n",
    "\n",
    "        perm_y_reflection = self._y_axis_reflection_matrix(n)\n",
    "        perm_y_reflection_90 = torch.matmul(perm_y_reflection, perm_90)\n",
    "        perm_y_reflection_180 = torch.matmul(perm_y_reflection, perm_180)\n",
    "        perm_y_reflection_270 = torch.matmul(perm_y_reflection, perm_270)\n",
    "\n",
    "        # TODO: If I shuffle the train set with every epoch can I have fix this list if I have no labels?\n",
    "        permutations = torch.stack(\n",
    "            [\n",
    "                perm,\n",
    "                perm_90,\n",
    "                perm_180,\n",
    "                perm_270,\n",
    "                perm_y_reflection,\n",
    "                perm_y_reflection_90,\n",
    "                perm_y_reflection_180,\n",
    "                perm_y_reflection_270,\n",
    "            ]\n",
    "        )\n",
    "        return permutations\n",
    "\n",
    "    @staticmethod\n",
    "    def permute_node_features(\n",
    "        node_features: torch.Tensor, perm: torch.Tensor\n",
    "    ) -> torch.Tensor:\n",
    "        \"\"\"Apply the permutation to node features.\"\"\"\n",
    "        return torch.matmul(perm, node_features)"
   ]
  },
  {
   "cell_type": "code",
   "execution_count": null,
   "metadata": {},
   "outputs": [],
   "source": [
    "p = SimplePermuter()\n",
    "perms = p.predefined_permutations"
   ]
  },
  {
   "cell_type": "code",
   "execution_count": null,
   "metadata": {},
   "outputs": [
    {
     "data": {
      "text/plain": [
       "tensor([[False,  True,  True,  ...,  True,  True,  True],\n",
       "        [ True, False,  True,  ...,  True,  True,  True],\n",
       "        [ True,  True, False,  ...,  True,  True,  True],\n",
       "        ...,\n",
       "        [ True,  True,  True,  ..., False,  True,  True],\n",
       "        [ True,  True,  True,  ...,  True, False,  True],\n",
       "        [ True,  True,  True,  ...,  True,  True, False]])"
      ]
     },
     "execution_count": 95,
     "metadata": {},
     "output_type": "execute_result"
    }
   ],
   "source": []
  },
  {
   "cell_type": "code",
   "execution_count": null,
   "metadata": {},
   "outputs": [],
   "source": [
    "import torch\n",
    "from typing import Tuple, Optional, Any\n",
    "from torch.nn import Linear, LayerNorm, Dropout\n",
    "from torch.nn.functional import pad\n",
    "\n",
    "# from src.models.components.custom_graph_transformer import Transformer\n",
    "from src.models.components.llama_graph_transformer import Transformer\n",
    "from src.models.components.emdeddings import PositionalEncoding\n",
    "from src.data.components.graphs_datamodules import DenseGraphBatch\n",
    "from src.models.components.spectral_embeddings import SklearnSpectralEmbedding\n",
    "from src.models.components.rotary_embedding import LLamaRotaryEmbedding\n",
    "\n",
    "from omegaconf import DictConfig"
   ]
  },
  {
   "cell_type": "code",
   "execution_count": null,
   "metadata": {},
   "outputs": [],
   "source": [
    "class GraphEncoder(torch.nn.Module):\n",
    "    def __init__(self):\n",
    "        super().__init__()\n",
    "\n",
    "        self.projection_in = Linear(16, 256)\n",
    "\n",
    "        self.graph_transformer = Transformer(\n",
    "            hidden_dim=256,\n",
    "            num_heads=4,\n",
    "            ppf_hidden_dim=1024,\n",
    "            num_layers=4,\n",
    "            dropout=0.0,\n",
    "        )\n",
    "        self.fc_in = Linear(256, 256)\n",
    "        self.layer_norm = LayerNorm(256)\n",
    "        self.dropout = Dropout(0.0)\n",
    "\n",
    "    def add_emb_node_and_feature(\n",
    "        self,\n",
    "        node_features: torch.Tensor,\n",
    "        edge_features: torch.Tensor,\n",
    "        mask: torch.Tensor,\n",
    "    ) -> Tuple[torch.Tensor, torch.Tensor, torch.Tensor]:\n",
    "        node_features = pad(node_features, (0, 0, 1, 0))\n",
    "        mask = pad(mask, (1, 0), value=1)\n",
    "        return node_features, edge_features, mask\n",
    "\n",
    "    def init_message_matrix(\n",
    "        self,\n",
    "        node_features: torch.Tensor,\n",
    "        edge_features: torch.Tensor,\n",
    "        mask: torch.Tensor,\n",
    "    ) -> Tuple[torch.Tensor, torch.Tensor]:\n",
    "        node_features, edge_features, mask = self.add_emb_node_and_feature(\n",
    "            node_features, edge_features, mask\n",
    "        )\n",
    "        x = self.layer_norm(self.dropout(self.fc_in(node_features)))\n",
    "        return x, mask  # edge_mask\n",
    "\n",
    "    def read_out_message_matrix(\n",
    "        self, x: torch.Tensor\n",
    "    ) -> Tuple[torch.Tensor, torch.Tensor]:\n",
    "        node_features = x\n",
    "        graph_emb, node_features = node_features[:, 0], node_features[:, 1:]\n",
    "        return graph_emb, node_features\n",
    "\n",
    "    def forward(\n",
    "        self,\n",
    "        node_features: torch.Tensor,\n",
    "        edge_features: torch.Tensor,\n",
    "        mask: torch.Tensor,\n",
    "        device: str = \"mps\",\n",
    "    ) -> Tuple[torch.Tensor, torch.Tensor]:\n",
    "        node_features = node_features.to(device)\n",
    "        node_features = self.projection_in(node_features)\n",
    "        x, _ = self.init_message_matrix(node_features, edge_features, mask)\n",
    "        x = self.graph_transformer(x, mask=None, is_encoder=True)\n",
    "        graph_emb, node_features = self.read_out_message_matrix(x)\n",
    "        return graph_emb, node_features"
   ]
  },
  {
   "cell_type": "code",
   "execution_count": null,
   "metadata": {},
   "outputs": [],
   "source": [
    "encoder = GraphEncoder()\n",
    "encoder.eval()\n",
    "with torch.no_grad():\n",
    "    out = encoder(el.node_features, el.edge_features, el.mask, device=\"cpu\")"
   ]
  },
  {
   "cell_type": "code",
   "execution_count": null,
   "metadata": {},
   "outputs": [
    {
     "data": {
      "image/png": "[encoded data removed]",
      "text/plain": [
       "<Figure size 640x480 with 1 Axes>"
      ]
     },
     "metadata": {},
     "output_type": "display_data"
    }
   ],
   "source": [
    "# Try with validation data (no permutation)\n",
    "val_imgs = data_val[0][0][0]\n",
    "val_args = data_val[0][0][1]\n",
    "\n",
    "# The first augmentation (index 0) should be the original orientation\n",
    "r_orig = restore_tensor(val_imgs[0], 1, 1, 24, 24, 4)\n",
    "plt.figure()\n",
    "plt.imshow(r_orig.squeeze())\n",
    "plt.title(\"Original orientation (validation)\")\n",
    "plt.show()"
   ]
  },
  {
   "cell_type": "code",
   "execution_count": null,
   "metadata": {},
   "outputs": [],
   "source": [
    "x = torch.rand([1, 1, 8, 8])\n",
    "# x = torch.tensor([[1, 2], [3, 4]])\n",
    "x_rot = torch.rot90(x, k=-1, dims=[-2, -1])"
   ]
  },
  {
   "cell_type": "code",
   "execution_count": null,
   "metadata": {},
   "outputs": [],
   "source": [
    "n = 2\n",
    "grid = torch.arange(n * n).reshape(n, n)"
   ]
  },
  {
   "cell_type": "code",
   "execution_count": null,
   "metadata": {},
   "outputs": [],
   "source": [
    "x = torch.tensor(\n",
    "    [[1, 2, 3, 4], [5, 6, 7, 8], [9, 10, 11, 12], [13, 14, 15, 16]], dtype=torch.float32\n",
    ")\n",
    "x = x.unsqueeze(0).unsqueeze(0)\n",
    "splitPatches = SplitPatches(2)\n",
    "s = splitPatches(x)"
   ]
  },
  {
   "cell_type": "code",
   "execution_count": null,
   "metadata": {},
   "outputs": [],
   "source": [
    "pa = PatchAugmentations(1.0, 4, 2)\n",
    "\n",
    "ret, arg = pa(s)"
   ]
  },
  {
   "cell_type": "code",
   "execution_count": null,
   "metadata": {},
   "outputs": [
    {
     "name": "stdout",
     "output_type": "stream",
     "text": [
      "tensor([[[[ 1.,  2.,  3.,  4.],\n",
      "          [ 5.,  6.,  7.,  8.],\n",
      "          [ 9., 10., 11., 12.],\n",
      "          [13., 14., 15., 16.]]]])\n",
      "tensor([[[[ 1.,  2.,  3.,  4.],\n",
      "          [ 5.,  6.,  7.,  8.],\n",
      "          [ 9., 10., 11., 12.],\n",
      "          [13., 14., 15., 16.]]]])\n",
      "tensor([[[[ 1.,  2.,  3.,  4.],\n",
      "          [ 5.,  6.,  7.,  8.],\n",
      "          [ 9., 10., 11., 12.],\n",
      "          [13., 14., 15., 16.]]]])\n",
      "tensor([[[[ 1.,  2.,  3.,  4.],\n",
      "          [ 5.,  6.,  7.,  8.],\n",
      "          [ 9., 10., 11., 12.],\n",
      "          [13., 14., 15., 16.]]]])\n",
      "tensor([[[[ 1.,  2.,  3.,  4.],\n",
      "          [ 5.,  6.,  7.,  8.],\n",
      "          [ 9., 10., 11., 12.],\n",
      "          [13., 14., 15., 16.]]]])\n",
      "tensor([[[[ 1.,  2.,  3.,  4.],\n",
      "          [ 5.,  6.,  7.,  8.],\n",
      "          [ 9., 10., 11., 12.],\n",
      "          [13., 14., 15., 16.]]]])\n",
      "tensor([[[[ 1.,  2.,  3.,  4.],\n",
      "          [ 5.,  6.,  7.,  8.],\n",
      "          [ 9., 10., 11., 12.],\n",
      "          [13., 14., 15., 16.]]]])\n"
     ]
    }
   ],
   "source": [
    "for i in range(7):\n",
    "    print(restore_tensor(ret[i][:, arg[i], :], 1, 1, 4, 4, 2))"
   ]
  },
  {
   "cell_type": "code",
   "execution_count": null,
   "metadata": {},
   "outputs": [
    {
     "data": {
      "text/plain": [
       "tensor([2, 0, 3, 1])"
      ]
     },
     "execution_count": 207,
     "metadata": {},
     "output_type": "execute_result"
    }
   ],
   "source": [
    "c = s[:, torch.tensor([1, 3, 0, 2]), :]\n",
    "\n",
    "i = torch.tensor([1, 3, 0, 2])\n",
    "argsort = torch.argsort(i)\n",
    "c[:, argsort, :]\n",
    "argsort"
   ]
  },
  {
   "cell_type": "code",
   "execution_count": null,
   "metadata": {},
   "outputs": [],
   "source": [
    "a = torch.arange(2 * 2).reshape(2, 2)"
   ]
  },
  {
   "cell_type": "code",
   "execution_count": null,
   "metadata": {},
   "outputs": [
    {
     "ename": "IndexError",
     "evalue": "index 2 is out of bounds for dimension 0 with size 1",
     "output_type": "error",
     "traceback": [
      "\u001b[31m---------------------------------------------------------------------------\u001b[39m",
      "\u001b[31mIndexError\u001b[39m                                Traceback (most recent call last)",
      "\u001b[36mCell\u001b[39m\u001b[36m \u001b[39m\u001b[32mIn[159]\u001b[39m\u001b[32m, line 4\u001b[39m\n\u001b[32m      2\u001b[39m s = splitPatches(x)\n\u001b[32m      3\u001b[39m s_rot = splitPatches(x_rot)\n\u001b[32m----> \u001b[39m\u001b[32m4\u001b[39m s_bis = \u001b[43ms\u001b[49m\u001b[43m[\u001b[49m\u001b[43m:\u001b[49m\u001b[43m,\u001b[49m\u001b[43m \u001b[49m\u001b[43m[\u001b[49m\u001b[32;43m2\u001b[39;49m\u001b[43m,\u001b[49m\u001b[43m \u001b[49m\u001b[32;43m0\u001b[39;49m\u001b[43m,\u001b[49m\u001b[43m \u001b[49m\u001b[32;43m3\u001b[39;49m\u001b[43m,\u001b[49m\u001b[43m \u001b[49m\u001b[32;43m1\u001b[39;49m\u001b[43m]\u001b[49m\u001b[43m,\u001b[49m\u001b[43m \u001b[49m\u001b[43m:\u001b[49m\u001b[43m]\u001b[49m\n\u001b[32m      5\u001b[39m projection_in = nn.Linear(\n\u001b[32m      6\u001b[39m             \u001b[32m16\u001b[39m, \u001b[32m2\u001b[39m\n\u001b[32m      7\u001b[39m         )\n",
      "\u001b[31mIndexError\u001b[39m: index 2 is out of bounds for dimension 0 with size 1"
     ]
    }
   ],
   "source": [
    "splitPatches = SplitPatches(4)\n",
    "s = splitPatches(x)\n",
    "s_rot = splitPatches(x_rot)\n",
    "s_bis = s[:, [2, 0, 3, 1], :]\n",
    "projection_in = nn.Linear(16, 2)"
   ]
  },
  {
   "cell_type": "code",
   "execution_count": null,
   "metadata": {},
   "outputs": [],
   "source": [
    "import numpy as np\n",
    "import torch\n",
    "import math\n",
    "import torch.nn as nn\n",
    "\n",
    "# from torch.nn.attention import SDPBackend\n",
    "from collections import OrderedDict\n",
    "\n",
    "\"\"\"\n",
    "adapted from https://github.com/jadore801120/attention-is-all-you-need-pytorch\n",
    "\"\"\"\n",
    "\n",
    "\n",
    "class Transformer(nn.Module):\n",
    "    def __init__(self, hidden_dim, num_heads, ppf_hidden_dim, num_layers, dropout=0.1):\n",
    "        super().__init__()\n",
    "        self.num_layers = num_layers\n",
    "        self.ppf_hidden_dim = ppf_hidden_dim  # TBDeleted\n",
    "        # self.embedding_layer = EmbeddingLayer(\n",
    "        #     config.vocab_size, config.d_model, config.max_len\n",
    "        # )\n",
    "        self.blocks = nn.ModuleList(\n",
    "            [\n",
    "                TransformerBlock(hidden_dim, num_heads, dropout)\n",
    "                for _ in range(num_layers)\n",
    "            ]\n",
    "        )\n",
    "\n",
    "        # self.head = nn.Linear(config.d_model, config.vocab_size, bias=False)\n",
    "\n",
    "    def forward(self, x, mask):\n",
    "        # output = self.embedding_layer(input_ids)\n",
    "\n",
    "        for block in self.blocks:\n",
    "            x = block(x, mask)\n",
    "\n",
    "        output = x\n",
    "        # output = self.head(output)\n",
    "        return output\n",
    "\n",
    "    def init_weights(self):\n",
    "        for norm in (self.attention_norm, self.ffn_norm):\n",
    "            norm.reset_parameters()\n",
    "        self.attention.init_weights(self.weight_init_std)\n",
    "        self.feed_forward.init_weights(self.weight_init_std)\n",
    "\n",
    "\n",
    "class TransformerBlock(nn.Module):\n",
    "    def __init__(self, hidden_dim, n_head, dropout):\n",
    "        super().__init__()\n",
    "        self.attention_layer = SelfAttention(n_head, hidden_dim, dropout)\n",
    "        self.feed_forward_layer = FeedForward(hidden_dim, dropout)\n",
    "\n",
    "    def forward(self, x, attention_mask):\n",
    "        out_attention = self.attention_layer(x, attention_mask)\n",
    "        x = x + out_attention\n",
    "\n",
    "        out_feed_forward = self.feed_forward_layer(x)\n",
    "        x = x + out_feed_forward\n",
    "        return x\n",
    "\n",
    "\n",
    "def FeedForward(hidden_size, dropout=0.1):\n",
    "    return nn.Sequential(\n",
    "        OrderedDict(\n",
    "            [\n",
    "                (\"ff_layernorm\", nn.LayerNorm(hidden_size)),\n",
    "                (\n",
    "                    \"pre_relu\",\n",
    "                    nn.Linear(\n",
    "                        hidden_size,\n",
    "                        4 * hidden_size,\n",
    "                        bias=True,\n",
    "                    ),\n",
    "                ),\n",
    "                (\"relu\", nn.ReLU()),\n",
    "                (\n",
    "                    \"post_relu\",\n",
    "                    nn.Linear(\n",
    "                        4 * hidden_size,\n",
    "                        hidden_size,\n",
    "                        bias=True,\n",
    "                    ),\n",
    "                ),\n",
    "                (\"dropout\", nn.Dropout(dropout)),\n",
    "            ]\n",
    "        )\n",
    "    )\n",
    "\n",
    "\n",
    "class SelfAttention(torch.nn.Module):\n",
    "    def __init__(self, n_head, hidden_dim, dropout=0.1):\n",
    "        super().__init__()\n",
    "\n",
    "        self.n_head = n_head\n",
    "        self.hidden_dim = hidden_dim\n",
    "\n",
    "        self.layer_norm = nn.LayerNorm(hidden_dim)\n",
    "        self.input_projection = nn.Linear(hidden_dim, 3 * hidden_dim, bias=False)\n",
    "        self.output_projection = nn.Linear(hidden_dim, hidden_dim, bias=False)\n",
    "        self.dropout = nn.Dropout(dropout)\n",
    "\n",
    "    def forward(self, x, mask):\n",
    "        # x: b x nn x nn x dv\n",
    "        batch_size, num_nodes = x.size(0), x.size(1)\n",
    "        x = self.layer_norm(x)\n",
    "        projected = self.input_projection(x)\n",
    "\n",
    "        device = x.device\n",
    "\n",
    "        q_chunk, k_chunk, v_chunk = torch.chunk(projected, chunks=3, dim=-1)\n",
    "        query = q_chunk.view(batch_size, num_nodes, num_nodes, self.n_head, -1).permute(\n",
    "            0, 3, 1, 2, 4\n",
    "        )\n",
    "        key = k_chunk.view(batch_size, num_nodes, num_nodes, self.n_head, -1).permute(\n",
    "            0, 3, 2, 1, 4\n",
    "        )\n",
    "        value = v_chunk.view(batch_size, num_nodes, num_nodes, self.n_head, -1).permute(\n",
    "            0, 3, 2, 1, 4\n",
    "        )\n",
    "\n",
    "        attn_mask = mask\n",
    "        # .masked_fill(\n",
    "        #     torch.eye(num_nodes, num_nodes, device=device).bool(), 0\n",
    "        # )\n",
    "        attn_mask = attn_mask.unsqueeze(1).expand(-1, num_nodes, -1, -1)\n",
    "        # attn_mask = attn_mask * (\n",
    "        #     torch.eye(num_nodes, num_nodes, device=device) == 0\n",
    "        # ).bool().unsqueeze(0).unsqueeze(-2).expand(-1, -1, num_nodes, -1)\n",
    "\n",
    "        # with torch.nn.attention.sdpa_kernel(\n",
    "        #     [\n",
    "        #         SDPBackend.FLASH_ATTENTION,\n",
    "        #         SDPBackend.EFFICIENT_ATTENTION,\n",
    "        #         SDPBackend.MATH,\n",
    "        #     ]\n",
    "        # ):\n",
    "\n",
    "        attention_output = scaled_dot_product_attention(\n",
    "            query=query,\n",
    "            key=key,\n",
    "            value=value,\n",
    "            attn_mask=attn_mask,\n",
    "            is_causal=False,\n",
    "        )\n",
    "        attention_output = attention_output.permute(0, 2, 3, 1, 4).contiguous()\n",
    "        output = self.output_projection(attention_output.transpose(1, 2).flatten(-2))\n",
    "        output = self.dropout(output)\n",
    "        return output\n",
    "\n",
    "\n",
    "class PositionalEncoding(torch.nn.Module):\n",
    "    def __init__(self, d_hid, n_position=200):\n",
    "        super(PositionalEncoding, self).__init__()\n",
    "\n",
    "        # Not a parameter\n",
    "        self.register_buffer(\n",
    "            \"pos_table\", self._get_sinusoid_encoding_table(n_position, d_hid)\n",
    "        )\n",
    "\n",
    "    def _get_sinusoid_encoding_table(self, n_position, d_hid):\n",
    "        \"\"\"Sinusoid position encoding table\"\"\"\n",
    "        # TODO: make it with torch instead of numpy\n",
    "\n",
    "        def get_position_angle_vec(position):\n",
    "            return [\n",
    "                position / np.power(10000, 2 * (hid_j // 2) / d_hid)\n",
    "                for hid_j in range(d_hid)\n",
    "            ]\n",
    "\n",
    "        sinusoid_table = np.array(\n",
    "            [get_position_angle_vec(pos_i) for pos_i in range(n_position)]\n",
    "        )\n",
    "        sinusoid_table[:, 0::2] = np.sin(sinusoid_table[:, 0::2])  # dim 2i\n",
    "        sinusoid_table[:, 1::2] = np.cos(sinusoid_table[:, 1::2])  # dim 2i+1\n",
    "\n",
    "        return torch.FloatTensor(sinusoid_table).unsqueeze(0)\n",
    "\n",
    "    def forward(self, batch_size, num_nodes):\n",
    "        x = self.pos_table[:, :num_nodes].clone().detach()\n",
    "        x = x.expand(batch_size, -1, -1)\n",
    "        return x\n",
    "\n",
    "\n",
    "class EmbeddingLayer(nn.Module):\n",
    "    def __init__(self, vocab_size, embed_dim, max_len):\n",
    "        super(EmbeddingLayer, self).__init__()\n",
    "        self.token_embedding = nn.Embedding(vocab_size, embed_dim)\n",
    "        self.position_embedding = nn.Embedding(max_len, embed_dim)\n",
    "\n",
    "    def forward(self, x):\n",
    "        # x: (batch_size, seq_len)\n",
    "        seq_len = x.size(1)\n",
    "        positions = (\n",
    "            torch.arange(seq_len, dtype=torch.long, device=x.device)\n",
    "            .unsqueeze(0)\n",
    "            .expand_as(x)\n",
    "        )\n",
    "        token_embeddings = self.token_embedding(x)\n",
    "        position_embeddings = self.position_embedding(positions)\n",
    "        embeddings = token_embeddings + position_embeddings\n",
    "        return embeddings\n",
    "\n",
    "\n",
    "# Efficient implementation equivalent to the following:\n",
    "# https://pytorch.org/docs/stable/generated/torch.nn.functional.scaled_dot_product_attention.html\n",
    "def scaled_dot_product_attention(\n",
    "    query,\n",
    "    key,\n",
    "    value,\n",
    "    attn_mask=None,\n",
    "    dropout_p=0.0,\n",
    "    is_causal=False,\n",
    "    scale=None,\n",
    "    enable_gqa=False,\n",
    ") -> torch.Tensor:\n",
    "    L, S = query.size(-2), key.size(-2)\n",
    "    scale_factor = 1 / math.sqrt(query.size(-1)) if scale is None else scale\n",
    "    attn_bias = torch.zeros(\n",
    "        (*query.shape[:-2], L, S), dtype=query.dtype, device=query.device\n",
    "    )\n",
    "    if is_causal:\n",
    "        assert attn_mask is None\n",
    "        temp_mask = torch.ones(L, S, dtype=torch.bool).tril(diagonal=0)\n",
    "        attn_bias.masked_fill_(temp_mask.logical_not(), float(\"-inf\"))\n",
    "        attn_bias.to(query.dtype)\n",
    "\n",
    "    if attn_mask is not None:\n",
    "        if attn_mask.dtype == torch.bool:\n",
    "            attn_bias.masked_fill_(attn_mask[0].logical_not(), float(\"-inf\"))\n",
    "        else:\n",
    "            attn_bias = attn_mask + attn_bias\n",
    "\n",
    "    if enable_gqa:\n",
    "        key = key.repeat_interleave(query.size(-3) // key.size(-3), -3)\n",
    "        value = value.repeat_interleave(query.size(-3) // value.size(-3), -3)\n",
    "\n",
    "    attn_weight = query @ key.transpose(-2, -1) * scale_factor\n",
    "    attn_weight += attn_bias\n",
    "    attn_weight = torch.softmax(attn_weight, dim=-1)\n",
    "    attn_weight = torch.dropout(attn_weight, dropout_p, train=True)\n",
    "    return attn_weight @ value"
   ]
  },
  {
   "cell_type": "code",
   "execution_count": null,
   "metadata": {},
   "outputs": [],
   "source": [
    "import torch\n",
    "import torch.nn as nn\n",
    "from types import SimpleNamespace\n",
    "import torch.nn.functional as F\n",
    "\n",
    "\n",
    "class EmbeddingLayer(nn.Module):\n",
    "    def __init__(self, vocab_size, embed_dim, max_len):\n",
    "        super(EmbeddingLayer, self).__init__()\n",
    "        self.token_embedding = nn.Embedding(vocab_size, embed_dim)\n",
    "        self.position_embedding = nn.Embedding(max_len, embed_dim)\n",
    "\n",
    "    def forward(self, x):\n",
    "        # x: (batch_size, seq_len)\n",
    "        seq_len = x.size(1)\n",
    "        positions = (\n",
    "            torch.arange(seq_len, dtype=torch.long, device=x.device)\n",
    "            .unsqueeze(0)\n",
    "            .expand_as(x)\n",
    "        )\n",
    "        token_embeddings = self.token_embedding(x)\n",
    "        position_embeddings = self.position_embedding(positions)\n",
    "        embeddings = token_embeddings + position_embeddings\n",
    "        return embeddings\n",
    "\n",
    "\n",
    "class AttentionLayer(nn.Module):\n",
    "    def __init__(\n",
    "        self,\n",
    "        dmodel,\n",
    "        heads,\n",
    "    ):\n",
    "        super(AttentionLayer, self).__init__()\n",
    "\n",
    "        self.ln = nn.LayerNorm(dmodel)\n",
    "\n",
    "        self.heads = heads\n",
    "\n",
    "        self.input_projection = nn.Linear(dmodel, 3 * dmodel, bias=False)\n",
    "\n",
    "        self.output_projection = nn.Linear(dmodel, dmodel, bias=False)\n",
    "\n",
    "    def forward(self, x, attention_mask):\n",
    "        x = self.ln(x)\n",
    "\n",
    "        projected = self.input_projection(x)\n",
    "\n",
    "        batch, seq_len = x.shape[:-1]\n",
    "        q_chunk, k_chunk, v_chunk = torch.chunk(projected, chunks=3, dim=-1)\n",
    "        query = q_chunk.view(batch, seq_len, self.heads, -1).transpose(1, 2)\n",
    "        key = k_chunk.view(batch, seq_len, self.heads, -1).transpose(1, 2)\n",
    "        value = v_chunk.view(batch, seq_len, self.heads, -1).transpose(1, 2)\n",
    "\n",
    "        # with torch.nn.attention.sdpa_kernel(\n",
    "        #     [\n",
    "        #         SDPBackend.FLASH_ATTENTION,\n",
    "        #         SDPBackend.EFFICIENT_ATTENTION,\n",
    "        #         SDPBackend.MATH,\n",
    "        #     ]\n",
    "        # ):\n",
    "        attention_output = F.scaled_dot_product_attention(\n",
    "            query=query,\n",
    "            key=key,\n",
    "            value=value,\n",
    "            attn_mask=attention_mask,\n",
    "            is_causal=True,\n",
    "        )\n",
    "\n",
    "        output = self.output_projection(attention_output.transpose(1, 2).flatten(-2))\n",
    "\n",
    "        return output\n",
    "\n",
    "\n",
    "def FeedForward(\n",
    "    dmodel,\n",
    "):\n",
    "    return nn.Sequential(\n",
    "        OrderedDict(\n",
    "            [\n",
    "                (\"ff_layernorm\", nn.LayerNorm(dmodel)),\n",
    "                (\n",
    "                    \"pre_relu\",\n",
    "                    nn.Linear(\n",
    "                        dmodel,\n",
    "                        4 * dmodel,\n",
    "                        bias=True,\n",
    "                    ),\n",
    "                ),\n",
    "                (\"relu\", nn.ReLU()),\n",
    "                (\n",
    "                    \"post_relu\",\n",
    "                    nn.Linear(\n",
    "                        4 * dmodel,\n",
    "                        dmodel,\n",
    "                        bias=True,\n",
    "                    ),\n",
    "                ),\n",
    "            ]\n",
    "        )\n",
    "    )\n",
    "\n",
    "\n",
    "class Block(nn.Module):\n",
    "    def __init__(\n",
    "        self,\n",
    "        dmodel,\n",
    "        heads,\n",
    "    ):\n",
    "        super().__init__()\n",
    "        self.attention_layer = AttentionLayer(dmodel, heads)\n",
    "        self.feed_forward_layer = FeedForward(dmodel)\n",
    "\n",
    "    def forward(self, x, attention_mask):\n",
    "        out_attention = self.attention_layer(x, attention_mask)\n",
    "        x = x + out_attention\n",
    "\n",
    "        out_feed_forward = self.feed_forward_layer(x)\n",
    "        x = x + out_feed_forward\n",
    "        return x\n",
    "\n",
    "\n",
    "class Transformer(nn.Module):\n",
    "    def __init__(self, config):\n",
    "        super().__init__()\n",
    "        self.config = config\n",
    "        self.embedding_layer = EmbeddingLayer(\n",
    "            config.vocab_size, config.d_model, config.max_len\n",
    "        )\n",
    "        self.blocks = nn.ModuleList(\n",
    "            [Block(config.d_model, config.num_heads) for _ in range(config.num_layers)]\n",
    "        )\n",
    "\n",
    "        self.head = nn.Linear(config.d_model, config.vocab_size, bias=False)\n",
    "\n",
    "    def forward(self, input_ids, attention_mask=None):\n",
    "        output = self.embedding_layer(input_ids)\n",
    "\n",
    "        for block in self.blocks:\n",
    "            output = block(output, attention_mask)\n",
    "\n",
    "        output = self.head(output)\n",
    "        return output\n",
    "\n",
    "\n",
    "def main():\n",
    "    config = SimpleNamespace(\n",
    "        d_model=256,\n",
    "        num_heads=4,\n",
    "        num_layers=4,\n",
    "        learning_rate=1e-4,\n",
    "        dropout=0.0,\n",
    "        seq_length=256,\n",
    "        batch_size=64,\n",
    "    )"
   ]
  },
  {
   "cell_type": "code",
   "execution_count": null,
   "metadata": {},
   "outputs": [],
   "source": [
    "blocks = nn.ModuleList([Block(256, 4) for _ in range(4)])"
   ]
  },
  {
   "cell_type": "code",
   "execution_count": null,
   "metadata": {},
   "outputs": [
    {
     "data": {
      "text/plain": [
       "torch.Size([64, 256, 256])"
      ]
     },
     "execution_count": 60,
     "metadata": {},
     "output_type": "execute_result"
    }
   ],
   "source": [
    "x = torch.randn(64, 256, 256)\n",
    "blocks[0](x, None).shape"
   ]
  },
  {
   "cell_type": "code",
   "execution_count": null,
   "metadata": {},
   "outputs": [],
   "source": [
    "blocks = nn.ModuleList([TransformerBlock(32, 4, 0.1) for _ in range(6)])"
   ]
  },
  {
   "cell_type": "code",
   "execution_count": null,
   "metadata": {},
   "outputs": [
    {
     "data": {
      "text/plain": [
       "torch.Size([1, 10, 10, 32])"
      ]
     },
     "execution_count": 55,
     "metadata": {},
     "output_type": "execute_result"
    }
   ],
   "source": [
    "x = torch.randn(1, 10, 10, 32)\n",
    "mask = torch.ones(1, 10, 10)\n",
    "o = blocks[0](x, mask)\n",
    "o.shape"
   ]
  },
  {
   "cell_type": "code",
   "execution_count": null,
   "metadata": {},
   "outputs": [],
   "source": [
    "t = Transformer(\n",
    "    hidden_dim=32,\n",
    "    num_heads=4,\n",
    "    ppf_hidden_dim=128,\n",
    "    num_layers=6,\n",
    "    dropout=0.1,\n",
    ")"
   ]
  },
  {
   "cell_type": "code",
   "execution_count": null,
   "metadata": {},
   "outputs": [],
   "source": [
    "out = t(x, torch.ones(1, 10, 10))"
   ]
  },
  {
   "cell_type": "code",
   "execution_count": null,
   "metadata": {},
   "outputs": [
    {
     "data": {
      "text/plain": [
       "torch.Size([1, 10, 10, 32])"
      ]
     },
     "execution_count": 43,
     "metadata": {},
     "output_type": "execute_result"
    }
   ],
   "source": [
    "out.shape"
   ]
  },
  {
   "cell_type": "code",
   "execution_count": null,
   "metadata": {},
   "outputs": [],
   "source": [
    "import torch\n",
    "from torch.nn.functional import pad"
   ]
  },
  {
   "cell_type": "code",
   "execution_count": null,
   "metadata": {},
   "outputs": [],
   "source": [
    "import torch\n",
    "import torch.nn as nn\n",
    "import networkx as nx\n",
    "import matplotlib.pyplot as plt"
   ]
  },
  {
   "cell_type": "code",
   "execution_count": null,
   "metadata": {},
   "outputs": [
    {
     "data": {
      "image/png": "[encoded data removed]",
      "text/plain": [
       "<Figure size 640x480 with 1 Axes>"
      ]
     },
     "metadata": {},
     "output_type": "display_data"
    }
   ],
   "source": [
    "options = {\"node_color\": \"C0\", \"node_size\": 10}\n",
    "\n",
    "G = nx.grid_2d_graph(4, 4)\n",
    "G.add_nodes_from([i for i in range(4, 6)])\n",
    "plt.subplot()\n",
    "nx.draw(G, **options)"
   ]
  },
  {
   "cell_type": "code",
   "execution_count": null,
   "metadata": {},
   "outputs": [
    {
     "data": {
      "text/plain": [
       "torch.Size([2, 4, 2])"
      ]
     },
     "execution_count": 65,
     "metadata": {},
     "output_type": "execute_result"
    }
   ],
   "source": [
    "node_features = torch.tensor(\n",
    "    [\n",
    "        [[1.0, 2.0], [3.0, 4.0], [5.0, 6.0], [7.0, 8.0]],\n",
    "        [[7.0, 8.0], [9.0, 10.0], [11.0, 12.0], [13.0, 14.0]],\n",
    "    ]\n",
    ")\n",
    "\n",
    "mask = torch.tensor(\n",
    "    [\n",
    "        [True, True, True, True],\n",
    "        [True, True, True, True],\n",
    "    ]\n",
    ")\n",
    "node_features.shape\n",
    "\n",
    "node_features = pad(node_features, (0, 0, 1, 0))\n",
    "mask = pad(mask, (1, 0), value=1)\n",
    "\n",
    "edge_mask = mask.unsqueeze(1) * mask.unsqueeze(2)\n",
    "\n",
    "mask.unsqueeze(1).expand(-1, 5, -1).shape"
   ]
  },
  {
   "cell_type": "code",
   "execution_count": null,
   "metadata": {},
   "outputs": [],
   "source": [
    "node_features = pad(node_features, (0, 0, 1, 0))\n",
    "mask = pad(mask, (1, 0), value=1)"
   ]
  },
  {
   "cell_type": "code",
   "execution_count": null,
   "metadata": {},
   "outputs": [],
   "source": [
    "edge_mask = mask.unsqueeze(1) * mask.unsqueeze(2)"
   ]
  },
  {
   "cell_type": "code",
   "execution_count": null,
   "metadata": {},
   "outputs": [
    {
     "data": {
      "text/plain": [
       "torch.Size([2, 5, 5])"
      ]
     },
     "execution_count": 74,
     "metadata": {},
     "output_type": "execute_result"
    }
   ],
   "source": [
    "mask.unsqueeze(1).expand(-1, 5, -1).shape"
   ]
  },
  {
   "cell_type": "code",
   "execution_count": null,
   "metadata": {},
   "outputs": [],
   "source": [
    "x = graph_emb.unsqueeze(1).unsqueeze(1).expand(-1, num_nodes, num_nodes, -1)\n",
    "x = torch.cat((x, pos_emb_combined), dim=-1)"
   ]
  },
  {
   "cell_type": "code",
   "execution_count": null,
   "metadata": {},
   "outputs": [
    {
     "data": {
      "text/plain": [
       "0.5"
      ]
     },
     "execution_count": 76,
     "metadata": {},
     "output_type": "execute_result"
    }
   ],
   "source": [
    "val_loss = torch.tensor(0.5)\n",
    "val_loss = val_loss.item()\n",
    "val_loss"
   ]
  },
  {
   "cell_type": "code",
   "execution_count": null,
   "metadata": {},
   "outputs": [],
   "source": [
    "def scaled_dot_product_attention(\n",
    "    query,\n",
    "    key,\n",
    "    value,\n",
    "    attn_mask=None,\n",
    "    dropout_p=0.0,\n",
    "    is_causal=False,\n",
    "    scale=None,\n",
    "    enable_gqa=False,\n",
    ") -> torch.Tensor:\n",
    "    L, S = query.size(-2), key.size(-2)\n",
    "    scale_factor = 1 / math.sqrt(query.size(-1)) if scale is None else scale\n",
    "    attn_bias = torch.zeros(\n",
    "        (*query.shape[:-2], L, S), dtype=query.dtype, device=query.device\n",
    "    )\n",
    "    if is_causal:\n",
    "        assert attn_mask is None\n",
    "        temp_mask = torch.ones(L, S, dtype=torch.bool).tril(diagonal=0)\n",
    "        attn_bias.masked_fill_(temp_mask.logical_not(), float(\"-inf\"))\n",
    "        attn_bias.to(query.dtype)\n",
    "\n",
    "    if attn_mask is not None:\n",
    "        if attn_mask.dtype == torch.bool:\n",
    "            attn_bias.masked_fill_(attn_mask[0].logical_not(), float(\"-inf\"))\n",
    "        else:\n",
    "            attn_bias = attn_mask + attn_bias\n",
    "\n",
    "    if enable_gqa:\n",
    "        key = key.repeat_interleave(query.size(-3) // key.size(-3), -3)\n",
    "        value = value.repeat_interleave(query.size(-3) // value.size(-3), -3)\n",
    "\n",
    "    attn_weight = query @ key.transpose(-2, -1) * scale_factor\n",
    "    attn_weight += attn_bias\n",
    "    attn_weight = torch.softmax(attn_weight, dim=-1)\n",
    "    attn_weight = torch.dropout(attn_weight, dropout_p, train=True)\n",
    "    return attn_weight @ value"
   ]
  },
  {
   "cell_type": "code",
   "execution_count": null,
   "metadata": {},
   "outputs": [],
   "source": [
    "# x: b x nn x nn x dv\n",
    "n_head = 2\n",
    "x = node_features_combined\n",
    "batch_size, num_nodes = x.size(0), x.size(1)\n",
    "projected = input_projection(x)\n",
    "\n",
    "device = x.device\n",
    "\n",
    "q_chunk, k_chunk, v_chunk = torch.chunk(projected, chunks=3, dim=-1)\n",
    "query = q_chunk.view(batch_size, num_nodes, num_nodes, n_head, -1).permute(\n",
    "    0, 3, 1, 2, 4\n",
    ")\n",
    "key = k_chunk.view(batch_size, num_nodes, num_nodes, n_head, -1).permute(0, 3, 2, 1, 4)\n",
    "value = v_chunk.view(batch_size, num_nodes, num_nodes, n_head, -1).permute(\n",
    "    0, 3, 2, 1, 4\n",
    ")\n",
    "\n",
    "attn_mask = edge_mask\n",
    "# .masked_fill(\n",
    "#     torch.eye(num_nodes, num_nodes, device=device).bool(), 0\n",
    "# )\n",
    "attn_mask = attn_mask.unsqueeze(1).expand(-1, num_nodes, -1, -1)"
   ]
  },
  {
   "cell_type": "code",
   "execution_count": null,
   "metadata": {},
   "outputs": [],
   "source": [
    "is_causal = True\n",
    "L, S = query.size(-2), key.size(-2)\n",
    "scale_factor = 1 / math.sqrt(query.size(-1)) if scale is None else scale\n",
    "attn_bias = torch.zeros(\n",
    "    (*query.shape[:-2], L, S), dtype=query.dtype, device=query.device\n",
    ")\n",
    "if is_causal:\n",
    "    temp_mask = torch.ones(L, S, dtype=torch.bool).tril(diagonal=0)\n",
    "    attn_bias.masked_fill_(temp_mask.logical_not(), float(\"-inf\"))\n",
    "    attn_bias.to(query.dtype)\n",
    "\n",
    "if attn_mask is not None:\n",
    "    if attn_mask.dtype == torch.bool:\n",
    "        attn_bias.masked_fill_(attn_mask[0].logical_not(), float(\"-inf\"))\n",
    "    else:\n",
    "        attn_bias = attn_mask + attn_bias\n",
    "\n",
    "if enable_gqa:\n",
    "    key = key.repeat_interleave(query.size(-3) // key.size(-3), -3)\n",
    "    value = value.repeat_interleave(query.size(-3) // value.size(-3), -3)\n",
    "\n",
    "attn_weight = query @ key.transpose(-2, -1) * scale_factor\n",
    "attn_weight += attn_bias\n",
    "attn_weight = torch.softmax(attn_weight, dim=-1)\n",
    "attn_weight = torch.dropout(attn_weight, dropout_p, train=True)"
   ]
  },
  {
   "cell_type": "code",
   "execution_count": null,
   "metadata": {},
   "outputs": [],
   "source": [
    "node_features_combined = torch.cat(\n",
    "    (\n",
    "        node_features.unsqueeze(2).repeat(1, 1, 5, 1),\n",
    "        node_features.unsqueeze(1).repeat_interleave(5, dim=1),\n",
    "    ),\n",
    "    dim=-1,\n",
    ")"
   ]
  },
  {
   "cell_type": "code",
   "execution_count": null,
   "metadata": {},
   "outputs": [],
   "source": [
    "x = node_features_combined"
   ]
  },
  {
   "cell_type": "code",
   "execution_count": null,
   "metadata": {},
   "outputs": [],
   "source": [
    "node_features = torch.diagonal(x, dim1=1, dim2=2).transpose(1, 2)\n",
    "graph_emb, node_features = node_features[:, 0], node_features[:, 1:]"
   ]
  },
  {
   "cell_type": "code",
   "execution_count": null,
   "metadata": {},
   "outputs": [],
   "source": [
    "class Permuter(torch.nn.Module):\n",
    "    def __init__(self, hparams):\n",
    "        super().__init__()\n",
    "        self.scoring_fc = nn.Linear(hparams.graph_decoder_hidden_dim, 1)\n",
    "\n",
    "    def score(self, x, mask):\n",
    "        scores = self.scoring_fc(x)\n",
    "        fill_value = scores.min().item() - 1\n",
    "        scores = scores.masked_fill(mask.unsqueeze(-1) == 0, fill_value)\n",
    "        return scores\n",
    "\n",
    "    def soft_sort(self, scores, hard, tau):\n",
    "        scores_sorted = scores.sort(descending=True, dim=1)[0]\n",
    "        pairwise_diff = (scores.transpose(1, 2) - scores_sorted).abs().neg() / tau\n",
    "        perm = pairwise_diff.softmax(-1)\n",
    "        if hard:\n",
    "            perm_ = torch.zeros_like(perm, device=perm.device)\n",
    "            perm_.scatter_(-1, perm.topk(1, -1)[1], value=1)\n",
    "            perm = (perm_ - perm).detach() + perm\n",
    "        return perm\n",
    "\n",
    "    def mask_perm(self, perm, mask):\n",
    "        batch_size, num_nodes = mask.size(0), mask.size(1)\n",
    "        eye = (\n",
    "            torch.eye(num_nodes, num_nodes)\n",
    "            .unsqueeze(0)\n",
    "            .expand(batch_size, -1, -1)\n",
    "            .type_as(perm)\n",
    "        )\n",
    "        mask = mask.unsqueeze(-1).expand(-1, -1, num_nodes)\n",
    "        perm = torch.where(mask, perm, eye)\n",
    "        return perm\n",
    "\n",
    "    def forward(self, node_features, mask, hard=False, tau=1.0):\n",
    "        # add noise to break symmetry\n",
    "        node_features = node_features + torch.randn_like(node_features) * 0.05\n",
    "        scores = self.score(node_features, mask)\n",
    "        perm = self.soft_sort(scores, hard, tau)\n",
    "        perm = perm.transpose(2, 1)\n",
    "        perm = self.mask_perm(perm, mask)\n",
    "        return perm\n",
    "\n",
    "    @staticmethod\n",
    "    def permute_node_features(node_features, perm):\n",
    "        node_features = torch.matmul(perm, node_features)\n",
    "        return node_features\n",
    "\n",
    "    @staticmethod\n",
    "    def permute_edge_features(edge_features, perm):\n",
    "        edge_features = torch.matmul(perm.unsqueeze(1), edge_features)\n",
    "        edge_features = torch.matmul(\n",
    "            perm.unsqueeze(1), edge_features.permute(0, 2, 1, 3)\n",
    "        )\n",
    "        edge_features = edge_features.permute(0, 2, 1, 3)\n",
    "        return edge_features"
   ]
  },
  {
   "cell_type": "code",
   "execution_count": null,
   "metadata": {},
   "outputs": [],
   "source": [
    "scoring_fc = nn.Linear(4, 8)\n",
    "mask = torch.tensor(\n",
    "    [\n",
    "        [True, True, True, True],\n",
    "        [True, True, True, True],\n",
    "    ]\n",
    ")\n",
    "scores = scoring_fc(node_features)\n",
    "fill_value = scores.min().item() - 1\n",
    "scores = scores.masked_fill(mask.unsqueeze(-1) == 0, fill_value)"
   ]
  },
  {
   "cell_type": "code",
   "execution_count": null,
   "metadata": {},
   "outputs": [],
   "source": [
    "class Permuter(torch.nn.Module):\n",
    "    def __init__(self, hparams, predefined_permutations):\n",
    "        super().__init__()\n",
    "        self.scoring_fc = nn.Linear(hparams.graph_decoder_hidden_dim, 8)\n",
    "\n",
    "        # Predefined permutation matrices (B, 8, N, N)\n",
    "        self.register_buffer(\"predefined_permutations\", predefined_permutations)\n",
    "\n",
    "    def forward(self, node_features, mask, hard=False, tau=1.0):\n",
    "        # Add noise to break symmetry\n",
    "        node_features = node_features + torch.randn_like(node_features) * 0.05\n",
    "\n",
    "        # Score each permutation option\n",
    "        scores = self.scoring_fc(node_features).mean(dim=1)  # (B, 8)\n",
    "\n",
    "        # Softmax over scores to get probabilities for each permutation\n",
    "        probs = torch.softmax(scores / tau, dim=-1)  # (B, 8)\n",
    "\n",
    "        if hard:\n",
    "            # Hard selection using Gumbel-Softmax (discrete but differentiable)\n",
    "            one_hot = torch.zeros_like(probs)\n",
    "            one_hot.scatter_(1, probs.argmax(dim=-1, keepdim=True), 1.0)\n",
    "            probs = (one_hot - probs).detach() + probs\n",
    "\n",
    "        # Combine predefined permutations with the probabilities\n",
    "        # Shape: (B, N, N) = (B, 8, N, N) * (B, 8, 1, 1)\n",
    "        # Expand probs to (B, 8, 1, 1) to match (8, N, N)\n",
    "        probs = probs.unsqueeze(-1).unsqueeze(-1)  # (B, 8, 1, 1)\n",
    "        # Combine predefined permutations with probabilities\n",
    "        # Shape: (B, N, N) = (B, 8, 1, 1) * (8, N, N) -> sum over 8\n",
    "        perm = torch.sum(probs * self.predefined_permutations, dim=1)  # (B, N, N)\n",
    "\n",
    "        return perm\n",
    "\n",
    "    @staticmethod\n",
    "    def permute_node_features(node_features, perm):\n",
    "        \"\"\"Apply the permutation to node features.\"\"\"\n",
    "        return torch.matmul(perm, node_features)"
   ]
  },
  {
   "cell_type": "code",
   "execution_count": null,
   "metadata": {},
   "outputs": [
    {
     "name": "stdout",
     "output_type": "stream",
     "text": [
      "torch.Size([2, 4, 4])\n"
     ]
    }
   ],
   "source": [
    "# Example: Create predefined 8 permutations for a 4-node graph\n",
    "import itertools\n",
    "\n",
    "num_nodes = 4\n",
    "permutations = torch.stack(\n",
    "    [\n",
    "        torch.eye(num_nodes)[torch.tensor(p)]\n",
    "        for p in itertools.permutations(range(num_nodes))\n",
    "    ]\n",
    ")[:8]  # Take 8 permutations\n",
    "\n",
    "# # Create the permuter\n",
    "hparams = type(\"hparams\", (object,), {\"graph_decoder_hidden_dim\": 4})\n",
    "permuter = Permuter(hparams, permutations)\n",
    "\n",
    "# # Forward pass example\n",
    "# node_features = torch.randn(5, 4, 4)  # (batch_size, num_nodes, feature_dim)\n",
    "# mask = torch.ones(5, 4)  # No masking in this example\n",
    "\n",
    "# Get permutation matrices\n",
    "perm = permuter(node_features, mask, hard=True)\n",
    "print(perm.shape)  # (5, 4, 4)"
   ]
  },
  {
   "cell_type": "code",
   "execution_count": null,
   "metadata": {},
   "outputs": [],
   "source": [
    "class PositionalEncoding(torch.nn.Module):\n",
    "    def __init__(self, d_hid, n_position=200):\n",
    "        super(PositionalEncoding, self).__init__()\n",
    "\n",
    "        # Not a parameter\n",
    "        self.register_buffer(\n",
    "            \"pos_table\", self._get_sinusoid_encoding_table(n_position, d_hid)\n",
    "        )\n",
    "\n",
    "    def _get_sinusoid_encoding_table(self, n_position, d_hid):\n",
    "        \"\"\"Sinusoid position encoding table\"\"\"\n",
    "        # TODO: make it with torch instead of numpy\n",
    "\n",
    "        def get_position_angle_vec(position):\n",
    "            return [\n",
    "                position / np.power(10000, 2 * (hid_j // 2) / d_hid)\n",
    "                for hid_j in range(d_hid)\n",
    "            ]\n",
    "\n",
    "        sinusoid_table = np.array(\n",
    "            [get_position_angle_vec(pos_i) for pos_i in range(n_position)]\n",
    "        )\n",
    "        sinusoid_table[:, 0::2] = np.sin(sinusoid_table[:, 0::2])  # dim 2i\n",
    "        sinusoid_table[:, 1::2] = np.cos(sinusoid_table[:, 1::2])  # dim 2i+1\n",
    "\n",
    "        return torch.FloatTensor(sinusoid_table).unsqueeze(0)\n",
    "\n",
    "    def forward(self, batch_size, num_nodes):\n",
    "        x = self.pos_table[:, :num_nodes].clone().detach()\n",
    "        x = x.expand(batch_size, -1, -1)\n",
    "        return x"
   ]
  },
  {
   "cell_type": "code",
   "execution_count": null,
   "metadata": {},
   "outputs": [],
   "source": [
    "posiotional_embedding = PositionalEncoding(4)\n",
    "\n",
    "batch_size = graph_emb.size(0)\n",
    "\n",
    "pos_emb = posiotional_embedding(batch_size, num_nodes)\n",
    "if perm is not None:\n",
    "    pos_emb = torch.matmul(perm, pos_emb)\n",
    "pos_emb_combined = torch.cat(\n",
    "    (\n",
    "        pos_emb.unsqueeze(2).repeat(1, 1, num_nodes, 1),\n",
    "        pos_emb.unsqueeze(1).repeat_interleave(num_nodes, dim=1),\n",
    "    ),\n",
    "    dim=-1,\n",
    ")\n",
    "\n",
    "x = graph_emb.unsqueeze(1).unsqueeze(1).expand(-1, num_nodes, num_nodes, -1)\n",
    "# x = torch.cat((x, pos_emb_combined), dim=-1)\n",
    "# x = self.layer_norm(self.dropout(self.fc_in(x)))"
   ]
  },
  {
   "cell_type": "code",
   "execution_count": null,
   "metadata": {},
   "outputs": [],
   "source": [
    "def init_message_matrix(self, graph_emb, perm, num_nodes):\n",
    "    batch_size = graph_emb.size(0)\n",
    "\n",
    "    # Generate positional embeddings (B, N, P)\n",
    "    pos_emb = self.posiotional_embedding(batch_size, num_nodes)\n",
    "\n",
    "    # Apply permutation if provided\n",
    "    if perm is not None:\n",
    "        pos_emb = torch.matmul(perm, pos_emb)\n",
    "\n",
    "    # Efficiently create pairwise positional embeddings\n",
    "    pos_emb_row = pos_emb.unsqueeze(2)  # (B, N, 1, P)\n",
    "    pos_emb_col = pos_emb.unsqueeze(1)  # (B, 1, N, P)\n",
    "    pos_emb_combined = torch.cat(\n",
    "        (\n",
    "            pos_emb_row.expand(-1, -1, num_nodes, -1),\n",
    "            pos_emb_col.expand(-1, num_nodes, -1, -1),\n",
    "        ),\n",
    "        dim=-1,\n",
    "    )  # (B, N, N, 2P)\n",
    "\n",
    "    # Expand graph embeddings and concatenate with positional embeddings\n",
    "    x = graph_emb.unsqueeze(1).unsqueeze(1).expand(-1, num_nodes, num_nodes, -1)\n",
    "    x = torch.cat((x, pos_emb_combined), dim=-1)\n",
    "\n",
    "    # Apply transformation\n",
    "    x = self.layer_norm(self.dropout(self.fc_in(x)))\n",
    "\n",
    "    return x\n",
    "\n",
    "\n",
    "# Visualization of embeddings\n",
    "import matplotlib.pyplot as plt\n",
    "import seaborn as sns\n",
    "\n",
    "\n",
    "def visualize_embeddings(pos_emb_combined, title=\"Positional Embedding Visualization\"):\n",
    "    \"\"\"Visualize pairwise positional embeddings.\"\"\"\n",
    "    pos_emb_combined = (\n",
    "        pos_emb_combined[0].detach().cpu().numpy()\n",
    "    )  # Pick one graph from batch\n",
    "    avg_pos_emb = pos_emb_combined.mean(axis=-1)  # Average across embedding dimensions\n",
    "\n",
    "    plt.figure(figsize=(8, 6))\n",
    "    sns.heatmap(avg_pos_emb, cmap=\"coolwarm\", annot=False)\n",
    "    plt.title(title)\n",
    "    plt.xlabel(\"Node\")\n",
    "    plt.ylabel(\"Node\")\n",
    "    plt.show()"
   ]
  },
  {
   "cell_type": "code",
   "execution_count": null,
   "metadata": {},
   "outputs": [
    {
     "data": {
      "image/png": "[encoded data removed]",
      "text/plain": [
       "<Figure size 800x600 with 2 Axes>"
      ]
     },
     "metadata": {},
     "output_type": "display_data"
    }
   ],
   "source": [
    "visualize_embeddings(pos_emb_combined, title=\"Positional Embedding Visualization\")"
   ]
  },
  {
   "cell_type": "code",
   "execution_count": null,
   "metadata": {},
   "outputs": [
    {
     "data": {
      "text/plain": [
       "tensor([[[ 0.8415,  0.5403,  0.0100,  0.9999],\n",
       "         [ 0.0000,  1.0000,  0.0000,  1.0000],\n",
       "         [ 0.1411, -0.9900,  0.0300,  0.9996],\n",
       "         [ 0.9093, -0.4161,  0.0200,  0.9998]],\n",
       "\n",
       "        [[ 0.8415,  0.5403,  0.0100,  0.9999],\n",
       "         [ 0.0000,  1.0000,  0.0000,  1.0000],\n",
       "         [ 0.1411, -0.9900,  0.0300,  0.9996],\n",
       "         [ 0.9093, -0.4161,  0.0200,  0.9998]]], grad_fn=<UnsafeViewBackward0>)"
      ]
     },
     "execution_count": 209,
     "metadata": {},
     "output_type": "execute_result"
    }
   ],
   "source": [
    "pos_emb\n",
    "\n",
    "hidden_states = nn.functional.gelu(hidden_states, approximate=\"tanh\")\n",
    "\n",
    "x = x * torch.sigmoid(1.702 * x)  # QuickGELU activation functi"
   ]
  },
  {
   "cell_type": "code",
   "execution_count": null,
   "metadata": {},
   "outputs": [
    {
     "data": {
      "text/plain": [
       "tensor([[[ 0.8415,  0.5403,  0.0100,  0.9999,  0.8415,  0.5403,  0.0100,\n",
       "           0.9999],\n",
       "         [ 0.8415,  0.5403,  0.0100,  0.9999,  0.0000,  1.0000,  0.0000,\n",
       "           1.0000],\n",
       "         [ 0.8415,  0.5403,  0.0100,  0.9999,  0.1411, -0.9900,  0.0300,\n",
       "           0.9996],\n",
       "         [ 0.8415,  0.5403,  0.0100,  0.9999,  0.9093, -0.4161,  0.0200,\n",
       "           0.9998]],\n",
       "\n",
       "        [[ 0.0000,  1.0000,  0.0000,  1.0000,  0.8415,  0.5403,  0.0100,\n",
       "           0.9999],\n",
       "         [ 0.0000,  1.0000,  0.0000,  1.0000,  0.0000,  1.0000,  0.0000,\n",
       "           1.0000],\n",
       "         [ 0.0000,  1.0000,  0.0000,  1.0000,  0.1411, -0.9900,  0.0300,\n",
       "           0.9996],\n",
       "         [ 0.0000,  1.0000,  0.0000,  1.0000,  0.9093, -0.4161,  0.0200,\n",
       "           0.9998]],\n",
       "\n",
       "        [[ 0.1411, -0.9900,  0.0300,  0.9996,  0.8415,  0.5403,  0.0100,\n",
       "           0.9999],\n",
       "         [ 0.1411, -0.9900,  0.0300,  0.9996,  0.0000,  1.0000,  0.0000,\n",
       "           1.0000],\n",
       "         [ 0.1411, -0.9900,  0.0300,  0.9996,  0.1411, -0.9900,  0.0300,\n",
       "           0.9996],\n",
       "         [ 0.1411, -0.9900,  0.0300,  0.9996,  0.9093, -0.4161,  0.0200,\n",
       "           0.9998]],\n",
       "\n",
       "        [[ 0.9093, -0.4161,  0.0200,  0.9998,  0.8415,  0.5403,  0.0100,\n",
       "           0.9999],\n",
       "         [ 0.9093, -0.4161,  0.0200,  0.9998,  0.0000,  1.0000,  0.0000,\n",
       "           1.0000],\n",
       "         [ 0.9093, -0.4161,  0.0200,  0.9998,  0.1411, -0.9900,  0.0300,\n",
       "           0.9996],\n",
       "         [ 0.9093, -0.4161,  0.0200,  0.9998,  0.9093, -0.4161,  0.0200,\n",
       "           0.9998]]], grad_fn=<SelectBackward0>)"
      ]
     },
     "execution_count": 210,
     "metadata": {},
     "output_type": "execute_result"
    }
   ],
   "source": [
    "pos_emb_combined[0]"
   ]
  },
  {
   "cell_type": "code",
   "execution_count": null,
   "metadata": {},
   "outputs": [
    {
     "data": {
      "text/plain": [
       "torch.Size([2, 4, 4, 8])"
      ]
     },
     "execution_count": 204,
     "metadata": {},
     "output_type": "execute_result"
    }
   ],
   "source": [
    "pos_emb_combined.shape"
   ]
  },
  {
   "cell_type": "code",
   "execution_count": null,
   "metadata": {},
   "outputs": [
    {
     "data": {
      "text/plain": [
       "torch.Size([2, 4, 4, 4])"
      ]
     },
     "execution_count": 207,
     "metadata": {},
     "output_type": "execute_result"
    }
   ],
   "source": [
    "x.shape"
   ]
  },
  {
   "cell_type": "code",
   "execution_count": null,
   "metadata": {},
   "outputs": [],
   "source": [
    "scores_sorted = scores.sort(descending=True, dim=1)[0]\n",
    "pairwise_diff = (scores.transpose(1, 2) - scores_sorted).abs().neg() / 1.0\n",
    "perm = pairwise_diff.softmax(-1)\n",
    "if not True:\n",
    "    perm_ = torch.zeros_like(perm, device=perm.device)\n",
    "    perm_.scatter_(-1, perm.topk(1, -1)[1], value=1)\n",
    "    perm = (perm_ - perm).detach() + perm"
   ]
  },
  {
   "cell_type": "code",
   "execution_count": null,
   "metadata": {},
   "outputs": [],
   "source": [
    "batch_size, num_nodes = mask.size(0), mask.size(1)\n",
    "eye = (\n",
    "    torch.eye(num_nodes, num_nodes)\n",
    "    .unsqueeze(0)\n",
    "    .expand(batch_size, -1, -1)\n",
    "    .type_as(perm)\n",
    ")\n",
    "mask = mask.unsqueeze(-1).expand(-1, -1, num_nodes)\n",
    "perm = torch.where(mask, perm, eye)"
   ]
  },
  {
   "cell_type": "code",
   "execution_count": null,
   "metadata": {},
   "outputs": [],
   "source": [
    "def permutation_matrix_90(n=6):\n",
    "    P = np.zeros((n * n, n * n), dtype=int)\n",
    "    for i in range(n):\n",
    "        for j in range(n):\n",
    "            original_index = i * n + j\n",
    "            rotated_index = j * n + (n - 1 - i)\n",
    "            P[rotated_index, original_index] = 1\n",
    "    return torch.tensor(P, dtype=torch.float32)\n",
    "\n",
    "\n",
    "def x_axis_reflection_matrix(n=6):\n",
    "    P = np.zeros((n * n, n * n), dtype=int)\n",
    "    for i in range(n):\n",
    "        for j in range(n):\n",
    "            original_index = i * n + j\n",
    "            reflected_index = (n - 1 - i) * n + j\n",
    "            P[reflected_index, original_index] = 1\n",
    "    return torch.tensor(P, dtype=torch.float32)\n",
    "\n",
    "\n",
    "def y_axis_reflection_matrix(n=6):\n",
    "    P = np.zeros((n * n, n * n), dtype=int)\n",
    "    for i in range(n):\n",
    "        for j in range(n):\n",
    "            original_index = i * n + j\n",
    "            reflected_index = i * n + (n - 1 - j)\n",
    "            P[reflected_index, original_index] = 1\n",
    "    return torch.tensor(P, dtype=torch.float32)\n",
    "\n",
    "\n",
    "P_90 = permutation_matrix_90(2)\n",
    "P_x_reflection = x_axis_reflection_matrix(2)"
   ]
  },
  {
   "cell_type": "code",
   "execution_count": null,
   "metadata": {},
   "outputs": [],
   "source": [
    "def permutation_matrix_90(n=6):\n",
    "    indices = torch.arange(n * n).reshape(n, n)\n",
    "    rotated_indices = indices.rot90(-1).reshape(-1)\n",
    "    perm = torch.eye(n * n, dtype=torch.float32)[rotated_indices]\n",
    "    return perm\n",
    "\n",
    "\n",
    "def y_axis_reflection_matrix(n=6):\n",
    "    indices = torch.arange(n * n).reshape(n, n)\n",
    "    reflected_indices = indices.flip(1).reshape(-1)\n",
    "    perm = torch.eye(n * n, dtype=torch.float32)[reflected_indices]\n",
    "    return perm"
   ]
  },
  {
   "cell_type": "code",
   "execution_count": null,
   "metadata": {},
   "outputs": [],
   "source": [
    "perm = torch.eye(4, dtype=torch.float32)\n",
    "perm_90 = permutation_matrix_90(2)\n",
    "perm_180 = torch.matmul(perm_90, perm_90)\n",
    "perm_270 = torch.matmul(perm_180, perm_90)\n",
    "\n",
    "perm_y_reflection = y_axis_reflection_matrix(2)\n",
    "perm_y_reflection_90 = torch.matmul(perm_y_reflection, perm_90)\n",
    "perm_y_reflection_180 = torch.matmul(perm_y_reflection, perm_180)\n",
    "perm_y_reflection_270 = torch.matmul(perm_y_reflection, perm_270)"
   ]
  },
  {
   "cell_type": "code",
   "execution_count": null,
   "metadata": {},
   "outputs": [],
   "source": [
    "def create_predefine_permutations(n: int):\n",
    "    perm = torch.eye(4, dtype=torch.float32)\n",
    "    perm_90 = permutation_matrix_90(n)\n",
    "    perm_180 = torch.matmul(perm_90, perm_90)\n",
    "    perm_270 = torch.matmul(perm_180, perm_90)\n",
    "\n",
    "    perm_y_reflection = y_axis_reflection_matrix(n)\n",
    "    perm_y_reflection_90 = torch.matmul(perm_y_reflection, perm_90)\n",
    "    perm_y_reflection_180 = torch.matmul(perm_y_reflection, perm_180)\n",
    "    perm_y_reflection_270 = torch.matmul(perm_y_reflection, perm_270)\n",
    "\n",
    "    permutations = torch.stack(\n",
    "        [\n",
    "            perm,\n",
    "            perm_90,\n",
    "            perm_180,\n",
    "            perm_270,\n",
    "            perm_y_reflection,\n",
    "            perm_y_reflection_90,\n",
    "            perm_y_reflection_180,\n",
    "            perm_y_reflection_270,\n",
    "        ]\n",
    "    )\n",
    "    return permutations"
   ]
  },
  {
   "cell_type": "code",
   "execution_count": null,
   "metadata": {},
   "outputs": [],
   "source": [
    "class SimplePermuter(torch.nn.Module):\n",
    "    def __init__(self):\n",
    "        super().__init__()\n",
    "        self.scoring_fc = torch.nn.Linear(2, 8)\n",
    "        predefined_permutations = self.create_predefine_permutations(2)\n",
    "        # Predefined permutation matrices (B, num_permutations, N, N)\n",
    "        self.register_buffer(\"predefined_permutations\", predefined_permutations)\n",
    "\n",
    "    def forward(self, node_features, mask, hard=False, tau=1.0):\n",
    "        # Add noise to break symmetry\n",
    "        node_features = node_features + torch.randn_like(node_features) * 0.05\n",
    "\n",
    "        # Score each permutation option\n",
    "        scores = self.scoring_fc(node_features).mean(dim=1)  # (B, num_permutations)\n",
    "\n",
    "        # Softmax over scores to get probabilities for each permutation\n",
    "        probs = torch.softmax(scores / tau, dim=-1)  # (B, num_permutations)\n",
    "\n",
    "        # Hard selection using Gumbel-Softmax (discrete but differentiable)\n",
    "        one_hot = torch.zeros_like(probs)\n",
    "        one_hot.scatter_(1, probs.argmax(dim=-1, keepdim=True), 1.0)\n",
    "        probs = (one_hot - probs).detach() + probs\n",
    "\n",
    "        # Combine predefined permutations with the probabilities\n",
    "        # Shape: (B, N, N) = (B, num_permutations, N, N) * (B, num_permutations, 1, 1)\n",
    "        # Expand probs to (B, num_permutations, 1, 1) to match (num_permutations, N, N)\n",
    "        probs = probs.unsqueeze(-1).unsqueeze(-1)  # (B, num_permutations, 1, 1)\n",
    "        # Combine predefined permutations with probabilities\n",
    "        # Shape: (B, N, N) = (B, num_permutations, 1, 1) * (num_permutations, N, N) -> sum over 8\n",
    "        perm = torch.sum(probs * self.predefined_permutations, dim=1)  # (B, N, N)\n",
    "\n",
    "        return perm\n",
    "\n",
    "    def _permutation_matrix_90(self, n: int) -> torch.Tensor:\n",
    "        indices = torch.arange(n * n).reshape(n, n)\n",
    "        rotated_indices = indices.rot90(-1).reshape(-1)\n",
    "        perm = torch.eye(n * n, dtype=torch.float32)[rotated_indices]\n",
    "        return perm\n",
    "\n",
    "    def _y_axis_reflection_matrix(self, n: int) -> torch.Tensor:\n",
    "        indices = torch.arange(n * n).reshape(n, n)\n",
    "        reflected_indices = indices.flip(1).reshape(-1)\n",
    "        perm = torch.eye(n * n, dtype=torch.float32)[reflected_indices]\n",
    "        return perm\n",
    "\n",
    "    def create_predefine_permutations(self, n: int) -> torch.Tensor:\n",
    "        perm = torch.eye(n**n, dtype=torch.float32)\n",
    "        perm_90 = self._permutation_matrix_90(n)\n",
    "        perm_180 = torch.matmul(perm_90, perm_90)\n",
    "        perm_270 = torch.matmul(perm_180, perm_90)\n",
    "\n",
    "        perm_y_reflection = self._y_axis_reflection_matrix(n)\n",
    "        perm_y_reflection_90 = torch.matmul(perm_y_reflection, perm_90)\n",
    "        perm_y_reflection_180 = torch.matmul(perm_y_reflection, perm_180)\n",
    "        perm_y_reflection_270 = torch.matmul(perm_y_reflection, perm_270)\n",
    "\n",
    "        permutations = torch.stack(\n",
    "            [\n",
    "                perm,\n",
    "                perm_90,\n",
    "                perm_180,\n",
    "                perm_270,\n",
    "                perm_y_reflection,\n",
    "                perm_y_reflection_90,\n",
    "                perm_y_reflection_180,\n",
    "                perm_y_reflection_270,\n",
    "            ]\n",
    "        )\n",
    "        return permutations\n",
    "\n",
    "    @staticmethod\n",
    "    def permute_node_features(node_features, perm):\n",
    "        \"\"\"Apply the permutation to node features.\"\"\"\n",
    "        return torch.matmul(perm, node_features)"
   ]
  },
  {
   "cell_type": "code",
   "execution_count": null,
   "metadata": {},
   "outputs": [],
   "source": [
    "permuter = SimplePermuter()"
   ]
  },
  {
   "cell_type": "code",
   "execution_count": null,
   "metadata": {},
   "outputs": [],
   "source": [
    "perm = permuter(node_features, mask, hard=True)"
   ]
  },
  {
   "cell_type": "code",
   "execution_count": null,
   "metadata": {},
   "outputs": [],
   "source": [
    "perm = torch.stack([perm_90, perm_180])"
   ]
  },
  {
   "cell_type": "code",
   "execution_count": null,
   "metadata": {},
   "outputs": [
    {
     "data": {
      "text/plain": [
       "tensor([[[ 5.,  6.],\n",
       "         [ 1.,  2.],\n",
       "         [ 7.,  8.],\n",
       "         [ 3.,  4.]],\n",
       "\n",
       "        [[13., 14.],\n",
       "         [11., 12.],\n",
       "         [ 9., 10.],\n",
       "         [ 7.,  8.]]])"
      ]
     },
     "execution_count": 64,
     "metadata": {},
     "output_type": "execute_result"
    }
   ],
   "source": [
    "SimplePermuter.permute_node_features(node_features, perm)"
   ]
  },
  {
   "cell_type": "code",
   "execution_count": null,
   "metadata": {},
   "outputs": [],
   "source": [
    "# 1 2  2 1\n",
    "# 3 4  4 3\n",
    "\n",
    "# 3 1  1 3\n",
    "# 4 2  2 4\n",
    "\n",
    "# 4 3  3 4\n",
    "# 2 1  1 2\n",
    "\n",
    "# 2 4  4 2\n",
    "# 1 3  3 1"
   ]
  },
  {
   "cell_type": "code",
   "execution_count": null,
   "metadata": {},
   "outputs": [
    {
     "data": {
      "text/plain": [
       "tensor([[[ 1.,  2.],\n",
       "         [ 3.,  4.],\n",
       "         [ 5.,  6.],\n",
       "         [ 7.,  8.]],\n",
       "\n",
       "        [[ 7.,  8.],\n",
       "         [ 9., 10.],\n",
       "         [11., 12.],\n",
       "         [13., 14.]]])"
      ]
     },
     "execution_count": 43,
     "metadata": {},
     "output_type": "execute_result"
    }
   ],
   "source": [
    "node_features"
   ]
  },
  {
   "cell_type": "code",
   "execution_count": null,
   "metadata": {},
   "outputs": [
    {
     "data": {
      "text/plain": [
       "tensor([[[ 1.,  2.],\n",
       "         [ 5.,  6.],\n",
       "         [ 3.,  4.],\n",
       "         [ 7.,  8.]],\n",
       "\n",
       "        [[ 7.,  8.],\n",
       "         [11., 12.],\n",
       "         [ 9., 10.],\n",
       "         [13., 14.]]])"
      ]
     },
     "execution_count": 48,
     "metadata": {},
     "output_type": "execute_result"
    }
   ],
   "source": [
    "torch.matmul(perm_y_reflection_90, node_features)"
   ]
  },
  {
   "cell_type": "code",
   "execution_count": null,
   "metadata": {},
   "outputs": [
    {
     "data": {
      "text/plain": [
       "tensor([[[ 1.,  2.],\n",
       "         [ 3.,  4.],\n",
       "         [ 5.,  6.],\n",
       "         [ 7.,  8.]],\n",
       "\n",
       "        [[ 7.,  8.],\n",
       "         [ 9., 10.],\n",
       "         [11., 12.],\n",
       "         [13., 14.]]])"
      ]
     },
     "execution_count": 26,
     "metadata": {},
     "output_type": "execute_result"
    }
   ],
   "source": [
    "node_features"
   ]
  },
  {
   "cell_type": "code",
   "execution_count": null,
   "metadata": {},
   "outputs": [],
   "source": [
    "input_projection = nn.Linear(4, 3 * 4, bias=False)\n",
    "output_projection = nn.Linear(4, 4, bias=False)"
   ]
  },
  {
   "cell_type": "code",
   "execution_count": null,
   "metadata": {},
   "outputs": [],
   "source": [
    "batch_size, num_nodes = x.size(0), x.size(1)\n",
    "projected = input_projection(x)\n",
    "\n",
    "device = x.device\n",
    "\n",
    "q_chunk, k_chunk, v_chunk = torch.chunk(projected, chunks=3, dim=-1)\n",
    "query = q_chunk.view(batch_size, num_nodes, num_nodes, 2, -1).permute(0, 3, 1, 2, 4)\n",
    "key = k_chunk.view(batch_size, num_nodes, num_nodes, 2, -1).permute(0, 3, 2, 1, 4)\n",
    "value = v_chunk.view(batch_size, num_nodes, num_nodes, 2, -1).permute(0, 3, 2, 1, 4)\n",
    "\n",
    "attn_mask = edge_mask\n",
    "# .masked_fill(\n",
    "#     torch.eye(num_nodes, num_nodes, device=device).bool(), 0\n",
    "# )\n",
    "attn_mask = attn_mask.unsqueeze(1).expand(-1, num_nodes, -1, -1)\n",
    "# attn_mask = attn_mask * (\n",
    "#     torch.eye(num_nodes, num_nodes, device=device) == 0\n",
    "# ).bool().unsqueeze(0).unsqueeze(-2).expand(-1, -1, num_nodes, -1)\n",
    "\n",
    "attention_output = scaled_dot_product_attention(\n",
    "    query=query,\n",
    "    key=key,\n",
    "    value=value,\n",
    "    attn_mask=attn_mask,\n",
    "    is_causal=False,\n",
    ")\n",
    "attention_output = attention_output.permute(0, 2, 3, 1, 4).contiguous()\n",
    "output = output_projection(attention_output.transpose(1, 2).flatten(-2))"
   ]
  },
  {
   "cell_type": "code",
   "execution_count": null,
   "metadata": {},
   "outputs": [],
   "source": [
    "node_features = torch.diagonal(output, dim1=1, dim2=2).transpose(1, 2)\n",
    "graph_emb, node_features = node_features[:, 0], node_features[:, 1:]"
   ]
  },
  {
   "cell_type": "code",
   "execution_count": null,
   "metadata": {},
   "outputs": [
    {
     "data": {
      "text/plain": [
       "torch.Size([2, 4, 4])"
      ]
     },
     "execution_count": 31,
     "metadata": {},
     "output_type": "execute_result"
    }
   ],
   "source": [
    "node_features.shape"
   ]
  },
  {
   "cell_type": "code",
   "execution_count": null,
   "metadata": {},
   "outputs": [
    {
     "data": {
      "text/plain": [
       "torch.Size([2, 4])"
      ]
     },
     "execution_count": 32,
     "metadata": {},
     "output_type": "execute_result"
    }
   ],
   "source": [
    "graph_emb.shape"
   ]
  },
  {
   "cell_type": "code",
   "execution_count": null,
   "metadata": {},
   "outputs": [
    {
     "data": {
      "text/plain": [
       "torch.Size([2, 4, 4])"
      ]
     },
     "execution_count": 33,
     "metadata": {},
     "output_type": "execute_result"
    }
   ],
   "source": [
    "node_features.shape"
   ]
  },
  {
   "cell_type": "code",
   "execution_count": null,
   "metadata": {},
   "outputs": [
    {
     "data": {
      "text/plain": [
       "torch.Size([2, 5, 5, 4])"
      ]
     },
     "execution_count": 214,
     "metadata": {},
     "output_type": "execute_result"
    }
   ],
   "source": [
    "node_features_combined.shape"
   ]
  },
  {
   "cell_type": "code",
   "execution_count": null,
   "metadata": {},
   "outputs": [
    {
     "data": {
      "text/plain": [
       "torch.Size([2, 2, 5, 5, 5])"
      ]
     },
     "execution_count": 217,
     "metadata": {},
     "output_type": "execute_result"
    }
   ],
   "source": [
    "attn_weight.shape"
   ]
  },
  {
   "cell_type": "code",
   "execution_count": null,
   "metadata": {},
   "outputs": [
    {
     "data": {
      "text/plain": [
       "torch.Size([2, 2, 5, 5, 2])"
      ]
     },
     "execution_count": 212,
     "metadata": {},
     "output_type": "execute_result"
    }
   ],
   "source": [
    "query.shape"
   ]
  },
  {
   "cell_type": "code",
   "execution_count": null,
   "metadata": {},
   "outputs": [
    {
     "data": {
      "text/plain": [
       "tensor([[[-inf, 0., 0., 0., 0.],\n",
       "         [-inf, -inf, 0., 0., 0.],\n",
       "         [-inf, 0., -inf, 0., 0.],\n",
       "         [-inf, 0., 0., -inf, 0.],\n",
       "         [-inf, 0., 0., 0., -inf]],\n",
       "\n",
       "        [[-inf, -inf, 0., 0., 0.],\n",
       "         [0., -inf, 0., 0., 0.],\n",
       "         [0., -inf, -inf, 0., 0.],\n",
       "         [0., -inf, 0., -inf, 0.],\n",
       "         [0., -inf, 0., 0., -inf]],\n",
       "\n",
       "        [[-inf, 0., -inf, 0., 0.],\n",
       "         [0., -inf, -inf, 0., 0.],\n",
       "         [0., 0., -inf, 0., 0.],\n",
       "         [0., 0., -inf, -inf, 0.],\n",
       "         [0., 0., -inf, 0., -inf]],\n",
       "\n",
       "        [[-inf, 0., 0., -inf, 0.],\n",
       "         [0., -inf, 0., -inf, 0.],\n",
       "         [0., 0., -inf, -inf, 0.],\n",
       "         [0., 0., 0., -inf, 0.],\n",
       "         [0., 0., 0., -inf, -inf]],\n",
       "\n",
       "        [[-inf, 0., 0., 0., -inf],\n",
       "         [0., -inf, 0., 0., -inf],\n",
       "         [0., 0., -inf, 0., -inf],\n",
       "         [0., 0., 0., -inf, -inf],\n",
       "         [0., 0., 0., 0., -inf]]])"
      ]
     },
     "execution_count": 207,
     "metadata": {},
     "output_type": "execute_result"
    }
   ],
   "source": [
    "attn_bias[0][0]"
   ]
  },
  {
   "cell_type": "code",
   "execution_count": null,
   "metadata": {},
   "outputs": [
    {
     "data": {
      "text/plain": [
       "torch.Size([2, 5, 5, 12])"
      ]
     },
     "execution_count": 175,
     "metadata": {},
     "output_type": "execute_result"
    }
   ],
   "source": [
    "projected.shape"
   ]
  },
  {
   "cell_type": "code",
   "execution_count": null,
   "metadata": {},
   "outputs": [
    {
     "data": {
      "text/plain": [
       "PosixPath('/Users/tomeknocon/MIM/Master_Thesis/IMMUVIS-PIGVAE')"
      ]
     },
     "execution_count": 95,
     "metadata": {},
     "output_type": "execute_result"
    }
   ],
   "source": [
    "import os\n",
    "import rootutils\n",
    "\n",
    "rootutils.setup_root(os.getcwd(), indicator=\".project-root\", pythonpath=True)"
   ]
  },
  {
   "cell_type": "code",
   "execution_count": null,
   "metadata": {},
   "outputs": [],
   "source": [
    "from torchvision import transforms\n",
    "import torch\n",
    "from src.data.components.graphs_datamodules import (\n",
    "    SplitPatches,\n",
    ")\n",
    "from src.data.mnist_datamodule import MNISTDataModule"
   ]
  },
  {
   "cell_type": "code",
   "execution_count": null,
   "metadata": {},
   "outputs": [],
   "source": []
  },
  {
   "cell_type": "code",
   "execution_count": null,
   "metadata": {},
   "outputs": [],
   "source": [
    "from torchvision.datasets import MNIST\n",
    "from torch.utils.data import ConcatDataset, Dataset, random_split\n",
    "\n",
    "transform = transforms.Compose(\n",
    "    [\n",
    "        transforms.ToTensor(),\n",
    "        transforms.Normalize((0.1307,), (0.3081,)),\n",
    "        transforms.Resize((24, 24)),\n",
    "        transforms.Lambda(lambda x: x.unsqueeze(0)),\n",
    "        SplitPatches(4),\n",
    "    ]\n",
    ")\n",
    "\n",
    "trainset = MNIST(\"../data\", train=True, transform=transform)\n",
    "testset = MNIST(\"../data\", train=False, transform=transform)\n",
    "dataset = ConcatDataset(datasets=[trainset, testset])"
   ]
  },
  {
   "cell_type": "code",
   "execution_count": null,
   "metadata": {},
   "outputs": [],
   "source": [
    "data_train, data_val, data_test = random_split(\n",
    "    dataset=dataset,\n",
    "    lengths=[100, 10, 69890],\n",
    "    generator=torch.Generator().manual_seed(42),\n",
    ")"
   ]
  },
  {
   "cell_type": "code",
   "execution_count": null,
   "metadata": {},
   "outputs": [],
   "source": [
    "import networkx as nx\n",
    "\n",
    "\n",
    "class GridGraphDataset(Dataset):\n",
    "    def __init__(\n",
    "        self,\n",
    "        dataset,\n",
    "        grid_size: int,\n",
    "        channels,\n",
    "    ):\n",
    "        self.grid_size = grid_size\n",
    "        self.dataset = dataset\n",
    "        self.channels = channels\n",
    "\n",
    "    def __len__(self):\n",
    "        return len(self.dataset)\n",
    "\n",
    "    def __getitem__(self, idx):\n",
    "        g = nx.grid_graph((self.grid_size, self.grid_size))\n",
    "        img = self.dataset[idx][0].to(torch.float32)\n",
    "        target = self.dataset[idx][1]\n",
    "        return (g, img, target)"
   ]
  },
  {
   "cell_type": "code",
   "execution_count": null,
   "metadata": {},
   "outputs": [],
   "source": [
    "d = GridGraphDataset(data_train, 6, [0])"
   ]
  },
  {
   "cell_type": "code",
   "execution_count": null,
   "metadata": {},
   "outputs": [],
   "source": [
    "m = MNISTDataModule(\"../data\", [100, 10, 69890], 32, 1)"
   ]
  },
  {
   "cell_type": "code",
   "execution_count": null,
   "metadata": {},
   "outputs": [],
   "source": [
    "m.setup()\n",
    "t = m.train_dataloader()"
   ]
  },
  {
   "cell_type": "code",
   "execution_count": null,
   "metadata": {},
   "outputs": [],
   "source": [
    "batches = [el for el in t]"
   ]
  },
  {
   "cell_type": "code",
   "execution_count": null,
   "metadata": {},
   "outputs": [
    {
     "data": {
      "text/plain": [
       "DenseGraphBatch(edge_features=[0], mask=[32, 36], node_features=[32, 36, 16], properties=[32], y=[32])"
      ]
     },
     "execution_count": 108,
     "metadata": {},
     "output_type": "execute_result"
    }
   ],
   "source": [
    "batches[0]"
   ]
  },
  {
   "cell_type": "code",
   "execution_count": null,
   "metadata": {},
   "outputs": [],
   "source": [
    "from dataclasses import dataclass\n",
    "import os\n",
    "\n",
    "DEFAULT_SAVE_DIR = os.path.join(os.getcwd())\n",
    "\n",
    "\n",
    "@dataclass\n",
    "class Params:\n",
    "    id: int = 0\n",
    "    num_epochs: int = 10\n",
    "    num_eval_samples: int = 8192\n",
    "    eval_freq: int = 1000\n",
    "    save_dir: str = DEFAULT_SAVE_DIR\n",
    "    precision: int = 32\n",
    "    progress_bar: bool = True\n",
    "    test: bool = False\n",
    "    resume_ckpt: str = \"\"\n",
    "    batch_size: int = 32\n",
    "    lr: float = 0.0005\n",
    "    kld_loss_scale: float = 0.001\n",
    "    perm_loss_scale: float = 0.5\n",
    "    property_loss_scale: float = 0.1\n",
    "    vae: bool = True\n",
    "    num_node_features: int = 16\n",
    "    num_edge_features: int = 0\n",
    "    emb_dim: int = 16\n",
    "    grid_size: int = 6\n",
    "    graph_encoder_hidden_dim: int = 32\n",
    "    graph_encoder_k_dim: int = 8\n",
    "    graph_encoder_v_dim: int = 8\n",
    "    graph_encoder_num_heads: int = 2\n",
    "    graph_encoder_ppf_hidden_dim: int = 128\n",
    "    graph_encoder_num_layers: int = 4\n",
    "    graph_decoder_hidden_dim: int = 32\n",
    "    graph_decoder_k_dim: int = 8\n",
    "    graph_decoder_v_dim: int = 8\n",
    "    graph_decoder_num_heads: int = 2\n",
    "    graph_decoder_ppf_hidden_dim: int = 128\n",
    "    graph_decoder_pos_emb_dim: int = 8\n",
    "    graph_decoder_num_layers: int = 4\n",
    "    property_predictor_hidden_dim: int = 32\n",
    "    num_properties: int = 1\n",
    "    num_workers: int = 1\n",
    "    shuffle: int = 1\n",
    "    graph_family: str = \"grid\"\n",
    "    n_min: int = 12\n",
    "    n_max: int = 20\n",
    "    p_min: float = 0.4\n",
    "    p_max: float = 0.6\n",
    "    m_min: int = 1\n",
    "    m_max: int = 5\n",
    "\n",
    "\n",
    "# Example usage\n",
    "hparams = Params()\n",
    "\n",
    "# Convert to dictionary\n",
    "# params_dict = asdict(hparams)\n",
    "\n",
    "# print(params_dict)"
   ]
  },
  {
   "cell_type": "code",
   "execution_count": null,
   "metadata": {},
   "outputs": [
    {
     "ename": "ModuleNotFoundError",
     "evalue": "No module named 'models'",
     "output_type": "error",
     "traceback": [
      "\u001b[0;31m---------------------------------------------------------------------------\u001b[0m",
      "\u001b[0;31mModuleNotFoundError\u001b[0m                       Traceback (most recent call last)",
      "Cell \u001b[0;32mIn[26], line 1\u001b[0m\n\u001b[0;32m----> 1\u001b[0m \u001b[38;5;28;01mfrom\u001b[39;00m \u001b[38;5;21;01mmodels\u001b[39;00m\u001b[38;5;21;01m.\u001b[39;00m\u001b[38;5;21;01mcomponents\u001b[39;00m\u001b[38;5;21;01m.\u001b[39;00m\u001b[38;5;21;01mmodel\u001b[39;00m \u001b[38;5;28;01mimport\u001b[39;00m Critic\n\u001b[1;32m      2\u001b[0m \u001b[38;5;28;01mfrom\u001b[39;00m \u001b[38;5;21;01mmodels\u001b[39;00m\u001b[38;5;21;01m.\u001b[39;00m\u001b[38;5;21;01mpigvae_auto_module\u001b[39;00m \u001b[38;5;28;01mimport\u001b[39;00m PLGraphAE\n",
      "\u001b[0;31mModuleNotFoundError\u001b[0m: No module named 'models'"
     ]
    }
   ],
   "source": []
  },
  {
   "cell_type": "code",
   "execution_count": null,
   "metadata": {},
   "outputs": [],
   "source": [
    "import sys\n",
    "import os\n",
    "import torch\n",
    "\n",
    "# Add root directory to sys.path\n",
    "sys.path.append(os.path.abspath(\"../src\"))"
   ]
  },
  {
   "cell_type": "code",
   "execution_count": null,
   "metadata": {},
   "outputs": [],
   "source": [
    "import sys\n",
    "import os\n",
    "import torch\n",
    "\n",
    "# Add root directory to sys.path\n",
    "sys.path.append(os.path.abspath(\"../\"))"
   ]
  },
  {
   "cell_type": "code",
   "execution_count": null,
   "metadata": {},
   "outputs": [],
   "source": [
    "import hydra\n",
    "from omegaconf import OmegaConf"
   ]
  },
  {
   "cell_type": "code",
   "execution_count": null,
   "metadata": {},
   "outputs": [
    {
     "name": "stderr",
     "output_type": "stream",
     "text": [
      "/Users/tomeknocon/MIM/Master_Thesis/IMMUVIS-PIGVAE/src/models/components/spectral_embeddings.py:41: UserWarning: Creating a tensor from a list of numpy.ndarrays is extremely slow. Please consider converting the list to a single numpy.ndarray with numpy.array() before converting to a tensor. (Triggered internally at /Users/runner/work/pytorch/pytorch/pytorch/torch/csrc/utils/tensor_new.cpp:278.)\n",
      "  sorted_eigenvecs = torch.tensor(\n",
      "/Users/tomeknocon/opt/anaconda3/envs/pigvae/lib/python3.8/site-packages/torch/nn/init.py:452: UserWarning: Initializing zero-element tensors is a no-op\n",
      "  warnings.warn(\"Initializing zero-element tensors is a no-op\")\n",
      "/Users/tomeknocon/opt/anaconda3/envs/pigvae/lib/python3.8/site-packages/lightning/pytorch/utilities/parsing.py:208: Attribute 'critic' is an instance of `nn.Module` and is already saved during checkpointing. It is recommended to ignore them using `self.save_hyperparameters(ignore=['critic'])`.\n",
      "/Users/tomeknocon/opt/anaconda3/envs/pigvae/lib/python3.8/site-packages/lightning/pytorch/utilities/parsing.py:208: Attribute 'graph_ae' is an instance of `nn.Module` and is already saved during checkpointing. It is recommended to ignore them using `self.save_hyperparameters(ignore=['graph_ae'])`.\n"
     ]
    }
   ],
   "source": [
    "cfg = OmegaConf.load(\"../configs/model/model.yaml\")\n",
    "model = hydra.utils.instantiate(cfg)"
   ]
  },
  {
   "cell_type": "code",
   "execution_count": null,
   "metadata": {},
   "outputs": [
    {
     "data": {
      "text/plain": [
       "PLGraphAE(\n",
       "  (graph_ae): GraphAE(\n",
       "    (encoder): GraphEncoder(\n",
       "      (posiotional_embedding): PositionalEncoding()\n",
       "      (graph_transformer): Transformer(\n",
       "        (blocks): ModuleList(\n",
       "          (0-3): 4 x TransformerBlock(\n",
       "            (attention_layer): SelfAttention(\n",
       "              (layer_norm): LayerNorm((32,), eps=1e-05, elementwise_affine=True)\n",
       "              (input_projection): Linear(in_features=32, out_features=96, bias=False)\n",
       "              (output_projection): Linear(in_features=32, out_features=32, bias=False)\n",
       "              (dropout): Dropout(p=0.1, inplace=False)\n",
       "            )\n",
       "            (feed_forward_layer): Sequential(\n",
       "              (ff_layernorm): LayerNorm((32,), eps=1e-05, elementwise_affine=True)\n",
       "              (pre_relu): Linear(in_features=32, out_features=128, bias=True)\n",
       "              (relu): ReLU()\n",
       "              (post_relu): Linear(in_features=128, out_features=32, bias=True)\n",
       "              (dropout): Dropout(p=0.1, inplace=False)\n",
       "            )\n",
       "          )\n",
       "        )\n",
       "      )\n",
       "      (fc_in): Linear(in_features=34, out_features=32, bias=True)\n",
       "      (layer_norm): LayerNorm((32,), eps=1e-05, elementwise_affine=True)\n",
       "      (dropout): Dropout(p=0.1, inplace=False)\n",
       "      (spectral_embeddings): NetworkXSpectralEmbedding(\n",
       "        (dropout): Dropout(p=0.1, inplace=False)\n",
       "      )\n",
       "    )\n",
       "    (bottle_neck_encoder): BottleNeckEncoder(\n",
       "      (w): Linear(in_features=32, out_features=32, bias=True)\n",
       "    )\n",
       "    (bottle_neck_decoder): BottleNeckDecoder(\n",
       "      (w): Linear(in_features=16, out_features=32, bias=True)\n",
       "    )\n",
       "    (property_predictor): PropertyPredictor(\n",
       "      (w_1): Linear(in_features=16, out_features=32, bias=True)\n",
       "      (w_2): Linear(in_features=32, out_features=32, bias=True)\n",
       "      (w_3): Linear(in_features=32, out_features=1, bias=True)\n",
       "      (layer_norm1): LayerNorm((32,), eps=1e-05, elementwise_affine=True)\n",
       "      (layer_norm2): LayerNorm((32,), eps=1e-05, elementwise_affine=True)\n",
       "      (dropout): Dropout(p=0.1, inplace=False)\n",
       "    )\n",
       "    (permuter): Permuter(\n",
       "      (scoring_fc): Linear(in_features=32, out_features=1, bias=True)\n",
       "    )\n",
       "    (decoder): GraphDecoder(\n",
       "      (posiotional_embedding): PositionalEncoding()\n",
       "      (graph_transformer): Transformer(\n",
       "        (blocks): ModuleList(\n",
       "          (0-3): 4 x TransformerBlock(\n",
       "            (attention_layer): SelfAttention(\n",
       "              (layer_norm): LayerNorm((32,), eps=1e-05, elementwise_affine=True)\n",
       "              (input_projection): Linear(in_features=32, out_features=96, bias=False)\n",
       "              (output_projection): Linear(in_features=32, out_features=32, bias=False)\n",
       "              (dropout): Dropout(p=0.1, inplace=False)\n",
       "            )\n",
       "            (feed_forward_layer): Sequential(\n",
       "              (ff_layernorm): LayerNorm((32,), eps=1e-05, elementwise_affine=True)\n",
       "              (pre_relu): Linear(in_features=32, out_features=128, bias=True)\n",
       "              (relu): ReLU()\n",
       "              (post_relu): Linear(in_features=128, out_features=32, bias=True)\n",
       "              (dropout): Dropout(p=0.1, inplace=False)\n",
       "            )\n",
       "          )\n",
       "        )\n",
       "      )\n",
       "      (fc_in): Linear(in_features=64, out_features=32, bias=True)\n",
       "      (node_fc_out): Linear(in_features=32, out_features=16, bias=True)\n",
       "      (edge_fc_out): Linear(in_features=32, out_features=0, bias=True)\n",
       "      (dropout): Dropout(p=0.1, inplace=False)\n",
       "      (layer_norm): LayerNorm((32,), eps=1e-05, elementwise_affine=True)\n",
       "    )\n",
       "  )\n",
       "  (critic): Critic(\n",
       "    (reconstruction_loss): GraphReconstructionLoss(\n",
       "      (node_loss): MSELoss()\n",
       "    )\n",
       "    (perm_loss): PermutaionMatrixPenalty()\n",
       "    (property_loss): PropertyLoss(\n",
       "      (mse_loss): MSELoss()\n",
       "    )\n",
       "    (kld_loss): KLDLoss()\n",
       "  )\n",
       ")"
      ]
     },
     "execution_count": 68,
     "metadata": {},
     "output_type": "execute_result"
    }
   ],
   "source": [
    "model.load_state_dict(\n",
    "    torch.load(\"../logs/train/runs/2025-02-21_00-38-31/checkpoints/last.ckpt\")[\n",
    "        \"state_dict\"\n",
    "    ]\n",
    ")\n",
    "model.eval()"
   ]
  },
  {
   "cell_type": "code",
   "execution_count": null,
   "metadata": {},
   "outputs": [],
   "source": [
    "a = [4, 5, 6]"
   ]
  },
  {
   "cell_type": "code",
   "execution_count": null,
   "metadata": {},
   "outputs": [
    {
     "data": {
      "text/plain": [
       "[4, 5, 6]"
      ]
     },
     "execution_count": 19,
     "metadata": {},
     "output_type": "execute_result"
    }
   ],
   "source": [
    "a"
   ]
  },
  {
   "cell_type": "code",
   "execution_count": null,
   "metadata": {},
   "outputs": [],
   "source": [
    "a.clear()"
   ]
  },
  {
   "cell_type": "code",
   "execution_count": null,
   "metadata": {},
   "outputs": [
    {
     "data": {
      "text/plain": [
       "[]"
      ]
     },
     "execution_count": 21,
     "metadata": {},
     "output_type": "execute_result"
    }
   ],
   "source": [
    "a"
   ]
  },
  {
   "cell_type": "code",
   "execution_count": null,
   "metadata": {},
   "outputs": [
    {
     "data": {
      "text/plain": [
       "torch.Size([32, 36, 16])"
      ]
     },
     "execution_count": 17,
     "metadata": {},
     "output_type": "execute_result"
    }
   ],
   "source": [
    "batches[0].node_features.shape"
   ]
  },
  {
   "cell_type": "code",
   "execution_count": null,
   "metadata": {},
   "outputs": [],
   "source": [
    "b = model(batches[-2], False)"
   ]
  },
  {
   "cell_type": "code",
   "execution_count": null,
   "metadata": {},
   "outputs": [],
   "source": [
    "from src.models.components.losses import GraphReconstructionLoss"
   ]
  },
  {
   "cell_type": "code",
   "execution_count": null,
   "metadata": {},
   "outputs": [
    {
     "data": {
      "text/plain": [
       "{'node_loss': tensor(0.4534, grad_fn=<MseLossBackward0>),\n",
       " 'loss': tensor(0.4534, grad_fn=<MseLossBackward0>)}"
      ]
     },
     "execution_count": 89,
     "metadata": {},
     "output_type": "execute_result"
    }
   ],
   "source": [
    "gpl = GraphReconstructionLoss()\n",
    "\n",
    "\n",
    "gpl(batches[-2], b[0])"
   ]
  },
  {
   "cell_type": "code",
   "execution_count": null,
   "metadata": {},
   "outputs": [
    {
     "data": {
      "text/plain": [
       "tensor([[[-0.4242, -0.4242, -0.4242,  ..., -0.4242, -0.4242, -0.4242],\n",
       "         [-0.4242, -0.4242, -0.4242,  ..., -0.4242, -0.4242, -0.4242],\n",
       "         [-0.4242, -0.4242, -0.4242,  ..., -0.4242, -0.4242, -0.4242],\n",
       "         ...,\n",
       "         [ 2.3243,  2.7960,  2.4508,  ...,  0.1266, -0.1642, -0.4086],\n",
       "         [-0.4242, -0.4242, -0.4242,  ..., -0.4242, -0.4242, -0.4242],\n",
       "         [-0.4242, -0.4242, -0.4242,  ..., -0.4242, -0.4242, -0.4242]],\n",
       "\n",
       "        [[-0.4242, -0.4242, -0.4242,  ..., -0.4242, -0.4242, -0.4242],\n",
       "         [-0.4242, -0.4242, -0.4242,  ..., -0.4242, -0.4242, -0.4242],\n",
       "         [-0.4242, -0.4242, -0.4242,  ..., -0.4242, -0.4242, -0.4242],\n",
       "         ...,\n",
       "         [ 1.4401,  1.4438,  1.4389,  ..., -0.4242, -0.4242, -0.4242],\n",
       "         [ 0.7069,  0.0601, -0.3897,  ..., -0.4242, -0.4242, -0.4242],\n",
       "         [-0.4242, -0.4242, -0.4242,  ..., -0.4242, -0.4242, -0.4242]],\n",
       "\n",
       "        [[-0.4242, -0.4242, -0.4242,  ..., -0.4242, -0.4242, -0.4242],\n",
       "         [-0.4242, -0.4242, -0.4242,  ..., -0.4242, -0.4242, -0.4242],\n",
       "         [-0.4242, -0.4242, -0.4242,  ..., -0.4242, -0.4242, -0.4242],\n",
       "         ...,\n",
       "         [ 2.7960,  2.8000,  2.5864,  ..., -0.4242, -0.4242, -0.4242],\n",
       "         [-0.2291, -0.4242, -0.4242,  ..., -0.4242, -0.4242, -0.4242],\n",
       "         [-0.4242, -0.4242, -0.4242,  ..., -0.4242, -0.4242, -0.4242]],\n",
       "\n",
       "        ...,\n",
       "\n",
       "        [[-0.4242, -0.4242, -0.4242,  ..., -0.4242, -0.4242, -0.4242],\n",
       "         [-0.4242, -0.4242, -0.4242,  ..., -0.4242, -0.4242, -0.4242],\n",
       "         [-0.4242, -0.4242, -0.4242,  ..., -0.4242, -0.4242, -0.4242],\n",
       "         ...,\n",
       "         [ 2.5336,  0.8999, -0.4242,  ..., -0.4242, -0.4242, -0.4242],\n",
       "         [-0.4242, -0.4242, -0.4242,  ..., -0.4242, -0.4242, -0.4242],\n",
       "         [-0.4242, -0.4242, -0.4242,  ..., -0.4242, -0.4242, -0.4242]],\n",
       "\n",
       "        [[-0.4242, -0.4242, -0.4242,  ..., -0.4242, -0.4242, -0.4242],\n",
       "         [-0.4242, -0.4242, -0.4242,  ..., -0.4242, -0.4242, -0.4242],\n",
       "         [-0.4242, -0.4242, -0.4242,  ..., -0.4242, -0.4242, -0.4242],\n",
       "         ...,\n",
       "         [ 0.0855, -0.4242, -0.4242,  ..., -0.4242, -0.4242, -0.4242],\n",
       "         [-0.4242, -0.4242, -0.4242,  ..., -0.4242, -0.4242, -0.4242],\n",
       "         [-0.4242, -0.4242, -0.4242,  ..., -0.4242, -0.4242, -0.4242]],\n",
       "\n",
       "        [[-0.4242, -0.4242, -0.4242,  ..., -0.4242, -0.4242, -0.4242],\n",
       "         [-0.4242, -0.4242, -0.4242,  ..., -0.4242, -0.4242, -0.4242],\n",
       "         [-0.4242, -0.4242, -0.4242,  ..., -0.3839, -0.3378,  0.3646],\n",
       "         ...,\n",
       "         [ 0.4354, -0.0622, -0.3839,  ..., -0.4242, -0.4242, -0.4242],\n",
       "         [-0.4242, -0.4242, -0.4242,  ..., -0.4242, -0.4242, -0.4242],\n",
       "         [-0.4242, -0.4242, -0.4242,  ..., -0.4242, -0.4242, -0.4242]]])"
      ]
     },
     "execution_count": 93,
     "metadata": {},
     "output_type": "execute_result"
    }
   ],
   "source": [
    "batches[-2].node_features"
   ]
  },
  {
   "cell_type": "code",
   "execution_count": null,
   "metadata": {},
   "outputs": [
    {
     "data": {
      "text/plain": [
       "tensor(-0.6641, grad_fn=<DivBackward0>)"
      ]
     },
     "execution_count": 97,
     "metadata": {},
     "output_type": "execute_result"
    }
   ],
   "source": [
    "(b[0].node_features - batches[-2].node_features).sum()"
   ]
  },
  {
   "cell_type": "code",
   "execution_count": null,
   "metadata": {},
   "outputs": [],
   "source": [
    "import torch\n",
    "import torch.nn as nn"
   ]
  },
  {
   "cell_type": "code",
   "execution_count": null,
   "metadata": {},
   "outputs": [],
   "source": [
    "a = torch.randn(32, 36, 16)\n",
    "\n",
    "linear = nn.Linear(16, 128)\n",
    "\n",
    "a = linear(a)"
   ]
  },
  {
   "cell_type": "code",
   "execution_count": null,
   "metadata": {},
   "outputs": [],
   "source": [
    "import networkx as nx\n",
    "\n",
    "\n",
    "class NetworkXSpectralEmbedding(nn.Module):\n",
    "    def __init__(self, d_model: int, grid_size: int, dropout: float = 0.1):\n",
    "        super().__init__()\n",
    "        self.dropout = nn.Dropout(p=dropout)\n",
    "        self.G = nx.grid_2d_graph(grid_size, grid_size)\n",
    "        sorted_eigenvecs = torch.tensor(\n",
    "            np.stack(list(nx.spectral_layout(self.G, dim=d_model).values())),\n",
    "            dtype=torch.float32,\n",
    "        )\n",
    "\n",
    "        self.register_buffer(\"sorted_eigenvecs\", sorted_eigenvecs)\n",
    "\n",
    "    def forward(self, x: torch.Tensor) -> torch.Tensor:\n",
    "        batch, _, _ = x.shape\n",
    "        embbeding = torch.tile(self.sorted_eigenvecs, (batch, 1, 1))\n",
    "        print(embbeding.shape)\n",
    "        x = x + embbeding\n",
    "        return self.dropout(x)"
   ]
  },
  {
   "cell_type": "code",
   "execution_count": null,
   "metadata": {},
   "outputs": [
    {
     "ename": "ValueError",
     "evalue": "operands could not be broadcast together with shapes (36,35) (128,) ",
     "output_type": "error",
     "traceback": [
      "\u001b[0;31m---------------------------------------------------------------------------\u001b[0m",
      "\u001b[0;31mValueError\u001b[0m                                Traceback (most recent call last)",
      "Cell \u001b[0;32mIn[50], line 1\u001b[0m\n\u001b[0;32m----> 1\u001b[0m a \u001b[38;5;241m=\u001b[39m \u001b[43mNetworkXSpectralEmbedding\u001b[49m\u001b[43m(\u001b[49m\u001b[38;5;241;43m128\u001b[39;49m\u001b[43m,\u001b[49m\u001b[43m \u001b[49m\u001b[38;5;241;43m6\u001b[39;49m\u001b[43m)\u001b[49m\n",
      "Cell \u001b[0;32mIn[46], line 10\u001b[0m, in \u001b[0;36mNetworkXSpectralEmbedding.__init__\u001b[0;34m(self, d_model, grid_size, dropout)\u001b[0m\n\u001b[1;32m      7\u001b[0m \u001b[38;5;28mself\u001b[39m\u001b[38;5;241m.\u001b[39mdropout \u001b[38;5;241m=\u001b[39m nn\u001b[38;5;241m.\u001b[39mDropout(p\u001b[38;5;241m=\u001b[39mdropout)\n\u001b[1;32m      8\u001b[0m \u001b[38;5;28mself\u001b[39m\u001b[38;5;241m.\u001b[39mG \u001b[38;5;241m=\u001b[39m nx\u001b[38;5;241m.\u001b[39mgrid_2d_graph(grid_size, grid_size)\n\u001b[1;32m      9\u001b[0m sorted_eigenvecs \u001b[38;5;241m=\u001b[39m torch\u001b[38;5;241m.\u001b[39mtensor(\n\u001b[0;32m---> 10\u001b[0m     np\u001b[38;5;241m.\u001b[39mstack(\u001b[38;5;28mlist\u001b[39m(\u001b[43mnx\u001b[49m\u001b[38;5;241;43m.\u001b[39;49m\u001b[43mspectral_layout\u001b[49m\u001b[43m(\u001b[49m\u001b[38;5;28;43mself\u001b[39;49m\u001b[38;5;241;43m.\u001b[39;49m\u001b[43mG\u001b[49m\u001b[43m,\u001b[49m\u001b[43m \u001b[49m\u001b[43mdim\u001b[49m\u001b[38;5;241;43m=\u001b[39;49m\u001b[43md_model\u001b[49m\u001b[43m)\u001b[49m\u001b[38;5;241m.\u001b[39mvalues())), dtype\u001b[38;5;241m=\u001b[39mtorch\u001b[38;5;241m.\u001b[39mfloat32\n\u001b[1;32m     11\u001b[0m )\n\u001b[1;32m     13\u001b[0m \u001b[38;5;28mself\u001b[39m\u001b[38;5;241m.\u001b[39mregister_buffer(\u001b[38;5;124m\"\u001b[39m\u001b[38;5;124msorted_eigenvecs\u001b[39m\u001b[38;5;124m\"\u001b[39m, sorted_eigenvecs)\n",
      "File \u001b[0;32m~/opt/anaconda3/envs/pigvae/lib/python3.8/site-packages/networkx/drawing/layout.py:838\u001b[0m, in \u001b[0;36mspectral_layout\u001b[0;34m(G, weight, scale, center, dim)\u001b[0m\n\u001b[1;32m    835\u001b[0m         A \u001b[38;5;241m+\u001b[39m\u001b[38;5;241m=\u001b[39m A\u001b[38;5;241m.\u001b[39mT\n\u001b[1;32m    836\u001b[0m     pos \u001b[38;5;241m=\u001b[39m _spectral(A, dim)\n\u001b[0;32m--> 838\u001b[0m pos \u001b[38;5;241m=\u001b[39m \u001b[43mrescale_layout\u001b[49m\u001b[43m(\u001b[49m\u001b[43mpos\u001b[49m\u001b[43m,\u001b[49m\u001b[43m \u001b[49m\u001b[43mscale\u001b[49m\u001b[38;5;241;43m=\u001b[39;49m\u001b[43mscale\u001b[49m\u001b[43m)\u001b[49m\u001b[43m \u001b[49m\u001b[38;5;241;43m+\u001b[39;49m\u001b[43m \u001b[49m\u001b[43mcenter\u001b[49m\n\u001b[1;32m    839\u001b[0m pos \u001b[38;5;241m=\u001b[39m \u001b[38;5;28mdict\u001b[39m(\u001b[38;5;28mzip\u001b[39m(G, pos))\n\u001b[1;32m    840\u001b[0m \u001b[38;5;28;01mreturn\u001b[39;00m pos\n",
      "\u001b[0;31mValueError\u001b[0m: operands could not be broadcast together with shapes (36,35) (128,) "
     ]
    }
   ],
   "source": [
    "a = NetworkXSpectralEmbedding(128, 6)"
   ]
  },
  {
   "cell_type": "code",
   "execution_count": null,
   "metadata": {},
   "outputs": [],
   "source": [
    "b = torch.randn(32, 36, 128)"
   ]
  },
  {
   "cell_type": "code",
   "execution_count": null,
   "metadata": {},
   "outputs": [
    {
     "name": "stdout",
     "output_type": "stream",
     "text": [
      "torch.Size([32, 36, 14])\n"
     ]
    },
    {
     "data": {
      "text/plain": [
       "torch.Size([32, 36, 14])"
      ]
     },
     "execution_count": 49,
     "metadata": {},
     "output_type": "execute_result"
    }
   ],
   "source": [
    "a(b).shape"
   ]
  },
  {
   "cell_type": "code",
   "execution_count": null,
   "metadata": {},
   "outputs": [],
   "source": [
    "def mse(image1, image2):\n",
    "    \"\"\"\n",
    "    Compute the Mean Squared Error between two single-channel images.\n",
    "\n",
    "    Args:\n",
    "        image1 (numpy.ndarray): First grayscale image.\n",
    "        image2 (numpy.ndarray): Second grayscale image.\n",
    "\n",
    "    Returns:\n",
    "        float: The Mean Squared Error.\n",
    "    \"\"\"\n",
    "    # Check if both images have the same shape\n",
    "    if image1.shape != image2.shape:\n",
    "        raise ValueError(\"Images must have the same dimensions\")\n",
    "\n",
    "    # Compute the squared differences\n",
    "    squared_diff = (image1 - image2) ** 2\n",
    "\n",
    "    # Calculate MSE\n",
    "    mse_value = torch.mean(squared_diff)\n",
    "    return mse_value"
   ]
  },
  {
   "cell_type": "code",
   "execution_count": null,
   "metadata": {},
   "outputs": [
    {
     "data": {
      "text/plain": [
       "tensor([[[-0.5440, -0.4148, -0.3804,  ..., -0.4201, -0.5129, -0.3170],\n",
       "         [-0.6075, -0.3967, -0.4742,  ..., -0.4418, -0.5977, -0.4123],\n",
       "         [-0.4829, -0.4074, -0.4939,  ..., -0.3531, -0.4312, -0.4726],\n",
       "         ...,\n",
       "         [ 0.9148,  1.6158,  1.7351,  ...,  1.7829,  1.3208,  0.8090],\n",
       "         [-0.3979, -0.4019, -0.2883,  ..., -0.2926, -0.3526, -0.3601],\n",
       "         [-0.4589, -0.4015, -0.5237,  ..., -0.3733, -0.4550, -0.4852]],\n",
       "\n",
       "        [[-0.3329, -0.4453, -0.4062,  ..., -0.3111, -0.3978, -0.3099],\n",
       "         [-0.4433, -0.3668, -0.3822,  ..., -0.3199, -0.3469, -0.3696],\n",
       "         [-0.5160, -0.3700, -0.5476,  ..., -0.3381, -0.4032, -0.4413],\n",
       "         ...,\n",
       "         [-0.0911, -0.2197, -0.2586,  ..., -0.2111, -0.1831, -0.0415],\n",
       "         [-0.5568, -0.4114, -0.4290,  ..., -0.3857, -0.5087, -0.3441],\n",
       "         [-0.3626, -0.3900, -0.5278,  ..., -0.3808, -0.3907, -0.4012]],\n",
       "\n",
       "        [[-0.3827, -0.4412, -0.3692,  ..., -0.3226, -0.3961, -0.3606],\n",
       "         [-0.4701, -0.3637, -0.3498,  ..., -0.3257, -0.3360, -0.3895],\n",
       "         [-0.5218, -0.3696, -0.5272,  ..., -0.3572, -0.3991, -0.4551],\n",
       "         ...,\n",
       "         [ 0.6609,  0.4523,  0.3255,  ...,  0.3638,  0.4494,  0.5290],\n",
       "         [-0.5130, -0.3563, -0.4359,  ..., -0.3307, -0.3309, -0.4221],\n",
       "         [-0.5149, -0.3669, -0.5447,  ..., -0.3844, -0.4368, -0.4816]],\n",
       "\n",
       "        ...,\n",
       "\n",
       "        [[-0.5108, -0.5084, -0.5598,  ..., -0.3794, -0.6558, -0.4355],\n",
       "         [-0.3391, -0.5122, -0.5345,  ..., -0.3388, -0.5113, -0.3294],\n",
       "         [-0.5213, -0.4450, -0.5776,  ..., -0.3988, -0.4964, -0.4504],\n",
       "         ...,\n",
       "         [ 0.3538, -0.1133, -0.0803,  ..., -0.1410,  0.0355,  0.2273],\n",
       "         [-0.5058, -0.4209, -0.4903,  ..., -0.3848, -0.4171, -0.4150],\n",
       "         [-0.5041, -0.4518, -0.6051,  ..., -0.4270, -0.5315, -0.4686]],\n",
       "\n",
       "        [[-0.6155, -0.4823, -0.5741,  ..., -0.4029, -0.6215, -0.4285],\n",
       "         [-0.4529, -0.4886, -0.5294,  ..., -0.3741, -0.4888, -0.3445],\n",
       "         [-0.5645, -0.4028, -0.4734,  ..., -0.3608, -0.3782, -0.3978],\n",
       "         ...,\n",
       "         [-0.1744, -0.4713, -0.3594,  ..., -0.3326, -0.3278, -0.0981],\n",
       "         [-0.5195, -0.4307, -0.3986,  ..., -0.3614, -0.3827, -0.3853],\n",
       "         [-0.5790, -0.4185, -0.5615,  ..., -0.3941, -0.4449, -0.4346]],\n",
       "\n",
       "        [[-0.3691, -0.4643, -0.4791,  ..., -0.3582, -0.4257, -0.3747],\n",
       "         [-0.3500, -0.4624, -0.3852,  ..., -0.3600, -0.3779, -0.3803],\n",
       "         [-0.5264, -0.4419, -0.5217,  ..., -0.3719, -0.5284, -0.4380],\n",
       "         ...,\n",
       "         [-0.1022, -0.2450, -0.2471,  ..., -0.2472, -0.1774, -0.0883],\n",
       "         [-0.5028, -0.3720, -0.4351,  ..., -0.3285, -0.3208, -0.4516],\n",
       "         [-0.5067, -0.3927, -0.5483,  ..., -0.3869, -0.4208, -0.5227]]],\n",
       "       grad_fn=<AddBackward0>)"
      ]
     },
     "execution_count": 87,
     "metadata": {},
     "output_type": "execute_result"
    }
   ],
   "source": [
    "b[0].node_features"
   ]
  },
  {
   "cell_type": "code",
   "execution_count": null,
   "metadata": {},
   "outputs": [],
   "source": [
    "def restore_tensor(a, bs, c, h, w, patch_size):\n",
    "    # Step 1: Reshape a to match the patch grid layout\n",
    "    a = a.view(bs, -1, c, patch_size, patch_size)\n",
    "    # a -> (B, num_patches, C, patch_size, patch_size)\n",
    "\n",
    "    # Step 2: Reshape back to (B, C, H, W) by folding the patches\n",
    "    # Calculate the grid size (L) which is the number of patches in each row and column\n",
    "    grid_size = int(\n",
    "        a.size(1) ** 0.5\n",
    "    )  # Assumes square grid (height = width for the patches)\n",
    "\n",
    "    # Unfold back into the original image size\n",
    "    a = a.view(bs, grid_size, grid_size, c, patch_size, patch_size)\n",
    "    # a -> (B, grid_size, grid_size, C, patch_size, patch_size)\n",
    "\n",
    "    # Step 3: Permute and reshape to get back to the image format (B, C, H, W)\n",
    "    x_reconstructed = a.permute(0, 3, 1, 4, 2, 5).contiguous()\n",
    "    # x_reconstructed -> (B, C, grid_size, patch_size, grid_size, patch_size)\n",
    "\n",
    "    x_reconstructed = x_reconstructed.view(bs, c, h, w)\n",
    "    # x_reconstructed -> (B, C, H, W)\n",
    "\n",
    "    return x_reconstructed"
   ]
  },
  {
   "cell_type": "code",
   "execution_count": null,
   "metadata": {},
   "outputs": [
    {
     "data": {
      "image/png": "[encoded data removed]",
      "text/plain": [
       "<Figure size 640x480 with 1 Axes>"
      ]
     },
     "metadata": {},
     "output_type": "display_data"
    },
    {
     "data": {
      "image/png": "[encoded data removed]",
      "text/plain": [
       "<Figure size 640x480 with 1 Axes>"
      ]
     },
     "metadata": {},
     "output_type": "display_data"
    },
    {
     "data": {
      "image/png": "[encoded data removed]",
      "text/plain": [
       "<Figure size 640x480 with 1 Axes>"
      ]
     },
     "metadata": {},
     "output_type": "display_data"
    },
    {
     "data": {
      "image/png": "[encoded data removed]",
      "text/plain": [
       "<Figure size 640x480 with 1 Axes>"
      ]
     },
     "metadata": {},
     "output_type": "display_data"
    },
    {
     "data": {
      "image/png": "[encoded data removed]",
      "text/plain": [
       "<Figure size 640x480 with 1 Axes>"
      ]
     },
     "metadata": {},
     "output_type": "display_data"
    },
    {
     "data": {
      "image/png": "[encoded data removed]",
      "text/plain": [
       "<Figure size 640x480 with 1 Axes>"
      ]
     },
     "metadata": {},
     "output_type": "display_data"
    },
    {
     "data": {
      "image/png": "[encoded data removed]",
      "text/plain": [
       "<Figure size 640x480 with 1 Axes>"
      ]
     },
     "metadata": {},
     "output_type": "display_data"
    },
    {
     "data": {
      "image/png": "[encoded data removed]",
      "text/plain": [
       "<Figure size 640x480 with 1 Axes>"
      ]
     },
     "metadata": {},
     "output_type": "display_data"
    },
    {
     "data": {
      "image/png": "[encoded data removed]",
      "text/plain": [
       "<Figure size 640x480 with 1 Axes>"
      ]
     },
     "metadata": {},
     "output_type": "display_data"
    },
    {
     "data": {
      "image/png": "[encoded data removed]",
      "text/plain": [
       "<Figure size 640x480 with 1 Axes>"
      ]
     },
     "metadata": {},
     "output_type": "display_data"
    },
    {
     "data": {
      "image/png": "[encoded data removed]",
      "text/plain": [
       "<Figure size 640x480 with 1 Axes>"
      ]
     },
     "metadata": {},
     "output_type": "display_data"
    },
    {
     "data": {
      "image/png": "[encoded data removed]",
      "text/plain": [
       "<Figure size 640x480 with 1 Axes>"
      ]
     },
     "metadata": {},
     "output_type": "display_data"
    },
    {
     "data": {
      "image/png": "[encoded data removed]",
      "text/plain": [
       "<Figure size 640x480 with 1 Axes>"
      ]
     },
     "metadata": {},
     "output_type": "display_data"
    },
    {
     "data": {
      "image/png": "[encoded data removed]",
      "text/plain": [
       "<Figure size 640x480 with 1 Axes>"
      ]
     },
     "metadata": {},
     "output_type": "display_data"
    },
    {
     "data": {
      "image/png": "[encoded data removed]",
      "text/plain": [
       "<Figure size 640x480 with 1 Axes>"
      ]
     },
     "metadata": {},
     "output_type": "display_data"
    },
    {
     "data": {
      "image/png": "[encoded data removed]",
      "text/plain": [
       "<Figure size 640x480 with 1 Axes>"
      ]
     },
     "metadata": {},
     "output_type": "display_data"
    },
    {
     "data": {
      "image/png": "[encoded data removed]",
      "text/plain": [
       "<Figure size 640x480 with 1 Axes>"
      ]
     },
     "metadata": {},
     "output_type": "display_data"
    },
    {
     "data": {
      "image/png": "[encoded data removed]",
      "text/plain": [
       "<Figure size 640x480 with 1 Axes>"
      ]
     },
     "metadata": {},
     "output_type": "display_data"
    },
    {
     "data": {
      "image/png": "[encoded data removed]",
      "text/plain": [
       "<Figure size 640x480 with 1 Axes>"
      ]
     },
     "metadata": {},
     "output_type": "display_data"
    },
    {
     "data": {
      "image/png": "[encoded data removed]",
      "text/plain": [
       "<Figure size 640x480 with 1 Axes>"
      ]
     },
     "metadata": {},
     "output_type": "display_data"
    },
    {
     "data": {
      "image/png": "[encoded data removed]",
      "text/plain": [
       "<Figure size 640x480 with 1 Axes>"
      ]
     },
     "metadata": {},
     "output_type": "display_data"
    },
    {
     "data": {
      "image/png": "[encoded data removed]",
      "text/plain": [
       "<Figure size 640x480 with 1 Axes>"
      ]
     },
     "metadata": {},
     "output_type": "display_data"
    },
    {
     "data": {
      "image/png": "[encoded data removed]",
      "text/plain": [
       "<Figure size 640x480 with 1 Axes>"
      ]
     },
     "metadata": {},
     "output_type": "display_data"
    },
    {
     "data": {
      "image/png": "[encoded data removed]",
      "text/plain": [
       "<Figure size 640x480 with 1 Axes>"
      ]
     },
     "metadata": {},
     "output_type": "display_data"
    },
    {
     "data": {
      "image/png": "[encoded data removed]",
      "text/plain": [
       "<Figure size 640x480 with 1 Axes>"
      ]
     },
     "metadata": {},
     "output_type": "display_data"
    },
    {
     "data": {
      "image/png": "[encoded data removed]",
      "text/plain": [
       "<Figure size 640x480 with 1 Axes>"
      ]
     },
     "metadata": {},
     "output_type": "display_data"
    },
    {
     "data": {
      "image/png": "[encoded data removed]",
      "text/plain": [
       "<Figure size 640x480 with 1 Axes>"
      ]
     },
     "metadata": {},
     "output_type": "display_data"
    },
    {
     "data": {
      "image/png": "[encoded data removed]",
      "text/plain": [
       "<Figure size 640x480 with 1 Axes>"
      ]
     },
     "metadata": {},
     "output_type": "display_data"
    },
    {
     "data": {
      "image/png": "[encoded data removed]",
      "text/plain": [
       "<Figure size 640x480 with 1 Axes>"
      ]
     },
     "metadata": {},
     "output_type": "display_data"
    },
    {
     "data": {
      "image/png": "[encoded data removed]",
      "text/plain": [
       "<Figure size 640x480 with 1 Axes>"
      ]
     },
     "metadata": {},
     "output_type": "display_data"
    },
    {
     "data": {
      "image/png": "[encoded data removed]",
      "text/plain": [
       "<Figure size 640x480 with 1 Axes>"
      ]
     },
     "metadata": {},
     "output_type": "display_data"
    },
    {
     "data": {
      "image/png": "[encoded data removed]",
      "text/plain": [
       "<Figure size 640x480 with 1 Axes>"
      ]
     },
     "metadata": {},
     "output_type": "display_data"
    },
    {
     "data": {
      "image/png": "[encoded data removed]",
      "text/plain": [
       "<Figure size 640x480 with 1 Axes>"
      ]
     },
     "metadata": {},
     "output_type": "display_data"
    },
    {
     "data": {
      "image/png": "[encoded data removed]",
      "text/plain": [
       "<Figure size 640x480 with 1 Axes>"
      ]
     },
     "metadata": {},
     "output_type": "display_data"
    },
    {
     "data": {
      "image/png": "[encoded data removed]",
      "text/plain": [
       "<Figure size 640x480 with 1 Axes>"
      ]
     },
     "metadata": {},
     "output_type": "display_data"
    },
    {
     "data": {
      "image/png": "[encoded data removed]",
      "text/plain": [
       "<Figure size 640x480 with 1 Axes>"
      ]
     },
     "metadata": {},
     "output_type": "display_data"
    },
    {
     "data": {
      "image/png": "[encoded data removed]",
      "text/plain": [
       "<Figure size 640x480 with 1 Axes>"
      ]
     },
     "metadata": {},
     "output_type": "display_data"
    },
    {
     "data": {
      "image/png": "[encoded data removed]",
      "text/plain": [
       "<Figure size 640x480 with 1 Axes>"
      ]
     },
     "metadata": {},
     "output_type": "display_data"
    },
    {
     "data": {
      "image/png": "[encoded data removed]",
      "text/plain": [
       "<Figure size 640x480 with 1 Axes>"
      ]
     },
     "metadata": {},
     "output_type": "display_data"
    },
    {
     "data": {
      "image/png": "[encoded data removed]",
      "text/plain": [
       "<Figure size 640x480 with 1 Axes>"
      ]
     },
     "metadata": {},
     "output_type": "display_data"
    },
    {
     "data": {
      "image/png": "[encoded data removed]",
      "text/plain": [
       "<Figure size 640x480 with 1 Axes>"
      ]
     },
     "metadata": {},
     "output_type": "display_data"
    },
    {
     "data": {
      "image/png": "[encoded data removed]",
      "text/plain": [
       "<Figure size 640x480 with 1 Axes>"
      ]
     },
     "metadata": {},
     "output_type": "display_data"
    },
    {
     "data": {
      "image/png": "[encoded data removed]",
      "text/plain": [
       "<Figure size 640x480 with 1 Axes>"
      ]
     },
     "metadata": {},
     "output_type": "display_data"
    },
    {
     "data": {
      "image/png": "[encoded data removed]",
      "text/plain": [
       "<Figure size 640x480 with 1 Axes>"
      ]
     },
     "metadata": {},
     "output_type": "display_data"
    },
    {
     "data": {
      "image/png": "[encoded data removed]",
      "text/plain": [
       "<Figure size 640x480 with 1 Axes>"
      ]
     },
     "metadata": {},
     "output_type": "display_data"
    },
    {
     "data": {
      "image/png": "[encoded data removed]",
      "text/plain": [
       "<Figure size 640x480 with 1 Axes>"
      ]
     },
     "metadata": {},
     "output_type": "display_data"
    },
    {
     "data": {
      "image/png": "[encoded data removed]",
      "text/plain": [
       "<Figure size 640x480 with 1 Axes>"
      ]
     },
     "metadata": {},
     "output_type": "display_data"
    },
    {
     "data": {
      "image/png": "[encoded data removed]",
      "text/plain": [
       "<Figure size 640x480 with 1 Axes>"
      ]
     },
     "metadata": {},
     "output_type": "display_data"
    },
    {
     "data": {
      "image/png": "[encoded data removed]",
      "text/plain": [
       "<Figure size 640x480 with 1 Axes>"
      ]
     },
     "metadata": {},
     "output_type": "display_data"
    },
    {
     "data": {
      "image/png": "[encoded data removed]",
      "text/plain": [
       "<Figure size 640x480 with 1 Axes>"
      ]
     },
     "metadata": {},
     "output_type": "display_data"
    },
    {
     "data": {
      "image/png": "[encoded data removed]",
      "text/plain": [
       "<Figure size 640x480 with 1 Axes>"
      ]
     },
     "metadata": {},
     "output_type": "display_data"
    },
    {
     "data": {
      "image/png": "[encoded data removed]",
      "text/plain": [
       "<Figure size 640x480 with 1 Axes>"
      ]
     },
     "metadata": {},
     "output_type": "display_data"
    },
    {
     "data": {
      "image/png": "[encoded data removed]",
      "text/plain": [
       "<Figure size 640x480 with 1 Axes>"
      ]
     },
     "metadata": {},
     "output_type": "display_data"
    },
    {
     "data": {
      "image/png": "[encoded data removed]",
      "text/plain": [
       "<Figure size 640x480 with 1 Axes>"
      ]
     },
     "metadata": {},
     "output_type": "display_data"
    },
    {
     "data": {
      "image/png": "[encoded data removed]",
      "text/plain": [
       "<Figure size 640x480 with 1 Axes>"
      ]
     },
     "metadata": {},
     "output_type": "display_data"
    },
    {
     "data": {
      "image/png": "[encoded data removed]",
      "text/plain": [
       "<Figure size 640x480 with 1 Axes>"
      ]
     },
     "metadata": {},
     "output_type": "display_data"
    },
    {
     "data": {
      "image/png": "[encoded data removed]",
      "text/plain": [
       "<Figure size 640x480 with 1 Axes>"
      ]
     },
     "metadata": {},
     "output_type": "display_data"
    },
    {
     "data": {
      "image/png": "[encoded data removed]",
      "text/plain": [
       "<Figure size 640x480 with 1 Axes>"
      ]
     },
     "metadata": {},
     "output_type": "display_data"
    },
    {
     "data": {
      "image/png": "[encoded data removed]",
      "text/plain": [
       "<Figure size 640x480 with 1 Axes>"
      ]
     },
     "metadata": {},
     "output_type": "display_data"
    },
    {
     "data": {
      "image/png": "[encoded data removed]",
      "text/plain": [
       "<Figure size 640x480 with 1 Axes>"
      ]
     },
     "metadata": {},
     "output_type": "display_data"
    },
    {
     "data": {
      "image/png": "[encoded data removed]",
      "text/plain": [
       "<Figure size 640x480 with 1 Axes>"
      ]
     },
     "metadata": {},
     "output_type": "display_data"
    },
    {
     "data": {
      "image/png": "[encoded data removed]",
      "text/plain": [
       "<Figure size 640x480 with 1 Axes>"
      ]
     },
     "metadata": {},
     "output_type": "display_data"
    },
    {
     "data": {
      "image/png": "[encoded data removed]",
      "text/plain": [
       "<Figure size 640x480 with 1 Axes>"
      ]
     },
     "metadata": {},
     "output_type": "display_data"
    },
    {
     "data": {
      "image/png": "[encoded data removed]",
      "text/plain": [
       "<Figure size 640x480 with 1 Axes>"
      ]
     },
     "metadata": {},
     "output_type": "display_data"
    }
   ],
   "source": [
    "import matplotlib.pyplot as plt\n",
    "\n",
    "for i in range(32):\n",
    "    org = restore_tensor(batches[-2].node_features, 32, 1, 24, 24, 4)\n",
    "    pred = restore_tensor(b[0].node_features, 32, 1, 24, 24, 4)\n",
    "\n",
    "    plt.imshow(org[i].reshape(24, 24, 1).detach().numpy())\n",
    "    plt.show()\n",
    "\n",
    "    plt.imshow(pred[i].reshape(24, 24, 1).detach().numpy())\n",
    "    plt.show()"
   ]
  },
  {
   "cell_type": "code",
   "execution_count": null,
   "metadata": {},
   "outputs": [],
   "source": [
    "def scaled_dot_product_attention(\n",
    "    query,\n",
    "    key,\n",
    "    value,\n",
    "    attn_mask=None,\n",
    "    dropout_p=0.0,\n",
    "    is_causal=False,\n",
    "    scale=None,\n",
    "    enable_gqa=False,\n",
    ") -> torch.Tensor:\n",
    "    L, S = query.size(-2), key.size(-2)\n",
    "    scale_factor = 1 / math.sqrt(query.size(-1)) if scale is None else scale\n",
    "    attn_bias = torch.zeros(L, S, dtype=query.dtype, device=query.device)\n",
    "    if is_causal:\n",
    "        assert attn_mask is None\n",
    "        temp_mask = torch.ones(L, S, dtype=torch.bool).tril(diagonal=0)\n",
    "        attn_bias.masked_fill_(temp_mask.logical_not(), float(\"-inf\"))\n",
    "        attn_bias.to(query.dtype)\n",
    "\n",
    "    if attn_mask is not None:\n",
    "        if attn_mask.dtype == torch.bool:\n",
    "            attn_bias.masked_fill_(attn_mask.logical_not(), float(\"-inf\"))\n",
    "        else:\n",
    "            attn_bias = attn_mask + attn_bias\n",
    "\n",
    "    if enable_gqa:\n",
    "        key = key.repeat_interleave(query.size(-3) // key.size(-3), -3)\n",
    "        value = value.repeat_interleave(query.size(-3) // value.size(-3), -3)\n",
    "\n",
    "    attn_weight = query @ key.transpose(-2, -1) * scale_factor\n",
    "    attn_weight += attn_bias\n",
    "    attn_weight = torch.softmax(attn_weight, dim=-1)\n",
    "    attn_weight = torch.dropout(attn_weight, dropout_p, train=True)\n",
    "    return attn_weight @ value"
   ]
  },
  {
   "cell_type": "code",
   "execution_count": null,
   "metadata": {},
   "outputs": [
    {
     "ename": "RuntimeError",
     "evalue": "The size of tensor a (4) must match the size of tensor b (5) at non-singleton dimension 3",
     "output_type": "error",
     "traceback": [
      "\u001b[0;31m---------------------------------------------------------------------------\u001b[0m",
      "\u001b[0;31mRuntimeError\u001b[0m                              Traceback (most recent call last)",
      "Cell \u001b[0;32mIn[269], line 12\u001b[0m\n\u001b[1;32m     10\u001b[0m \u001b[38;5;28;01mif\u001b[39;00m attn_mask \u001b[38;5;129;01mis\u001b[39;00m \u001b[38;5;129;01mnot\u001b[39;00m \u001b[38;5;28;01mNone\u001b[39;00m:\n\u001b[1;32m     11\u001b[0m     \u001b[38;5;28;01mif\u001b[39;00m attn_mask\u001b[38;5;241m.\u001b[39mdtype \u001b[38;5;241m==\u001b[39m torch\u001b[38;5;241m.\u001b[39mbool:\n\u001b[0;32m---> 12\u001b[0m         \u001b[43mattn_bias\u001b[49m\u001b[38;5;241;43m.\u001b[39;49m\u001b[43mmasked_fill_\u001b[49m\u001b[43m(\u001b[49m\u001b[43mattn_mask\u001b[49m\u001b[38;5;241;43m.\u001b[39;49m\u001b[43mlogical_not\u001b[49m\u001b[43m(\u001b[49m\u001b[43m)\u001b[49m\u001b[43m,\u001b[49m\u001b[43m \u001b[49m\u001b[38;5;28;43mfloat\u001b[39;49m\u001b[43m(\u001b[49m\u001b[38;5;124;43m\"\u001b[39;49m\u001b[38;5;124;43m-inf\u001b[39;49m\u001b[38;5;124;43m\"\u001b[39;49m\u001b[43m)\u001b[49m\u001b[43m)\u001b[49m\n\u001b[1;32m     13\u001b[0m     \u001b[38;5;28;01melse\u001b[39;00m:\n\u001b[1;32m     14\u001b[0m         attn_bias \u001b[38;5;241m=\u001b[39m attn_mask \u001b[38;5;241m+\u001b[39m attn_bias\n",
      "\u001b[0;31mRuntimeError\u001b[0m: The size of tensor a (4) must match the size of tensor b (5) at non-singleton dimension 3"
     ]
    }
   ],
   "source": [
    "L, S = q.size(-2), k.size(-2)\n",
    "scale_factor = 1 / math.sqrt(q.size(-1)) if scale is None else scale\n",
    "attn_bias = torch.zeros(L, S, dtype=q.dtype, device=q.device)\n",
    "if is_causal:\n",
    "    assert attn_mask is None\n",
    "    temp_mask = torch.ones(L, S, dtype=torch.bool).tril(diagonal=0)\n",
    "    attn_bias.masked_fill_(temp_mask.logical_not(), float(\"-inf\"))\n",
    "    attn_bias.to(query.dtype)\n",
    "\n",
    "if attn_mask is not None:\n",
    "    if attn_mask.dtype == torch.bool:\n",
    "        attn_bias.masked_fill_(attn_mask.logical_not(), float(\"-inf\"))\n",
    "    else:\n",
    "        attn_bias = attn_mask + attn_bias\n",
    "\n",
    "# if enable_gqa:\n",
    "#     key = key.repeat_interleave(query.size(-3)//key.size(-3), -3)\n",
    "#     value = value.repeat_interleave(query.size(-3)//value.size(-3), -3)\n",
    "\n",
    "attn_weight = q @ k.transpose(-2, -1) * scale_factor\n",
    "attn_weight += attn_bias\n",
    "attn_weight = torch.softmax(attn_weight, dim=-1)\n",
    "attn_weight = torch.dropout(attn_weight, dropout_p, train=True)"
   ]
  },
  {
   "cell_type": "code",
   "execution_count": null,
   "metadata": {},
   "outputs": [
    {
     "data": {
      "text/plain": [
       "tensor([[[[0.3242, 0.0000, 0.2421, 0.4337],\n",
       "          [0.5849, 0.2338, 0.0000, 0.1814],\n",
       "          [0.1132, 0.2075, 0.6793, 0.0000],\n",
       "          [0.4610, 0.1327, 0.2220, 0.1843]]]])"
      ]
     },
     "execution_count": 244,
     "metadata": {},
     "output_type": "execute_result"
    }
   ],
   "source": [
    "attn_weight"
   ]
  },
  {
   "cell_type": "code",
   "execution_count": null,
   "metadata": {},
   "outputs": [],
   "source": [
    "attn_mask = edge_mask.masked_fill(\n",
    "    torch.eye(num_nodes, num_nodes, device=device).bool(), 0\n",
    ")\n",
    "attn_mask = attn_mask.unsqueeze(1).expand(-1, num_nodes, -1, -1)\n",
    "attn_mask = attn_mask * (\n",
    "    torch.eye(num_nodes, num_nodes, device=device) == 0\n",
    ").bool().unsqueeze(0).unsqueeze(-2).expand(-1, -1, num_nodes, -1)"
   ]
  },
  {
   "cell_type": "code",
   "execution_count": null,
   "metadata": {},
   "outputs": [
    {
     "data": {
      "text/plain": [
       "tensor([[[[False,  True,  True,  True,  True],\n",
       "          [False, False,  True,  True,  True],\n",
       "          [False,  True, False,  True,  True],\n",
       "          [False,  True,  True, False,  True],\n",
       "          [False,  True,  True,  True, False]],\n",
       "\n",
       "         [[False, False,  True,  True,  True],\n",
       "          [ True, False,  True,  True,  True],\n",
       "          [ True, False, False,  True,  True],\n",
       "          [ True, False,  True, False,  True],\n",
       "          [ True, False,  True,  True, False]],\n",
       "\n",
       "         [[False,  True, False,  True,  True],\n",
       "          [ True, False, False,  True,  True],\n",
       "          [ True,  True, False,  True,  True],\n",
       "          [ True,  True, False, False,  True],\n",
       "          [ True,  True, False,  True, False]],\n",
       "\n",
       "         [[False,  True,  True, False,  True],\n",
       "          [ True, False,  True, False,  True],\n",
       "          [ True,  True, False, False,  True],\n",
       "          [ True,  True,  True, False,  True],\n",
       "          [ True,  True,  True, False, False]],\n",
       "\n",
       "         [[False,  True,  True,  True, False],\n",
       "          [ True, False,  True,  True, False],\n",
       "          [ True,  True, False,  True, False],\n",
       "          [ True,  True,  True, False, False],\n",
       "          [ True,  True,  True,  True, False]]],\n",
       "\n",
       "\n",
       "        [[[False,  True,  True,  True,  True],\n",
       "          [False, False,  True,  True,  True],\n",
       "          [False,  True, False,  True,  True],\n",
       "          [False,  True,  True, False,  True],\n",
       "          [False,  True,  True,  True, False]],\n",
       "\n",
       "         [[False, False,  True,  True,  True],\n",
       "          [ True, False,  True,  True,  True],\n",
       "          [ True, False, False,  True,  True],\n",
       "          [ True, False,  True, False,  True],\n",
       "          [ True, False,  True,  True, False]],\n",
       "\n",
       "         [[False,  True, False,  True,  True],\n",
       "          [ True, False, False,  True,  True],\n",
       "          [ True,  True, False,  True,  True],\n",
       "          [ True,  True, False, False,  True],\n",
       "          [ True,  True, False,  True, False]],\n",
       "\n",
       "         [[False,  True,  True, False,  True],\n",
       "          [ True, False,  True, False,  True],\n",
       "          [ True,  True, False, False,  True],\n",
       "          [ True,  True,  True, False,  True],\n",
       "          [ True,  True,  True, False, False]],\n",
       "\n",
       "         [[False,  True,  True,  True, False],\n",
       "          [ True, False,  True,  True, False],\n",
       "          [ True,  True, False,  True, False],\n",
       "          [ True,  True,  True, False, False],\n",
       "          [ True,  True,  True,  True, False]]]])"
      ]
     },
     "execution_count": 247,
     "metadata": {},
     "output_type": "execute_result"
    }
   ],
   "source": [
    "attn_mask"
   ]
  },
  {
   "cell_type": "code",
   "execution_count": null,
   "metadata": {},
   "outputs": [
    {
     "data": {
      "text/plain": [
       "tensor([[[0., 0., 0., 0.],\n",
       "         [0., 0., 1., 2.],\n",
       "         [0., 0., 3., 4.],\n",
       "         [0., 0., 5., 6.],\n",
       "         [0., 0., 7., 8.]],\n",
       "\n",
       "        [[1., 2., 0., 0.],\n",
       "         [1., 2., 1., 2.],\n",
       "         [1., 2., 3., 4.],\n",
       "         [1., 2., 5., 6.],\n",
       "         [1., 2., 7., 8.]],\n",
       "\n",
       "        [[3., 4., 0., 0.],\n",
       "         [3., 4., 1., 2.],\n",
       "         [3., 4., 3., 4.],\n",
       "         [3., 4., 5., 6.],\n",
       "         [3., 4., 7., 8.]],\n",
       "\n",
       "        [[5., 6., 0., 0.],\n",
       "         [5., 6., 1., 2.],\n",
       "         [5., 6., 3., 4.],\n",
       "         [5., 6., 5., 6.],\n",
       "         [5., 6., 7., 8.]],\n",
       "\n",
       "        [[7., 8., 0., 0.],\n",
       "         [7., 8., 1., 2.],\n",
       "         [7., 8., 3., 4.],\n",
       "         [7., 8., 5., 6.],\n",
       "         [7., 8., 7., 8.]]])"
      ]
     },
     "execution_count": 255,
     "metadata": {},
     "output_type": "execute_result"
    }
   ],
   "source": [
    "node_features_combined[0]"
   ]
  },
  {
   "cell_type": "code",
   "execution_count": null,
   "metadata": {},
   "outputs": [
    {
     "data": {
      "text/plain": [
       "tensor([[[[False,  True,  True,  True,  True],\n",
       "          [False, False,  True,  True,  True],\n",
       "          [False,  True, False,  True,  True],\n",
       "          [False,  True,  True, False,  True],\n",
       "          [False,  True,  True,  True, False]],\n",
       "\n",
       "         [[False, False,  True,  True,  True],\n",
       "          [ True, False,  True,  True,  True],\n",
       "          [ True, False, False,  True,  True],\n",
       "          [ True, False,  True, False,  True],\n",
       "          [ True, False,  True,  True, False]],\n",
       "\n",
       "         [[False,  True, False,  True,  True],\n",
       "          [ True, False, False,  True,  True],\n",
       "          [ True,  True, False,  True,  True],\n",
       "          [ True,  True, False, False,  True],\n",
       "          [ True,  True, False,  True, False]],\n",
       "\n",
       "         [[False,  True,  True, False,  True],\n",
       "          [ True, False,  True, False,  True],\n",
       "          [ True,  True, False, False,  True],\n",
       "          [ True,  True,  True, False,  True],\n",
       "          [ True,  True,  True, False, False]],\n",
       "\n",
       "         [[False,  True,  True,  True, False],\n",
       "          [ True, False,  True,  True, False],\n",
       "          [ True,  True, False,  True, False],\n",
       "          [ True,  True,  True, False, False],\n",
       "          [ True,  True,  True,  True, False]]],\n",
       "\n",
       "\n",
       "        [[[False,  True,  True,  True,  True],\n",
       "          [False, False,  True,  True,  True],\n",
       "          [False,  True, False,  True,  True],\n",
       "          [False,  True,  True, False,  True],\n",
       "          [False,  True,  True,  True, False]],\n",
       "\n",
       "         [[False, False,  True,  True,  True],\n",
       "          [ True, False,  True,  True,  True],\n",
       "          [ True, False, False,  True,  True],\n",
       "          [ True, False,  True, False,  True],\n",
       "          [ True, False,  True,  True, False]],\n",
       "\n",
       "         [[False,  True, False,  True,  True],\n",
       "          [ True, False, False,  True,  True],\n",
       "          [ True,  True, False,  True,  True],\n",
       "          [ True,  True, False, False,  True],\n",
       "          [ True,  True, False,  True, False]],\n",
       "\n",
       "         [[False,  True,  True, False,  True],\n",
       "          [ True, False,  True, False,  True],\n",
       "          [ True,  True, False, False,  True],\n",
       "          [ True,  True,  True, False,  True],\n",
       "          [ True,  True,  True, False, False]],\n",
       "\n",
       "         [[False,  True,  True,  True, False],\n",
       "          [ True, False,  True,  True, False],\n",
       "          [ True,  True, False,  True, False],\n",
       "          [ True,  True,  True, False, False],\n",
       "          [ True,  True,  True,  True, False]]]])"
      ]
     },
     "execution_count": 254,
     "metadata": {},
     "output_type": "execute_result"
    }
   ],
   "source": [
    "attn_mask"
   ]
  },
  {
   "cell_type": "code",
   "execution_count": null,
   "metadata": {},
   "outputs": [
    {
     "name": "stdout",
     "output_type": "stream",
     "text": [
      "Grid Mask (3x3):\n",
      " tensor([[1, 1, 1, 0],\n",
      "        [1, 1, 0, 1],\n",
      "        [1, 0, 1, 1],\n",
      "        [0, 1, 1, 1]], dtype=torch.int32)\n"
     ]
    }
   ],
   "source": [
    "import torch\n",
    "import networkx as nx\n",
    "\n",
    "\n",
    "def create_grid_mask(grid_size: int, self_connection: bool = True) -> torch.Tensor:\n",
    "    \"\"\"\n",
    "    Create a grid mask for a square grid using networkx, allowing only neighboring connections.\n",
    "\n",
    "    Args:\n",
    "        grid_size (int): Size of the grid (grid_size x grid_size).\n",
    "        self_connection (bool): Whether to allow self-connections.\n",
    "\n",
    "    Returns:\n",
    "        torch.Tensor: A boolean mask of shape (grid_size**2, grid_size**2).\n",
    "                      True = valid connection, False = invalid connection.\n",
    "    \"\"\"\n",
    "    # Create a grid graph (4-connected grid, no diagonals)\n",
    "    G = nx.grid_2d_graph(grid_size, grid_size)\n",
    "\n",
    "    # Relabel nodes to integers (0 to grid_size**2 - 1)\n",
    "    G = nx.convert_node_labels_to_integers(G)\n",
    "\n",
    "    # Get the adjacency matrix as a torch tensor\n",
    "    adj_matrix = torch.tensor(nx.to_numpy_array(G), dtype=torch.bool)\n",
    "\n",
    "    # Add self-connections if needed\n",
    "    if self_connection:\n",
    "        adj_matrix.fill_diagonal_(True)\n",
    "\n",
    "    return adj_matrix\n",
    "\n",
    "\n",
    "# Example usage\n",
    "grid_size = 2\n",
    "grid_mask = create_grid_mask(grid_size)\n",
    "print(\"Grid Mask (3x3):\\n\", grid_mask.int())  # Show as 0/1 for readability"
   ]
  },
  {
   "cell_type": "code",
   "execution_count": null,
   "metadata": {},
   "outputs": [],
   "source": [
    "attn_mask = edge_mask\n",
    "attn_mask = attn_mask.unsqueeze(1).expand(-1, num_nodes, -1, -1)\n",
    "# attn_mask = attn_mask * (\n",
    "#     torch.eye(num_nodes, num_nodes, device=device) == 0\n",
    "# ).bool().unsqueeze(0).unsqueeze(-2).expand(-1, -1, num_nodes, -1)"
   ]
  },
  {
   "cell_type": "code",
   "execution_count": null,
   "metadata": {},
   "outputs": [
    {
     "data": {
      "text/plain": [
       "tensor([[[[True, True, True, True, True],\n",
       "          [True, True, True, True, True],\n",
       "          [True, True, True, True, True],\n",
       "          [True, True, True, True, True],\n",
       "          [True, True, True, True, True]],\n",
       "\n",
       "         [[True, True, True, True, True],\n",
       "          [True, True, True, True, True],\n",
       "          [True, True, True, True, True],\n",
       "          [True, True, True, True, True],\n",
       "          [True, True, True, True, True]],\n",
       "\n",
       "         [[True, True, True, True, True],\n",
       "          [True, True, True, True, True],\n",
       "          [True, True, True, True, True],\n",
       "          [True, True, True, True, True],\n",
       "          [True, True, True, True, True]],\n",
       "\n",
       "         [[True, True, True, True, True],\n",
       "          [True, True, True, True, True],\n",
       "          [True, True, True, True, True],\n",
       "          [True, True, True, True, True],\n",
       "          [True, True, True, True, True]],\n",
       "\n",
       "         [[True, True, True, True, True],\n",
       "          [True, True, True, True, True],\n",
       "          [True, True, True, True, True],\n",
       "          [True, True, True, True, True],\n",
       "          [True, True, True, True, True]]],\n",
       "\n",
       "\n",
       "        [[[True, True, True, True, True],\n",
       "          [True, True, True, True, True],\n",
       "          [True, True, True, True, True],\n",
       "          [True, True, True, True, True],\n",
       "          [True, True, True, True, True]],\n",
       "\n",
       "         [[True, True, True, True, True],\n",
       "          [True, True, True, True, True],\n",
       "          [True, True, True, True, True],\n",
       "          [True, True, True, True, True],\n",
       "          [True, True, True, True, True]],\n",
       "\n",
       "         [[True, True, True, True, True],\n",
       "          [True, True, True, True, True],\n",
       "          [True, True, True, True, True],\n",
       "          [True, True, True, True, True],\n",
       "          [True, True, True, True, True]],\n",
       "\n",
       "         [[True, True, True, True, True],\n",
       "          [True, True, True, True, True],\n",
       "          [True, True, True, True, True],\n",
       "          [True, True, True, True, True],\n",
       "          [True, True, True, True, True]],\n",
       "\n",
       "         [[True, True, True, True, True],\n",
       "          [True, True, True, True, True],\n",
       "          [True, True, True, True, True],\n",
       "          [True, True, True, True, True],\n",
       "          [True, True, True, True, True]]]])"
      ]
     },
     "execution_count": 266,
     "metadata": {},
     "output_type": "execute_result"
    }
   ],
   "source": [
    "attn_mask"
   ]
  },
  {
   "cell_type": "code",
   "execution_count": null,
   "metadata": {},
   "outputs": [
    {
     "data": {
      "text/plain": [
       "tensor([[[[False,  True,  True,  True,  True],\n",
       "          [False,  True,  True,  True,  True],\n",
       "          [False,  True,  True,  True,  True],\n",
       "          [False,  True,  True,  True,  True],\n",
       "          [False,  True,  True,  True,  True]],\n",
       "\n",
       "         [[ True, False,  True,  True,  True],\n",
       "          [ True, False,  True,  True,  True],\n",
       "          [ True, False,  True,  True,  True],\n",
       "          [ True, False,  True,  True,  True],\n",
       "          [ True, False,  True,  True,  True]],\n",
       "\n",
       "         [[ True,  True, False,  True,  True],\n",
       "          [ True,  True, False,  True,  True],\n",
       "          [ True,  True, False,  True,  True],\n",
       "          [ True,  True, False,  True,  True],\n",
       "          [ True,  True, False,  True,  True]],\n",
       "\n",
       "         [[ True,  True,  True, False,  True],\n",
       "          [ True,  True,  True, False,  True],\n",
       "          [ True,  True,  True, False,  True],\n",
       "          [ True,  True,  True, False,  True],\n",
       "          [ True,  True,  True, False,  True]],\n",
       "\n",
       "         [[ True,  True,  True,  True, False],\n",
       "          [ True,  True,  True,  True, False],\n",
       "          [ True,  True,  True,  True, False],\n",
       "          [ True,  True,  True,  True, False],\n",
       "          [ True,  True,  True,  True, False]]]])"
      ]
     },
     "execution_count": 268,
     "metadata": {},
     "output_type": "execute_result"
    }
   ],
   "source": [
    "(torch.eye(num_nodes, num_nodes, device=device) == 0).bool().unsqueeze(0).unsqueeze(\n",
    "    -2\n",
    ").expand(-1, -1, num_nodes, -1)"
   ]
  },
  {
   "cell_type": "code",
   "execution_count": null,
   "metadata": {},
   "outputs": [
    {
     "name": "stdout",
     "output_type": "stream",
     "text": [
      "a\n"
     ]
    }
   ],
   "source": [
    "a = [1]\n",
    "if a:\n",
    "    print(\"a\")"
   ]
  },
  {
   "cell_type": "code",
   "execution_count": null,
   "metadata": {},
   "outputs": [
    {
     "name": "stdout",
     "output_type": "stream",
     "text": [
      "is_available: True\n",
      "is_built: True\n",
      "device: mps\n"
     ]
    }
   ],
   "source": [
    "import torch\n",
    "\n",
    "print(\"is_available:\", torch.backends.mps.is_available())\n",
    "print(\"is_built:\", torch.backends.mps.is_built())\n",
    "print(\n",
    "    \"device:\",\n",
    "    torch.device(\"mps\") if torch.backends.mps.is_available() else \"Not available\",\n",
    ")"
   ]
  },
  {
   "cell_type": "code",
   "execution_count": null,
   "metadata": {},
   "outputs": [],
   "source": [
    "for index in np.ndindex(3, 2, 1):\n",
    "    pass"
   ]
  },
  {
   "cell_type": "code",
   "execution_count": null,
   "metadata": {},
   "outputs": [
    {
     "data": {
      "text/plain": [
       "2"
      ]
     },
     "execution_count": 14,
     "metadata": {},
     "output_type": "execute_result"
    }
   ],
   "source": [
    "np.array(index)[0]"
   ]
  },
  {
   "cell_type": "code",
   "execution_count": null,
   "metadata": {},
   "outputs": [
    {
     "ename": "",
     "evalue": "",
     "output_type": "error",
     "traceback": [
      "\u001b[1;31mRunning cells with 'pigvae-master-thesis (Python 3.12.9)' requires the ipykernel package.\n",
      "\u001b[1;31mRun the following command to install 'ipykernel' into the Python environment. \n",
      "\u001b[1;31mCommand: 'conda install -n pigvae-master-thesis ipykernel --update-deps --force-reinstall'"
     ]
    }
   ],
   "source": [
    "import platform\n",
    "\n",
    "platform.mac_ver()"
   ]
  },
  {
   "cell_type": "code",
   "execution_count": null,
   "metadata": {},
   "outputs": [],
   "source": [
    "import torch\n",
    "\n",
    "p = torch.tensor([[0.99, 0.01], [0.5, 0.5]])\n",
    "\n",
    "e = -torch.sum(p * torch.clamp_min(torch.log(p), -100), axis=1)"
   ]
  },
  {
   "cell_type": "code",
   "execution_count": null,
   "metadata": {},
   "outputs": [
    {
     "data": {
      "text/plain": [
       "tensor([0.0560, 0.6931])"
      ]
     },
     "execution_count": 15,
     "metadata": {},
     "output_type": "execute_result"
    }
   ],
   "source": [
    "e"
   ]
  },
  {
   "cell_type": "code",
   "execution_count": null,
   "metadata": {},
   "outputs": [],
   "source": [
    "node_features = torch.tensor(\n",
    "    [\n",
    "        [[1.0, 2.0], [3.0, 4.0], [5.0, 6.0], [7.0, 8.0]],\n",
    "        [[7.0, 8.0], [9.0, 10.0], [11.0, 12.0], [13.0, 14.0]],\n",
    "    ]\n",
    ")\n",
    "\n",
    "mask = torch.tensor(\n",
    "    [\n",
    "        [True, True, True, True],\n",
    "        [True, True, True, True],\n",
    "    ]\n",
    ")\n",
    "\n",
    "perm = torch.tensor(\n",
    "    [\n",
    "        [[1.0, 0.0], [0.0, 1.0], [0.0, 0.0], [0.0, 0.0]],\n",
    "        [[1.0, 0.0], [0.0, 1.0], [0.0, 0.0], [0.0, 0.0]],\n",
    "    ]\n",
    ")\n",
    "# node_features.shape\n",
    "\n",
    "# node_features = pad(node_features, (0, 0, 1, 0))\n",
    "# mask = pad(mask, (1, 0), value=1)\n",
    "\n",
    "# edge_mask = mask.unsqueeze(1) * mask.unsqueeze(2)\n",
    "\n",
    "# mask.unsqueeze(1).expand(-1, 5, -1).shape"
   ]
  },
  {
   "cell_type": "code",
   "execution_count": null,
   "metadata": {},
   "outputs": [],
   "source": [
    "eye = torch.eye(2, 2).unsqueeze(0).expand(2, -1, -1).type_as(perm)\n",
    "mask = mask.unsqueeze(-1).expand(-1, -1, 2)\n",
    "# perm = torch.where(mask, perm, eye)"
   ]
  },
  {
   "cell_type": "code",
   "execution_count": null,
   "metadata": {},
   "outputs": [
    {
     "data": {
      "text/plain": [
       "torch.Size([8, 2, 2])"
      ]
     },
     "execution_count": 38,
     "metadata": {},
     "output_type": "execute_result"
    }
   ],
   "source": [
    "torch.concat([torch.rand(4, 2, 2), torch.rand(4, 2, 2)], dim=0).shape"
   ]
  },
  {
   "cell_type": "code",
   "execution_count": null,
   "metadata": {},
   "outputs": [
    {
     "ename": "RuntimeError",
     "evalue": "The size of tensor a (4) must match the size of tensor b (2) at non-singleton dimension 1",
     "output_type": "error",
     "traceback": [
      "\u001b[0;31m---------------------------------------------------------------------------\u001b[0m",
      "\u001b[0;31mRuntimeError\u001b[0m                              Traceback (most recent call last)",
      "Cell \u001b[0;32mIn[34], line 1\u001b[0m\n\u001b[0;32m----> 1\u001b[0m perm \u001b[38;5;241m=\u001b[39m \u001b[43mtorch\u001b[49m\u001b[38;5;241;43m.\u001b[39;49m\u001b[43mwhere\u001b[49m\u001b[43m(\u001b[49m\u001b[43mmask\u001b[49m\u001b[43m,\u001b[49m\u001b[43m \u001b[49m\u001b[43mperm\u001b[49m\u001b[43m,\u001b[49m\u001b[43m \u001b[49m\u001b[43meye\u001b[49m\u001b[43m)\u001b[49m\n",
      "\u001b[0;31mRuntimeError\u001b[0m: The size of tensor a (4) must match the size of tensor b (2) at non-singleton dimension 1"
     ]
    }
   ],
   "source": [
    "perm = torch.where(mask, perm, eye)"
   ]
  },
  {
   "cell_type": "code",
   "execution_count": null,
   "metadata": {},
   "outputs": [],
   "source": [
    "import numpy as np\n",
    "\n",
    "theta = 2 * np.arccos(0.999999999)"
   ]
  },
  {
   "cell_type": "code",
   "execution_count": null,
   "metadata": {},
   "outputs": [
    {
     "data": {
      "text/plain": [
       "8.944271784263871e-05"
      ]
     },
     "execution_count": 56,
     "metadata": {},
     "output_type": "execute_result"
    }
   ],
   "source": [
    "theta"
   ]
  },
  {
   "cell_type": "code",
   "execution_count": null,
   "metadata": {},
   "outputs": [],
   "source": [
    "from collections import defaultdict\n",
    "\n",
    "lines = defaultdict(set)"
   ]
  },
  {
   "cell_type": "code",
   "execution_count": null,
   "metadata": {},
   "outputs": [],
   "source": [
    "lines[\"s\"] = {3, 4}"
   ]
  },
  {
   "cell_type": "code",
   "execution_count": null,
   "metadata": {},
   "outputs": [
    {
     "data": {
      "text/plain": [
       "defaultdict(set, {'s': {3, 4}})"
      ]
     },
     "execution_count": 66,
     "metadata": {},
     "output_type": "execute_result"
    }
   ],
   "source": [
    "lines"
   ]
  },
  {
   "cell_type": "code",
   "execution_count": null,
   "metadata": {},
   "outputs": [],
   "source": [
    "point_indices = set(range(4))"
   ]
  },
  {
   "cell_type": "code",
   "execution_count": null,
   "metadata": {},
   "outputs": [
    {
     "data": {
      "text/plain": [
       "{0, 1, 2, 3, 4}"
      ]
     },
     "execution_count": 74,
     "metadata": {},
     "output_type": "execute_result"
    }
   ],
   "source": [
    "point_indices | set(range(5))"
   ]
  },
  {
   "cell_type": "code",
   "execution_count": null,
   "metadata": {},
   "outputs": [
    {
     "data": {
      "text/plain": [
       "array([[3., 3., 3., 3.],\n",
       "       [3., 3., 3., 3.],\n",
       "       [3., 3., 3., 3.],\n",
       "       [3., 3., 3., 3.]])"
      ]
     },
     "execution_count": 78,
     "metadata": {},
     "output_type": "execute_result"
    }
   ],
   "source": [
    "visibility_matrix = np.full((4, 4), 1)\n",
    "np.where(visibility_matrix, 3, -np.inf)"
   ]
  },
  {
   "cell_type": "code",
   "execution_count": null,
   "metadata": {},
   "outputs": [],
   "source": [
    "import random\n",
    "\n",
    "\n",
    "def generate_user_system_lists(\n",
    "    n, match_ratio=0.96, value_range=(1, 100), min_len=1, max_len=20, p=0.2\n",
    "):\n",
    "    user_lists = []\n",
    "    system_lists = []\n",
    "\n",
    "    for _ in range(n):\n",
    "        # Generate a user list\n",
    "        user_len = random.randint(min_len, max_len)\n",
    "        user_list = random.sample(range(value_range[0], value_range[1] + 1), user_len)\n",
    "\n",
    "        # Determine how many elements will match\n",
    "        match_count = int(round(match_ratio * user_len))\n",
    "        match_items = random.sample(user_list, match_count)\n",
    "\n",
    "        # Remaining space for system list\n",
    "        max_possible_extra = value_range[1] - value_range[0] + 1 - len(set(match_items))\n",
    "        extra_count = random.randint(-3, 5)  # allow shorter or longer system lists\n",
    "        extra_items = []\n",
    "\n",
    "        if extra_count > 0:\n",
    "            remaining = list(set(range(*value_range)) - set(match_items))\n",
    "            extra_items = random.sample(remaining, min(extra_count, len(remaining)))\n",
    "\n",
    "        system_items = match_items + extra_items\n",
    "        random.shuffle(system_items)\n",
    "\n",
    "        # Truncate system list randomly to allow shorter lists\n",
    "        if len(system_items) > 0 and random.random() < p:\n",
    "            max_len_variation = random.randint(0, 2)\n",
    "            system_len = max(1, len(system_items) - max_len_variation)\n",
    "            system_items = system_items[:system_len]\n",
    "\n",
    "        user_lists.append(user_list)\n",
    "        system_lists.append(system_items)\n",
    "\n",
    "    return user_lists, system_lists"
   ]
  },
  {
   "cell_type": "code",
   "execution_count": null,
   "metadata": {},
   "outputs": [
    {
     "name": "stdout",
     "output_type": "stream",
     "text": [
      "Average correctness: 0.9532\n"
     ]
    }
   ],
   "source": [
    "# Generate lists\n",
    "user_lists, system_lists = generate_user_system_lists(n=10000)\n",
    "\n",
    "# Compute average correctness\n",
    "total_correctness = 0\n",
    "for u, s in zip(user_lists, system_lists):\n",
    "    match = len(set(u) & set(s))\n",
    "    correctness = match / len(u)\n",
    "    total_correctness += correctness\n",
    "\n",
    "avg_correctness = total_correctness / len(user_lists)\n",
    "print(f\"Average correctness: {avg_correctness:.4f}\")"
   ]
  },
  {
   "cell_type": "code",
   "execution_count": null,
   "metadata": {},
   "outputs": [
    {
     "name": "stdout",
     "output_type": "stream",
     "text": [
      "20\n",
      "17\n"
     ]
    }
   ],
   "source": [
    "n = 15\n",
    "print(len(user_lists[n]))\n",
    "print(len(system_lists[n]))"
   ]
  },
  {
   "cell_type": "code",
   "execution_count": null,
   "metadata": {},
   "outputs": [],
   "source": []
  }
 ],
 "metadata": {
  "kernelspec": {
   "display_name": ".venv",
   "language": "python",
   "name": "python3"
  },
  "language_info": {
   "codemirror_mode": {
    "name": "ipython",
    "version": 3
   },
   "file_extension": ".py",
   "mimetype": "text/x-python",
   "name": "python",
   "nbconvert_exporter": "python",
   "pygments_lexer": "ipython3",
   "version": "3.12.11"
  }
 },
 "nbformat": 4,
 "nbformat_minor": 2
}
